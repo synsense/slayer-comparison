{
 "cells": [
  {
   "cell_type": "code",
   "execution_count": 18,
   "metadata": {},
   "outputs": [],
   "source": [
    "from pathlib import Path\n",
    "from tbparse import SummaryReader\n",
    "import pandas as pd\n",
    "import numpy as np\n",
    "import seaborn as sns\n",
    "from matplotlib import pyplot as plt\n",
    "import os\n",
    "import pickle"
   ]
  },
  {
   "cell_type": "code",
   "execution_count": 47,
   "metadata": {},
   "outputs": [
    {
     "name": "stdout",
     "output_type": "stream",
     "text": [
      "[20.0, 20.0]\n",
      "[100.0, 100.0]\n",
      "[100.0, 100.0]\n",
      "[30.0, 30.0]\n",
      "[30.0, 30.0]\n",
      "[30.0, 30.0]\n",
      "[30.0, 30.0]\n",
      "[30.0, 30.0]\n",
      "[50.0, 50.0]\n",
      "[50.0, 50.0]\n",
      "[50.0, 50.0]\n",
      "[50.0, 50.0]\n",
      "[50.0, 50.0]\n"
     ]
    }
   ],
   "source": [
    "dfs = []\n",
    "for root, dirs, files in os.walk(Path('lightning_logs/dvs_gestures')):\n",
    "    dirs.sort()\n",
    "    results = None\n",
    "    if 'hparams.yaml' in files:\n",
    "        results = SummaryReader(root, pivot=True)\n",
    "        df = results.scalars\n",
    "        hp = results.hparams\n",
    "        # drop a few columns that we don't use\n",
    "        df = df[df.columns[~df.columns.str.endswith(\"weight_g_epoch\") & ~df.columns.str.endswith(\"weight_g_step\") & ~df.columns.str.endswith(\"weight_v_epoch\") & ~df.columns.str.endswith(\"weight_v_step\")]]\n",
    "        df = df.drop(columns='hp_metric')\n",
    "        # add hyperparameters to table\n",
    "        if 'exodus' in root:\n",
    "            df['method'] = 'EXODUS'\n",
    "        elif 'slayer' in root:\n",
    "            df['method'] = 'SLAYER'\n",
    "        tau_mem = hp['tau_mem'][0]\n",
    "        if not isinstance(tau_mem, float):\n",
    "            tau_mem = tau_mem[0]\n",
    "        df['tau_mem'] = tau_mem\n",
    "        df['run'] = root.split(\"/\")[-1] # we ran each experiment multiple times\n",
    "        dfs.append(df)\n",
    "df = pd.concat(dfs, ignore_index=True)"
   ]
  },
  {
   "cell_type": "code",
   "execution_count": 43,
   "metadata": {},
   "outputs": [
    {
     "data": {
      "text/plain": [
       "50.0"
      ]
     },
     "execution_count": 43,
     "metadata": {},
     "output_type": "execute_result"
    }
   ],
   "source": []
  },
  {
   "cell_type": "code",
   "execution_count": 54,
   "metadata": {},
   "outputs": [],
   "source": [
    "test_accs = df[['test_acc', 'method', 'tau_mem', 'run']].dropna()"
   ]
  },
  {
   "cell_type": "code",
   "execution_count": 66,
   "metadata": {},
   "outputs": [
    {
     "name": "stderr",
     "output_type": "stream",
     "text": [
      "/tmp/ipykernel_3423870/854045119.py:1: FutureWarning: Dropping of nuisance columns in DataFrame reductions (with 'numeric_only=None') is deprecated; in a future version this will raise TypeError.  Select only valid columns before calling the reduction.\n",
      "  test_accs[test_accs[\"tau_mem\"] == 30].mean()\n"
     ]
    },
    {
     "data": {
      "text/plain": [
       "test_acc     0.945385\n",
       "tau_mem     30.000000\n",
       "dtype: float64"
      ]
     },
     "execution_count": 66,
     "metadata": {},
     "output_type": "execute_result"
    }
   ],
   "source": [
    "test_accs[test_accs[\"tau_mem\"] == 30].mean()"
   ]
  },
  {
   "cell_type": "code",
   "execution_count": 67,
   "metadata": {},
   "outputs": [
    {
     "name": "stderr",
     "output_type": "stream",
     "text": [
      "/tmp/ipykernel_3423870/2249458196.py:1: FutureWarning: Dropping of nuisance columns in DataFrame reductions (with 'numeric_only=None') is deprecated; in a future version this will raise TypeError.  Select only valid columns before calling the reduction.\n",
      "  test_accs[test_accs[\"tau_mem\"] == 30].std()\n"
     ]
    },
    {
     "data": {
      "text/plain": [
       "test_acc    0.007882\n",
       "tau_mem     0.000000\n",
       "dtype: float64"
      ]
     },
     "execution_count": 67,
     "metadata": {},
     "output_type": "execute_result"
    }
   ],
   "source": [
    "test_accs[test_accs[\"tau_mem\"] == 30].std()"
   ]
  },
  {
   "cell_type": "code",
   "execution_count": null,
   "metadata": {},
   "outputs": [],
   "source": []
  }
 ],
 "metadata": {
  "kernelspec": {
   "display_name": "Python 3.9.12 ('slayer-comparison')",
   "language": "python",
   "name": "python3"
  },
  "language_info": {
   "codemirror_mode": {
    "name": "ipython",
    "version": 3
   },
   "file_extension": ".py",
   "mimetype": "text/x-python",
   "name": "python",
   "nbconvert_exporter": "python",
   "pygments_lexer": "ipython3",
   "version": "3.9.12"
  },
  "orig_nbformat": 4,
  "vscode": {
   "interpreter": {
    "hash": "786676cceec4cb6cacef9817bfe5058e9b452ab7d44938fcf0da01ec94fa2a31"
   }
  }
 },
 "nbformat": 4,
 "nbformat_minor": 2
}
