{
 "cells": [
  {
   "cell_type": "code",
   "execution_count": null,
   "metadata": {},
   "outputs": [],
   "source": [
    "from data_modules.dvs_gesture import DVSGesture\n",
    "import torch.nn as nn\n",
    "import torch\n",
    "import pytorch_lightning as pl\n",
    "from tqdm.auto import tqdm\n",
    "from dvs_gesture_model import ExodusNetwork, SlayerNetwork"
   ]
  },
  {
   "cell_type": "code",
   "execution_count": null,
   "metadata": {},
   "outputs": [],
   "source": [
    "batch_size = 32\n",
    "dataset = DVSGesture(\n",
    "    batch_size=32,\n",
    "    bin_dt=5000,\n",
    "    spatial_factor=0.5,\n",
    "    fraction=1,\n",
    "    augmentation=False,\n",
    "    num_time_bins=300,\n",
    ")\n",
    "dataset.setup(reset_cache=False)\n",
    "dataset.prepare_data()"
   ]
  },
  {
   "cell_type": "code",
   "execution_count": null,
   "metadata": {},
   "outputs": [],
   "source": [
    "# dataloader = dataset.val_dataloader()\n",
    "trainloader = dataset.train_dataloader()"
   ]
  },
  {
   "cell_type": "code",
   "execution_count": null,
   "metadata": {},
   "outputs": [],
   "source": [
    "events = next(iter(trainloader))[0]"
   ]
  },
  {
   "cell_type": "code",
   "execution_count": null,
   "metadata": {},
   "outputs": [],
   "source": [
    "events.shape"
   ]
  },
  {
   "cell_type": "code",
   "execution_count": null,
   "metadata": {},
   "outputs": [],
   "source": [
    "from tqdm.auto import tqdm\n",
    "\n",
    "def cycle_through_trainloader():\n",
    "    for data, targets in tqdm(trainloader):\n",
    "        data = data.cuda()\n",
    "        targets = targets.cuda()\n",
    "        \n",
    "cycle_through_trainloader()"
   ]
  },
  {
   "cell_type": "code",
   "execution_count": null,
   "metadata": {},
   "outputs": [],
   "source": [
    "data, label = next(iter(dataset.val_dataloader()))"
   ]
  },
  {
   "cell_type": "code",
   "execution_count": null,
   "metadata": {},
   "outputs": [],
   "source": [
    "data.shape"
   ]
  },
  {
   "cell_type": "code",
   "execution_count": null,
   "metadata": {},
   "outputs": [],
   "source": [
    "model_kwargs = dict(\n",
    "    batch_size=32,\n",
    "    tau_mem=10,\n",
    "    spike_threshold=0.25,\n",
    "    base_channels=2,\n",
    "    kernel_size=3,\n",
    "    num_conv_layers=4,\n",
    "    width_grad=1.0,\n",
    "    scale_grad=1.0,\n",
    "    iaf=True,\n",
    "    num_timesteps=300,\n",
    "    dropout=True,\n",
    "    batchnorm=False,\n",
    "    norm_weights=True,\n",
    ")"
   ]
  },
  {
   "cell_type": "code",
   "execution_count": null,
   "metadata": {},
   "outputs": [],
   "source": [
    "from train_dvs_gesture import compare_forward\n",
    "\n",
    "sinabs_model = ExodusNetwork(backend=\"sinabs\", **model_kwargs)\n",
    "exodus_model = ExodusNetwork(**model_kwargs)\n",
    "slayer_model = SlayerNetwork(**model_kwargs)\n",
    "\n",
    "proto_params = exodus_model.parameter_copy\n",
    "sinabs_model.import_parameters(proto_params)\n",
    "slayer_model.import_parameters(proto_params)\n",
    "\n",
    "compare_forward({\"exodus\": exodus_model, \"slayer\": slayer_model}, data=dataset, no_lightning=True)\n",
    "compare_forward({\"exodus\": sinabs_model, \"slayer\": slayer_model}, data=dataset, no_lightning=True)"
   ]
  },
  {
   "cell_type": "code",
   "execution_count": null,
   "metadata": {},
   "outputs": [],
   "source": [
    "from time import time\n",
    "\n",
    "models = {\"BPTT\": sinabs_model, \"EXODUS\": exodus_model, \"SLAYER\": slayer_model}\n",
    "times = {k: [] for k in models}\n",
    "\n",
    "for name, model in models.items():\n",
    "    for i in tqdm(range(10)):\n",
    "        t0 = time()\n",
    "        for data, target in tqdm(trainloader):\n",
    "            data = data.cuda()\n",
    "            target = target.cuda()\n",
    "            model.reset_states()\n",
    "            y_hat = model(data)\n",
    "            y_hat.sum().backward()\n",
    "        times[name].append(time() - t0)\n",
    "    "
   ]
  },
  {
   "cell_type": "code",
   "execution_count": null,
   "metadata": {},
   "outputs": [],
   "source": [
    "import numpy as np\n",
    "for model, ts in times.items():\n",
    "    t = np.array(ts)\n",
    "    print(f\"{model}: ({np.mean(t)} +- {np.std(t)}) s\")\n",
    "    # np.save(f\"timings_{model}.npy\", t)"
   ]
  },
  {
   "cell_type": "code",
   "execution_count": 4,
   "metadata": {
    "tags": []
   },
   "outputs": [],
   "source": [
    "import pandas as pd"
   ]
  },
  {
   "cell_type": "code",
   "execution_count": 16,
   "metadata": {},
   "outputs": [],
   "source": [
    "pd.DataFrame(times).to_csv(\"times.csv\")"
   ]
  }
 ],
 "metadata": {
  "interpreter": {
   "hash": "e6cb2531ff3209080f8ff5f4f1b83a3f6fd522559ade981afeb04664418b3902"
  },
  "kernelspec": {
   "display_name": "Python 3 (ipykernel)",
   "language": "python",
   "name": "python3"
  },
  "language_info": {
   "codemirror_mode": {
    "name": "ipython",
    "version": 3
   },
   "file_extension": ".py",
   "mimetype": "text/x-python",
   "name": "python",
   "nbconvert_exporter": "python",
   "pygments_lexer": "ipython3",
   "version": "3.8.10"
  }
 },
 "nbformat": 4,
 "nbformat_minor": 4
}
