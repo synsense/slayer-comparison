{
 "cells": [
  {
   "cell_type": "code",
   "execution_count": null,
   "metadata": {},
   "outputs": [],
   "source": [
    "from dvs_gesture import DVSGesture\n",
    "import torch.nn as nn\n",
    "import torch\n",
    "import pytorch_lightning as pl\n",
    "from tqdm.auto import tqdm\n",
    "from dvs_gesture_model import ExodusNetwork, SlayerNetwork"
   ]
  },
  {
   "cell_type": "code",
   "execution_count": null,
   "metadata": {},
   "outputs": [],
   "source": [
    "batch_size = 16\n",
    "dataset = DVSGesture(\n",
    "    batch_size=batch_size,\n",
    "    bin_dt=5000,\n",
    "    spatial_factor=0.5,\n",
    "    augmentation=True,\n",
    ")\n",
    "dataset.setup(reset_cache=False)\n",
    "dataset.prepare_data()"
   ]
  },
  {
   "cell_type": "code",
   "execution_count": null,
   "metadata": {},
   "outputs": [],
   "source": [
    "# dataloader = dataset.val_dataloader()\n",
    "trainloader = dataset.train_dataloader()"
   ]
  },
  {
   "cell_type": "code",
   "execution_count": null,
   "metadata": {},
   "outputs": [],
   "source": [
    "events = next(iter(trainloader))[0]"
   ]
  },
  {
   "cell_type": "code",
   "execution_count": null,
   "metadata": {},
   "outputs": [],
   "source": [
    "events.shape"
   ]
  },
  {
   "cell_type": "code",
   "execution_count": null,
   "metadata": {},
   "outputs": [],
   "source": [
    "import matplotlib.pyplot as plt\n",
    "\n",
    "plt.imshow(events[7, 100:150].sum(0)[0])"
   ]
  },
  {
   "cell_type": "code",
   "execution_count": null,
   "metadata": {},
   "outputs": [],
   "source": [
    "from tqdm.auto import tqdm\n",
    "\n",
    "def cycle_through_trainloader():\n",
    "    for data, targets in tqdm(trainloader):\n",
    "        data = data.cuda()\n",
    "        targets = targets.cuda()\n",
    "        \n",
    "cycle_through_trainloader()"
   ]
  },
  {
   "cell_type": "code",
   "execution_count": null,
   "metadata": {},
   "outputs": [],
   "source": [
    "data, label = next(iter(dataset.val_dataloader()))"
   ]
  },
  {
   "cell_type": "code",
   "execution_count": null,
   "metadata": {},
   "outputs": [],
   "source": [
    "data.shape"
   ]
  },
  {
   "cell_type": "code",
   "execution_count": null,
   "metadata": {},
   "outputs": [],
   "source": [
    "model_kwargs = dict(\n",
    "    batch_size=16,\n",
    "    tau_mem=10,\n",
    "    spike_threshold=0.25,\n",
    "    base_channels=2,\n",
    "    kernel_size=3,\n",
    "    num_conv_layers=4,\n",
    "    width_grad=1.0,\n",
    "    scale_grad=1.0,\n",
    "    iaf=True,\n",
    "    num_timesteps=300,\n",
    "    dropout=True,\n",
    "    batchnorm=False,\n",
    "    norm_weights=True,\n",
    ")"
   ]
  },
  {
   "cell_type": "code",
   "execution_count": null,
   "metadata": {},
   "outputs": [],
   "source": [
    "from train_dvs_gesture import compare_forward\n",
    "\n",
    "sinabs_model = ExodusNetwork(backend=\"sinabs\", **model_kwargs)\n",
    "exodus_model = ExodusNetwork(**model_kwargs)\n",
    "slayer_model = SlayerNetwork(**model_kwargs)\n",
    "\n",
    "proto_params = exodus_model.parameter_copy\n",
    "sinabs_model.import_parameters(proto_params)\n",
    "slayer_model.import_parameters(proto_params)\n",
    "\n",
    "compare_forward({\"exodus\": exodus_model, \"slayer\": slayer_model}, data=dataset, no_lightning=True)\n",
    "compare_forward({\"exodus\": sinabs_model, \"slayer\": slayer_model}, data=dataset, no_lightning=True)"
   ]
  },
  {
   "cell_type": "code",
   "execution_count": null,
   "metadata": {},
   "outputs": [],
   "source": [
    "from time import time\n",
    "import numpy as np\n",
    "\n",
    "algorithms = [\"EXODUS\", \"SLAYER\", \"BPTT\"]\n",
    "times = {algo: {\"forward\": [], \"backward\": [], \"reset\": []} for algo in algorithms}\n",
    "\n",
    "models = {\"EXODUS\": exodus_model, \"SLAYER\": slayer_model, \"BPTT\": sinabs_model}\n",
    "for algo, model in models.items():\n",
    "    for i in tqdm(range(3)):\n",
    "        times_epoch = {\"forward\": [], \"backward\": [], \"reset\": []}\n",
    "        for data, target in tqdm(trainloader):        \n",
    "            data = data.cuda()\n",
    "            target = target.cuda()\n",
    "            t0 = time()\n",
    "            model.reset_states()\n",
    "            t1 = time()\n",
    "            y_hat = model(data)\n",
    "            t2 = time()\n",
    "            y_hat.sum().backward()\n",
    "            t3 = time()\n",
    "            times_epoch[\"reset\"].append(t1-t0)\n",
    "            times_epoch[\"forward\"].append(t2-t1)\n",
    "            times_epoch[\"backward\"].append(t3-t2)\n",
    "        for step, t in times_epoch.items():\n",
    "            times[algo][step].append(np.mean(t))"
   ]
  },
  {
   "cell_type": "code",
   "execution_count": null,
   "metadata": {},
   "outputs": [],
   "source": [
    "import numpy as np\n",
    "for action in times[\"EXODUS\"].keys():\n",
    "    print(action)\n",
    "    for model, ts in times.items():\n",
    "        t = np.array(ts[action])\n",
    "        print(f\"\\t{model}: ({np.mean(t):.2e} +- {np.std(t):.2e}) s\")\n",
    "        # np.save(f\"timings_{model}.npy\", t)"
   ]
  },
  {
   "cell_type": "code",
   "execution_count": null,
   "metadata": {
    "tags": []
   },
   "outputs": [],
   "source": [
    "import pandas as pd"
   ]
  },
  {
   "cell_type": "code",
   "execution_count": null,
   "metadata": {},
   "outputs": [],
   "source": [
    "pd.DataFrame(times).to_csv(\"times_new.csv\")"
   ]
  },
  {
   "cell_type": "code",
   "execution_count": null,
   "metadata": {},
   "outputs": [],
   "source": [
    "# Convert previously saved csv to one line per measurement\n",
    "\n",
    "times = pd.read_csv(\"times_new.csv\", index_col=0)\n",
    "\n",
    "table = [\n",
    "    pd.DataFrame(\n",
    "        {\"algorithm\": algo, \"time\": t, \"step\": step}\n",
    "        for step in times.index\n",
    "        for algo in times.loc[step].index\n",
    "        for t in eval((times.loc[step].loc[algo]).replace(\"nan, \", \"\").replace(\"nan\", \"\"))\n",
    "    )\n",
    "]\n",
    "table = pd.concat(table, ignore_index=True)\n",
    "table.to_csv(\"times_new_table.csv\")"
   ]
  }
 ],
 "metadata": {
  "kernelspec": {
   "display_name": "Python 3.9.12 ('slayer-comparison')",
   "language": "python",
   "name": "python3"
  },
  "language_info": {
   "codemirror_mode": {
    "name": "ipython",
    "version": 3
   },
   "file_extension": ".py",
   "mimetype": "text/x-python",
   "name": "python",
   "nbconvert_exporter": "python",
   "pygments_lexer": "ipython3",
   "version": "3.9.12"
  },
  "vscode": {
   "interpreter": {
    "hash": "786676cceec4cb6cacef9817bfe5058e9b452ab7d44938fcf0da01ec94fa2a31"
   }
  }
 },
 "nbformat": 4,
 "nbformat_minor": 4
}
