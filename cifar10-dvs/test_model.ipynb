{
 "cells": [
  {
   "cell_type": "code",
   "execution_count": 11,
   "metadata": {},
   "outputs": [],
   "source": [
    "import torch\n",
    "import sinabs.exodus.layers as sel\n",
    "import sinabs.layers as sl\n",
    "from resnet import sew_resnet18"
   ]
  },
  {
   "cell_type": "code",
   "execution_count": 19,
   "metadata": {},
   "outputs": [],
   "source": [
    "batch_size = 2\n",
    "model = sew_resnet18(cnf=\"ADD\", num_classes=10, spiking_neuron=sl.LIFSqueeze, batch_size=batch_size, tau_mem=30.)"
   ]
  },
  {
   "cell_type": "code",
   "execution_count": 20,
   "metadata": {},
   "outputs": [],
   "source": [
    "n_time_steps = 10\n",
    "data = torch.rand((batch_size*n_time_steps, 3, 128, 128))"
   ]
  },
  {
   "cell_type": "code",
   "execution_count": 21,
   "metadata": {},
   "outputs": [
    {
     "data": {
      "text/plain": [
       "torch.Size([20, 10])"
      ]
     },
     "execution_count": 21,
     "metadata": {},
     "output_type": "execute_result"
    }
   ],
   "source": [
    "model(data).shape"
   ]
  },
  {
   "cell_type": "code",
   "execution_count": 22,
   "metadata": {},
   "outputs": [],
   "source": [
    "from exodus_model import ExodusNetwork"
   ]
  },
  {
   "cell_type": "code",
   "execution_count": 24,
   "metadata": {},
   "outputs": [],
   "source": [
    "pl_model = ExodusNetwork(\n",
    "    tau_mem = 30.,\n",
    "    batch_size=10,\n",
    "    \n",
    ")"
   ]
  },
  {
   "cell_type": "code",
   "execution_count": 25,
   "metadata": {},
   "outputs": [
    {
     "data": {
      "text/plain": [
       "[LIFSqueeze(spike_threshold=1.0, tau_mem=29.999974966070084),\n",
       " LIFSqueeze(spike_threshold=1.0, tau_mem=29.999974966070084),\n",
       " LIFSqueeze(spike_threshold=1.0, tau_mem=29.999974966070084),\n",
       " LIFSqueeze(spike_threshold=1.0, tau_mem=29.999974966070084),\n",
       " LIFSqueeze(spike_threshold=1.0, tau_mem=29.999974966070084),\n",
       " LIFSqueeze(spike_threshold=1.0, tau_mem=29.999974966070084),\n",
       " LIFSqueeze(spike_threshold=1.0, tau_mem=29.999974966070084),\n",
       " LIFSqueeze(spike_threshold=1.0, tau_mem=29.999974966070084),\n",
       " LIFSqueeze(spike_threshold=1.0, tau_mem=29.999974966070084),\n",
       " LIFSqueeze(spike_threshold=1.0, tau_mem=29.999974966070084),\n",
       " LIFSqueeze(spike_threshold=1.0, tau_mem=29.999974966070084),\n",
       " LIFSqueeze(spike_threshold=1.0, tau_mem=29.999974966070084),\n",
       " LIFSqueeze(spike_threshold=1.0, tau_mem=29.999974966070084),\n",
       " LIFSqueeze(spike_threshold=1.0, tau_mem=29.999974966070084),\n",
       " LIFSqueeze(spike_threshold=1.0, tau_mem=29.999974966070084),\n",
       " LIFSqueeze(spike_threshold=1.0, tau_mem=29.999974966070084),\n",
       " LIFSqueeze(spike_threshold=1.0, tau_mem=29.999974966070084),\n",
       " LIFSqueeze(spike_threshold=1.0, tau_mem=29.999974966070084),\n",
       " LIFSqueeze(spike_threshold=1.0, tau_mem=29.999974966070084),\n",
       " LIFSqueeze(spike_threshold=1.0, tau_mem=29.999974966070084)]"
      ]
     },
     "execution_count": 25,
     "metadata": {},
     "output_type": "execute_result"
    }
   ],
   "source": [
    "pl_model.sinabs_layers"
   ]
  }
 ],
 "metadata": {
  "kernelspec": {
   "display_name": "Python 3.9.12 ('slayer-comparison')",
   "language": "python",
   "name": "python3"
  },
  "language_info": {
   "codemirror_mode": {
    "name": "ipython",
    "version": 3
   },
   "file_extension": ".py",
   "mimetype": "text/x-python",
   "name": "python",
   "nbconvert_exporter": "python",
   "pygments_lexer": "ipython3",
   "version": "3.9.12"
  },
  "orig_nbformat": 4,
  "vscode": {
   "interpreter": {
    "hash": "786676cceec4cb6cacef9817bfe5058e9b452ab7d44938fcf0da01ec94fa2a31"
   }
  }
 },
 "nbformat": 4,
 "nbformat_minor": 2
}
