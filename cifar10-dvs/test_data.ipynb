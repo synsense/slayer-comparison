{
 "cells": [
  {
   "cell_type": "code",
   "execution_count": 1,
   "metadata": {},
   "outputs": [],
   "source": [
    "from cifar10_dvs import CIFAR10DVS"
   ]
  },
  {
   "cell_type": "code",
   "execution_count": 3,
   "metadata": {},
   "outputs": [],
   "source": [
    "batch_size = 16\n",
    "\n",
    "dataset = CIFAR10DVS(\n",
    "    batch_size=batch_size,\n",
    "    bin_dt = 10000,\n",
    ")\n",
    "dataset.prepare_data()\n",
    "dataset.setup()"
   ]
  },
  {
   "cell_type": "code",
   "execution_count": 4,
   "metadata": {},
   "outputs": [],
   "source": [
    "trainloader = dataset.train_dataloader()"
   ]
  },
  {
   "cell_type": "code",
   "execution_count": 5,
   "metadata": {},
   "outputs": [],
   "source": [
    "frames, target = next(iter(trainloader))"
   ]
  },
  {
   "cell_type": "code",
   "execution_count": 7,
   "metadata": {},
   "outputs": [
    {
     "data": {
      "text/plain": [
       "torch.Size([16, 135, 2, 128, 128])"
      ]
     },
     "execution_count": 7,
     "metadata": {},
     "output_type": "execute_result"
    }
   ],
   "source": [
    "frames.shape"
   ]
  },
  {
   "cell_type": "code",
   "execution_count": 9,
   "metadata": {},
   "outputs": [
    {
     "data": {
      "application/vnd.jupyter.widget-view+json": {
       "model_id": "e6b9af8d63cc45f286da8dae8d7f1557",
       "version_major": 2,
       "version_minor": 0
      },
      "text/plain": [
       "  0%|          | 0/10000 [00:00<?, ?it/s]"
      ]
     },
     "metadata": {},
     "output_type": "display_data"
    }
   ],
   "source": [
    "import tonic\n",
    "import torch\n",
    "from tqdm.auto import tqdm\n",
    "\n",
    "orig_data = tonic.datasets.CIFAR10DVS('data')\n",
    "\n",
    "orig_loader = torch.utils.data.DataLoader(orig_data, num_workers=4)\n",
    "\n",
    "timestamps = []\n",
    "for events, label in tqdm(orig_data):\n",
    "    timestamps.append(events[\"t\"][-1])"
   ]
  },
  {
   "cell_type": "code",
   "execution_count": 10,
   "metadata": {},
   "outputs": [
    {
     "data": {
      "text/plain": [
       "(array([  1.,   0.,   0.,   2.,   0.,   0.,   4.,   0.,   0.,   9.,   1.,\n",
       "          0.,   5.,  22.,   0.,   0.,  36.,   0.,   0.,  64.,   4.,   1.,\n",
       "        113.,  67.,   2.,  13., 216.,   3.,   1., 341.,  19.,   1., 411.,\n",
       "        103.,   7., 189., 338.,  11.,  20., 567.,  34.,   8., 658., 163.,\n",
       "         11., 443., 470.,  33., 163., 813., 104.,  23., 762., 239.,  24.,\n",
       "        428., 396.,  69., 198., 474., 107.,  62., 377., 130.,  44., 222.,\n",
       "        163.,  35., 112., 136.,  64.,  39., 110.,  56.,  19.,  62.,  43.,\n",
       "         18.,  25.,  27.,  13.,   9.,  14.,   8.,   4.,   5.,   3.,   1.,\n",
       "          3.,   1.,   0.,   2.,   0.,   1.,   0.,   0.,   0.,   0.,   0.,\n",
       "          1.]),\n",
       " array([1141643.  , 1144728.09, 1147813.18, 1150898.27, 1153983.36,\n",
       "        1157068.45, 1160153.54, 1163238.63, 1166323.72, 1169408.81,\n",
       "        1172493.9 , 1175578.99, 1178664.08, 1181749.17, 1184834.26,\n",
       "        1187919.35, 1191004.44, 1194089.53, 1197174.62, 1200259.71,\n",
       "        1203344.8 , 1206429.89, 1209514.98, 1212600.07, 1215685.16,\n",
       "        1218770.25, 1221855.34, 1224940.43, 1228025.52, 1231110.61,\n",
       "        1234195.7 , 1237280.79, 1240365.88, 1243450.97, 1246536.06,\n",
       "        1249621.15, 1252706.24, 1255791.33, 1258876.42, 1261961.51,\n",
       "        1265046.6 , 1268131.69, 1271216.78, 1274301.87, 1277386.96,\n",
       "        1280472.05, 1283557.14, 1286642.23, 1289727.32, 1292812.41,\n",
       "        1295897.5 , 1298982.59, 1302067.68, 1305152.77, 1308237.86,\n",
       "        1311322.95, 1314408.04, 1317493.13, 1320578.22, 1323663.31,\n",
       "        1326748.4 , 1329833.49, 1332918.58, 1336003.67, 1339088.76,\n",
       "        1342173.85, 1345258.94, 1348344.03, 1351429.12, 1354514.21,\n",
       "        1357599.3 , 1360684.39, 1363769.48, 1366854.57, 1369939.66,\n",
       "        1373024.75, 1376109.84, 1379194.93, 1382280.02, 1385365.11,\n",
       "        1388450.2 , 1391535.29, 1394620.38, 1397705.47, 1400790.56,\n",
       "        1403875.65, 1406960.74, 1410045.83, 1413130.92, 1416216.01,\n",
       "        1419301.1 , 1422386.19, 1425471.28, 1428556.37, 1431641.46,\n",
       "        1434726.55, 1437811.64, 1440896.73, 1443981.82, 1447066.91,\n",
       "        1450152.  ]),\n",
       " <BarContainer object of 100 artists>)"
      ]
     },
     "execution_count": 10,
     "metadata": {},
     "output_type": "execute_result"
    },
    {
     "data": {
      "image/png": "[encoded data removed]",
      "text/plain": [
       "<Figure size 432x288 with 1 Axes>"
      ]
     },
     "metadata": {
      "needs_background": "light"
     },
     "output_type": "display_data"
    }
   ],
   "source": [
    "import matplotlib.pyplot as plt\n",
    "\n",
    "plt.hist(timestamps, bins=100)"
   ]
  }
 ],
 "metadata": {
  "kernelspec": {
   "display_name": "Python 3.9.12 ('slayer-comparison')",
   "language": "python",
   "name": "python3"
  },
  "language_info": {
   "codemirror_mode": {
    "name": "ipython",
    "version": 3
   },
   "file_extension": ".py",
   "mimetype": "text/x-python",
   "name": "python",
   "nbconvert_exporter": "python",
   "pygments_lexer": "ipython3",
   "version": "3.9.12"
  },
  "orig_nbformat": 4,
  "vscode": {
   "interpreter": {
    "hash": "786676cceec4cb6cacef9817bfe5058e9b452ab7d44938fcf0da01ec94fa2a31"
   }
  }
 },
 "nbformat": 4,
 "nbformat_minor": 2
}
