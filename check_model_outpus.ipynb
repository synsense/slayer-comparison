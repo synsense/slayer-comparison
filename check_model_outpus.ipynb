{
 "cells": [
  {
   "cell_type": "code",
   "execution_count": 1,
   "metadata": {},
   "outputs": [],
   "source": [
    "from torch.utils.data import DataLoader\n",
    "from data.oxford_dataset import OxfordDataset\n",
    "from lava_network import LavaNetwork\n",
    "from sinabs_network import SinabsNetwork\n",
    "import numpy as np"
   ]
  },
  {
   "cell_type": "code",
   "execution_count": 2,
   "metadata": {},
   "outputs": [
    {
     "name": "stdout",
     "output_type": "stream",
     "text": [
      "tau_mem: 9.491221581029905\n"
     ]
    }
   ],
   "source": [
    "voltage_decay = 0.1\n",
    "tau_mem = -1. / np.log(1-voltage_decay)\n",
    "threshold = 0.1\n",
    "learning_rate = 1e-3\n",
    "weight_decay = 1e-5\n",
    "print(f\"tau_mem: {tau_mem}\")\n",
    "\n",
    "sinabs_model = SinabsNetwork(tau_mem=tau_mem, spike_threshold=threshold, learning_rate=learning_rate, weight_decay=weight_decay)\n",
    "lava_model = LavaNetwork(voltage_decay=voltage_decay, spike_threshold=threshold, learning_rate=learning_rate, weight_decay=weight_decay)\n",
    "\n",
    "training_set = OxfordDataset()\n",
    "train_loader = DataLoader(training_set, batch_size=1)\n",
    "data, target = next(iter(train_loader))"
   ]
  },
  {
   "cell_type": "code",
   "execution_count": 3,
   "metadata": {},
   "outputs": [
    {
     "data": {
      "text/plain": [
       "tensor(12697., grad_fn=<SumBackward0>)"
      ]
     },
     "execution_count": 3,
     "metadata": {},
     "output_type": "execute_result"
    }
   ],
   "source": [
    "lava_model(data).sum()"
   ]
  },
  {
   "cell_type": "code",
   "execution_count": 17,
   "metadata": {},
   "outputs": [
    {
     "data": {
      "text/plain": [
       "tensor(12893., grad_fn=<SumBackward0>)"
      ]
     },
     "execution_count": 17,
     "metadata": {},
     "output_type": "execute_result"
    }
   ],
   "source": [
    "sinabs_model.reset_states()\n",
    "sinabs_model(data.movedim(2,1)/voltage_decay).sum()"
   ]
  },
  {
   "cell_type": "code",
   "execution_count": 13,
   "metadata": {},
   "outputs": [
    {
     "data": {
      "text/plain": [
       "[LIF-module, backend: sinabs]"
      ]
     },
     "execution_count": 13,
     "metadata": {},
     "output_type": "execute_result"
    }
   ],
   "source": [
    "sinabs_model.spiking_layers"
   ]
  }
 ],
 "metadata": {
  "interpreter": {
   "hash": "6655b1c31fcea1a5be4a5f024c0eb8efc637aa51331bc6879b91e011208c98ab"
  },
  "kernelspec": {
   "display_name": "Python 3.9.9 64-bit ('lava': conda)",
   "language": "python",
   "name": "python3"
  },
  "language_info": {
   "codemirror_mode": {
    "name": "ipython",
    "version": 3
   },
   "file_extension": ".py",
   "mimetype": "text/x-python",
   "name": "python",
   "nbconvert_exporter": "python",
   "pygments_lexer": "ipython3",
   "version": "3.9.9"
  },
  "orig_nbformat": 4
 },
 "nbformat": 4,
 "nbformat_minor": 2
}
