{
 "cells": [
  {
   "cell_type": "code",
   "execution_count": 1,
   "metadata": {},
   "outputs": [],
   "source": [
    "from smnist_exodus import ExodusNetwork\n",
    "from smnist_slayer import SlayerNetwork\n",
    "import torch\n",
    "import matplotlib.pyplot as plt\n",
    "import torch.nn as nn"
   ]
  },
  {
   "cell_type": "code",
   "execution_count": 2,
   "metadata": {},
   "outputs": [],
   "source": [
    "batch_size = 4\n",
    "learning_rate = 1e-3\n",
    "n_hidden_layers = 3\n",
    "tau_mem = 10000.\n",
    "spike_threshold = 0.1\n",
    "width_grad = 1.\n",
    "scale_grad = 1. \n",
    "n_time_bins = 28*28\n",
    "encoding_dim = 80\n",
    "\n",
    "\n",
    "slayer_model = SlayerNetwork(\n",
    "    tau_mem=tau_mem,\n",
    "    spike_threshold=spike_threshold,\n",
    "    learning_rate=learning_rate,\n",
    "    n_hidden_layers=n_hidden_layers,\n",
    "    width_grad=width_grad,\n",
    "    scale_grad=scale_grad,\n",
    "    encoding_dim=encoding_dim,\n",
    "    hidden_dim=100,\n",
    "    decoding_func='sum_loss',\n",
    "    n_time_bins=n_time_bins,\n",
    ").cuda()\n",
    "\n",
    "init_weights = slayer_model.state_dict()\n",
    "\n",
    "exodus_model = ExodusNetwork(\n",
    "    tau_mem=tau_mem,\n",
    "    spike_threshold=spike_threshold,\n",
    "    learning_rate=learning_rate,\n",
    "    n_hidden_layers=n_hidden_layers,\n",
    "    width_grad=width_grad,\n",
    "    scale_grad=scale_grad,\n",
    "    encoding_dim=encoding_dim,\n",
    "    hidden_dim=100,\n",
    "    decoding_func='sum_loss',\n",
    "    init_weights=init_weights,\n",
    ").cuda()"
   ]
  },
  {
   "cell_type": "code",
   "execution_count": 3,
   "metadata": {},
   "outputs": [
    {
     "data": {
      "text/plain": [
       "tensor(75230., device='cuda:0')"
      ]
     },
     "execution_count": 3,
     "metadata": {},
     "output_type": "execute_result"
    }
   ],
   "source": [
    "dummy_input = (torch.rand((batch_size, n_time_bins, encoding_dim)) < 0.3).float().cuda()\n",
    "dummy_input.sum()"
   ]
  },
  {
   "cell_type": "code",
   "execution_count": 4,
   "metadata": {},
   "outputs": [
    {
     "name": "stdout",
     "output_type": "stream",
     "text": [
      "shape: torch.Size([4, 784, 10]), sum: -4498.5498046875\n"
     ]
    }
   ],
   "source": [
    "exodus_model.reset_states()\n",
    "exodus_output = exodus_model(dummy_input)\n",
    "print(f\"shape: {exodus_output.shape}, sum: {exodus_output.sum()}\")"
   ]
  },
  {
   "cell_type": "code",
   "execution_count": 5,
   "metadata": {},
   "outputs": [
    {
     "name": "stdout",
     "output_type": "stream",
     "text": [
      "shape: torch.Size([4, 784, 10]), sum: -4498.2841796875\n"
     ]
    }
   ],
   "source": [
    "slayer_output = slayer_model(dummy_input)\n",
    "print(f\"shape: {slayer_output.shape}, sum: {slayer_output.sum()}\")"
   ]
  },
  {
   "cell_type": "code",
   "execution_count": null,
   "metadata": {},
   "outputs": [],
   "source": []
  }
 ],
 "metadata": {
  "interpreter": {
   "hash": "2d6a94462a26d8ebd4c619457eae0bbe74b376cb4ab9d9397dc10b7ff341a8b0"
  },
  "kernelspec": {
   "display_name": "Python 3.9.12 ('slayer_comparison')",
   "language": "python",
   "name": "python3"
  },
  "language_info": {
   "codemirror_mode": {
    "name": "ipython",
    "version": 3
   },
   "file_extension": ".py",
   "mimetype": "text/x-python",
   "name": "python",
   "nbconvert_exporter": "python",
   "pygments_lexer": "ipython3",
   "version": "3.9.12"
  },
  "orig_nbformat": 4
 },
 "nbformat": 4,
 "nbformat_minor": 2
}
