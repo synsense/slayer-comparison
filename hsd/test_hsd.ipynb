{
 "cells": [
  {
   "cell_type": "code",
   "execution_count": null,
   "metadata": {},
   "outputs": [],
   "source": [
    "from hsd import HSD\n",
    "from hsd_exodus import ExodusNetwork\n",
    "from hsd_slayer import SlayerNetwork"
   ]
  },
  {
   "cell_type": "code",
   "execution_count": null,
   "metadata": {},
   "outputs": [],
   "source": [
    "dataset = HSD(\n",
    "    batch_size=128,\n",
    "    encoding_dim=100,\n",
    "    num_workers=4,\n",
    "    download_dir=\"./data\",\n",
    ")\n",
    "dataset.setup()\n",
    "trainloader = dataset.train_dataloader()\n",
    "testloader = dataset.val_dataloader()"
   ]
  },
  {
   "cell_type": "code",
   "execution_count": null,
   "metadata": {},
   "outputs": [],
   "source": [
    "next(iter(trainloader))[0].shape"
   ]
  },
  {
   "cell_type": "code",
   "execution_count": null,
   "metadata": {},
   "outputs": [],
   "source": [
    "from tqdm.auto import tqdm\n",
    "\n",
    "def cycle_through_trainloader():\n",
    "    for data, targets in tqdm(trainloader):\n",
    "        data = data.cuda()\n",
    "        targets = targets.cuda()"
   ]
  },
  {
   "cell_type": "code",
   "execution_count": null,
   "metadata": {},
   "outputs": [],
   "source": [
    "cycle_through_trainloader()"
   ]
  },
  {
   "cell_type": "code",
   "execution_count": null,
   "metadata": {},
   "outputs": [],
   "source": [
    "dict_args = dict(\n",
    "    encoding_dim=100,\n",
    "    n_hidden_layers=2,\n",
    "    hidden_dim=128,\n",
    "    tau_mem=100000.0,\n",
    "    output_dim=20,\n",
    "    spike_threshold=1.,\n",
    "    learning_rate=1e-3,\n",
    "    width_grad=1.,\n",
    "    scale_grad=1.,\n",
    "    decoding_func='max_over_time',\n",
    "    optimizer=\"sgd\",\n",
    ")\n",
    "slayer_model = SlayerNetwork(**dict_args, n_time_bins=250).cuda()\n",
    "init_weights = slayer_model.state_dict()\n",
    "\n",
    "exodus_model = ExodusNetwork(**dict_args, init_weights=init_weights).cuda()\n",
    "\n",
    "sinabs_model = ExodusNetwork(**dict_args, init_weights=init_weights, backend='sinabs').cuda()\n"
   ]
  },
  {
   "cell_type": "code",
   "execution_count": null,
   "metadata": {},
   "outputs": [],
   "source": [
    "from time import time\n",
    "import numpy as np\n",
    "\n",
    "algorithms = [\"EXODUS\", \"SLAYER\", \"BPTT\"]\n",
    "times = {algo: {\"forward\": [], \"backward\": [], \"reset\": []} for algo in algorithms}\n",
    "\n",
    "for algo, model in zip([\"BPTT\", \"EXODUS\"], [sinabs_model, exodus_model]):\n",
    "    for i in tqdm(range(3)):\n",
    "        times_epoch = {\"forward\": [], \"backward\": [], \"reset\": []}\n",
    "        for data, target in tqdm(trainloader):        \n",
    "            data = data.cuda()\n",
    "            target = target.cuda()\n",
    "            t0 = time()\n",
    "            model.reset_states()\n",
    "            t1 = time()\n",
    "            y_hat = model(data)\n",
    "            t2 = time()\n",
    "            y_hat.sum().backward()\n",
    "            t3 = time()\n",
    "            times_epoch[\"reset\"].append(t1-t0)\n",
    "            times_epoch[\"forward\"].append(t2-t1)\n",
    "            times_epoch[\"backward\"].append(t3-t2)\n",
    "        for step, t in times_epoch.items():\n",
    "            times[algo][step].append(np.mean(t))"
   ]
  },
  {
   "cell_type": "code",
   "execution_count": null,
   "metadata": {},
   "outputs": [],
   "source": [
    "for i in tqdm(range(3)):\n",
    "    t0 = time()\n",
    "    times_epoch = {\"forward\": [], \"backward\": [], \"reset\": []}\n",
    "    for data, target in tqdm(trainloader):\n",
    "        data = data.cuda()\n",
    "        target = target.cuda()\n",
    "        t0 = time()\n",
    "        y_hat = slayer_model(data)\n",
    "        t1 = time()\n",
    "        y_hat.sum().backward()\n",
    "        t2 = time()\n",
    "        times_epoch[\"forward\"].append(t1-t0)\n",
    "        times_epoch[\"backward\"].append(t2-t1)\n",
    "    for step, t in times_epoch.items():\n",
    "        times[\"SLAYER\"][step].append(np.mean(t))"
   ]
  },
  {
   "cell_type": "code",
   "execution_count": null,
   "metadata": {},
   "outputs": [],
   "source": [
    "import numpy as np\n",
    "for action in times[\"EXODUS\"].keys():\n",
    "    print(action)\n",
    "    for model, ts in times.items():\n",
    "        t = np.array(ts[action])\n",
    "        print(f\"\\t{model}: ({np.mean(t):.2e} +- {np.std(t):.2e}) s\")\n",
    "        # np.save(f\"timings_{model}.npy\", t)"
   ]
  },
  {
   "cell_type": "code",
   "execution_count": null,
   "metadata": {
    "tags": []
   },
   "outputs": [],
   "source": [
    "import pandas as pd"
   ]
  },
  {
   "cell_type": "code",
   "execution_count": null,
   "metadata": {},
   "outputs": [],
   "source": [
    "pd.DataFrame(times).to_csv(\"times_new.csv\")"
   ]
  },
  {
   "cell_type": "code",
   "execution_count": null,
   "metadata": {},
   "outputs": [],
   "source": [
    "# Convert previously saved csv to one line per measurement\n",
    "\n",
    "times = pd.read_csv(\"times_new.csv\", index_col=0)\n",
    "\n",
    "table = [\n",
    "    pd.DataFrame(\n",
    "        {\"algorithm\": algo, \"time\": t, \"step\": step}\n",
    "        for step in times.index\n",
    "        for algo in times.loc[step].index\n",
    "        for t in eval((times.loc[step].loc[algo]).replace(\"nan, \", \"\").replace(\"nan\", \"\"))\n",
    "    )\n",
    "]\n",
    "table = pd.concat(table, ignore_index=True)\n",
    "table.to_csv(\"times_new_table.csv\")"
   ]
  },
  {
   "cell_type": "code",
   "execution_count": null,
   "metadata": {},
   "outputs": [],
   "source": []
  }
 ],
 "metadata": {
  "interpreter": {
   "hash": "e6cb2531ff3209080f8ff5f4f1b83a3f6fd522559ade981afeb04664418b3902"
  },
  "kernelspec": {
   "display_name": "Python 3 (ipykernel)",
   "language": "python",
   "name": "python3"
  },
  "language_info": {
   "codemirror_mode": {
    "name": "ipython",
    "version": 3
   },
   "file_extension": ".py",
   "mimetype": "text/x-python",
   "name": "python",
   "nbconvert_exporter": "python",
   "pygments_lexer": "ipython3",
   "version": "3.8.10"
  }
 },
 "nbformat": 4,
 "nbformat_minor": 4
}
