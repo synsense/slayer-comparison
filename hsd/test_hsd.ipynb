{
 "cells": [
  {
   "cell_type": "code",
   "execution_count": 2,
   "metadata": {},
   "outputs": [],
   "source": [
    "from hsd import HSD\n",
    "from hsd_exodus import ExodusNetwork\n",
    "from hsd_slayer import SlayerNetwork"
   ]
  },
  {
   "cell_type": "code",
   "execution_count": 3,
   "metadata": {},
   "outputs": [],
   "source": [
    "dataset = HSD(\n",
    "    batch_size=128,\n",
    "    encoding_dim=100,\n",
    "    num_workers=4,\n",
    "    download_dir=\"./data\",\n",
    ")\n",
    "dataset.setup()\n",
    "trainloader = dataset.train_dataloader()\n",
    "testloader = dataset.val_dataloader()"
   ]
  },
  {
   "cell_type": "code",
   "execution_count": 4,
   "metadata": {},
   "outputs": [
    {
     "data": {
      "text/plain": [
       "torch.Size([128, 250, 100])"
      ]
     },
     "execution_count": 4,
     "metadata": {},
     "output_type": "execute_result"
    }
   ],
   "source": [
    "next(iter(trainloader))[0].shape"
   ]
  },
  {
   "cell_type": "code",
   "execution_count": 5,
   "metadata": {},
   "outputs": [],
   "source": [
    "from tqdm.auto import tqdm\n",
    "\n",
    "def cycle_through_trainloader():\n",
    "    for data, targets in tqdm(trainloader):\n",
    "        data = data.cuda()\n",
    "        targets = targets.cuda()"
   ]
  },
  {
   "cell_type": "code",
   "execution_count": 7,
   "metadata": {},
   "outputs": [
    {
     "data": {
      "application/vnd.jupyter.widget-view+json": {
       "model_id": "159fdec6cc4a470195b239d353cdc6c0",
       "version_major": 2,
       "version_minor": 0
      },
      "text/plain": [
       "  0%|          | 0/63 [00:00<?, ?it/s]"
      ]
     },
     "metadata": {},
     "output_type": "display_data"
    }
   ],
   "source": [
    "cycle_through_trainloader()"
   ]
  },
  {
   "cell_type": "code",
   "execution_count": 8,
   "metadata": {},
   "outputs": [],
   "source": [
    "dict_args = dict(\n",
    "    encoding_dim=100,\n",
    "    n_hidden_layers=2,\n",
    "    hidden_dim=128,\n",
    "    tau_mem=100000.0,\n",
    "    output_dim=20,\n",
    "    spike_threshold=1.,\n",
    "    learning_rate=1e-3,\n",
    "    width_grad=1.,\n",
    "    scale_grad=1.,\n",
    "    decoding_func='max_over_time',\n",
    ")\n",
    "slayer_model = SlayerNetwork(**dict_args, n_time_bins=250).cuda()\n",
    "init_weights = slayer_model.state_dict()\n",
    "\n",
    "exodus_model = ExodusNetwork(**dict_args, init_weights=init_weights).cuda()\n",
    "\n",
    "sinabs_model = ExodusNetwork(**dict_args, init_weights=init_weights, backend='sinabs').cuda()\n"
   ]
  },
  {
   "cell_type": "code",
   "execution_count": 8,
   "metadata": {},
   "outputs": [
    {
     "data": {
      "application/vnd.jupyter.widget-view+json": {
       "model_id": "83f866f7dba245b4919d2f2597dadca2",
       "version_major": 2,
       "version_minor": 0
      },
      "text/plain": [
       "  0%|          | 0/63 [00:00<?, ?it/s]"
      ]
     },
     "metadata": {},
     "output_type": "display_data"
    },
    {
     "data": {
      "application/vnd.jupyter.widget-view+json": {
       "model_id": "eedc373758da4456b16861924f62174d",
       "version_major": 2,
       "version_minor": 0
      },
      "text/plain": [
       "  0%|          | 0/63 [00:00<?, ?it/s]"
      ]
     },
     "metadata": {},
     "output_type": "display_data"
    }
   ],
   "source": [
    "for model in [sinabs_model, exodus_model]:\n",
    "    for data, target in tqdm(trainloader):\n",
    "        data = data.cuda()\n",
    "        target = target.cuda()\n",
    "        model.reset_states()\n",
    "        y_hat = model(data)\n",
    "        y_hat.sum().backward()"
   ]
  },
  {
   "cell_type": "code",
   "execution_count": 9,
   "metadata": {},
   "outputs": [
    {
     "data": {
      "application/vnd.jupyter.widget-view+json": {
       "model_id": "17129df95ba647a095b32b61ba0f07f9",
       "version_major": 2,
       "version_minor": 0
      },
      "text/plain": [
       "  0%|          | 0/63 [00:00<?, ?it/s]"
      ]
     },
     "metadata": {},
     "output_type": "display_data"
    }
   ],
   "source": [
    "for data, target in tqdm(trainloader):\n",
    "    data = data.cuda()\n",
    "    target = target.cuda()\n",
    "    y_hat = slayer_model(data)\n",
    "    y_hat.sum().backward()"
   ]
  }
 ],
 "metadata": {
  "interpreter": {
   "hash": "e6cb2531ff3209080f8ff5f4f1b83a3f6fd522559ade981afeb04664418b3902"
  },
  "kernelspec": {
   "display_name": "Python 3.9.7 ('slayer-comparison')",
   "language": "python",
   "name": "python3"
  },
  "language_info": {
   "codemirror_mode": {
    "name": "ipython",
    "version": 3
   },
   "file_extension": ".py",
   "mimetype": "text/x-python",
   "name": "python",
   "nbconvert_exporter": "python",
   "pygments_lexer": "ipython3",
   "version": "3.9.7"
  },
  "orig_nbformat": 4
 },
 "nbformat": 4,
 "nbformat_minor": 2
}
