{
 "cells": [
  {
   "cell_type": "code",
   "execution_count": 1,
   "metadata": {},
   "outputs": [],
   "source": [
    "from hsd import HSD\n",
    "from hsd_exodus import ExodusNetwork\n",
    "from hsd_slayer import SlayerNetwork"
   ]
  },
  {
   "cell_type": "code",
   "execution_count": 2,
   "metadata": {},
   "outputs": [],
   "source": [
    "dataset = HSD(\n",
    "    batch_size=128,\n",
    "    encoding_dim=100,\n",
    "    num_workers=4,\n",
    "    download_dir=\"./data\",\n",
    ")\n",
    "dataset.setup()\n",
    "trainloader = dataset.train_dataloader()\n",
    "testloader = dataset.val_dataloader()"
   ]
  },
  {
   "cell_type": "code",
   "execution_count": null,
   "metadata": {},
   "outputs": [],
   "source": [
    "next(iter(trainloader))[0].shape"
   ]
  },
  {
   "cell_type": "code",
   "execution_count": 3,
   "metadata": {},
   "outputs": [],
   "source": [
    "from tqdm.auto import tqdm\n",
    "\n",
    "def cycle_through_trainloader():\n",
    "    for data, targets in tqdm(trainloader):\n",
    "        data = data.cuda()\n",
    "        targets = targets.cuda()"
   ]
  },
  {
   "cell_type": "code",
   "execution_count": null,
   "metadata": {},
   "outputs": [],
   "source": [
    "cycle_through_trainloader()"
   ]
  },
  {
   "cell_type": "code",
   "execution_count": 4,
   "metadata": {},
   "outputs": [],
   "source": [
    "dict_args = dict(\n",
    "    encoding_dim=100,\n",
    "    n_hidden_layers=2,\n",
    "    hidden_dim=128,\n",
    "    tau_mem=100000.0,\n",
    "    output_dim=20,\n",
    "    spike_threshold=1.,\n",
    "    learning_rate=1e-3,\n",
    "    width_grad=1.,\n",
    "    scale_grad=1.,\n",
    "    decoding_func='max_over_time',\n",
    "    optimizer=\"sgd\",\n",
    ")\n",
    "slayer_model = SlayerNetwork(**dict_args, n_time_bins=250).cuda()\n",
    "init_weights = slayer_model.state_dict()\n",
    "\n",
    "exodus_model = ExodusNetwork(**dict_args, slayer_mode=True, init_weights=init_weights).cuda()\n",
    "\n",
    "# sinabs_model = ExodusNetwork(**dict_args, init_weights=init_weights, backend='sinabs').cuda()\n"
   ]
  },
  {
   "cell_type": "code",
   "execution_count": 5,
   "metadata": {},
   "outputs": [],
   "source": [
    "for m in exodus_model.network.modules():\n",
    "    if hasattr(m, \"does_spike\"):\n",
    "        m.tau_mem.requires_grad_(False)"
   ]
  },
  {
   "cell_type": "code",
   "execution_count": 6,
   "metadata": {},
   "outputs": [
    {
     "data": {
      "application/vnd.jupyter.widget-view+json": {
       "model_id": "c69bb6379ac34ef686f0a11ca13b4e92",
       "version_major": 2,
       "version_minor": 0
      },
      "text/plain": [
       "  0%|          | 0/3 [00:00<?, ?it/s]"
      ]
     },
     "metadata": {},
     "output_type": "display_data"
    },
    {
     "data": {
      "application/vnd.jupyter.widget-view+json": {
       "model_id": "607ffb0377b145d18bbc9b0b1010d505",
       "version_major": 2,
       "version_minor": 0
      },
      "text/plain": [
       "  0%|          | 0/63 [00:00<?, ?it/s]"
      ]
     },
     "metadata": {},
     "output_type": "display_data"
    },
    {
     "data": {
      "application/vnd.jupyter.widget-view+json": {
       "model_id": "8adf670326d34ecfa1e47d32082d3a83",
       "version_major": 2,
       "version_minor": 0
      },
      "text/plain": [
       "  0%|          | 0/63 [00:00<?, ?it/s]"
      ]
     },
     "metadata": {},
     "output_type": "display_data"
    },
    {
     "name": "stderr",
     "output_type": "stream",
     "text": [
      "Exception ignored in: <function _MultiProcessingDataLoaderIter.__del__ at 0x7f71a871b940>\n",
      "Traceback (most recent call last):\n",
      "  File \"/home/felix/.pyenv/versions/3.8.10/envs/exodus/lib/python3.8/site-packages/torch/utils/data/dataloader.py\", line 1358, in __del__\n",
      "    self._shutdown_workers()\n",
      "  File \"/home/felix/.pyenv/versions/3.8.10/envs/exodus/lib/python3.8/site-packages/torch/utils/data/dataloader.py\", line 1341, in _shutdown_workers\n",
      "    if w.is_alive():\n",
      "  File \"/home/felix/.pyenv/versions/3.8.10/lib/python3.8/multiprocessing/process.py\", line 160, in is_alive\n",
      "    assert self._parent_pid == os.getpid(), 'can only test a child process'\n",
      "AssertionError: can only test a child process\n",
      "Exception ignored in: <function _MultiProcessingDataLoaderIter.__del__ at 0x7f71a871b940>\n",
      "Traceback (most recent call last):\n",
      "  File \"/home/felix/.pyenv/versions/3.8.10/envs/exodus/lib/python3.8/site-packages/torch/utils/data/dataloader.py\", line 1358, in __del__\n",
      "    self._shutdown_workers()\n",
      "  File \"/home/felix/.pyenv/versions/3.8.10/envs/exodus/lib/python3.8/site-packages/torch/utils/data/dataloader.py\", line 1341, in _shutdown_workers\n",
      "    if w.is_alive():\n",
      "  File \"/home/felix/.pyenv/versions/3.8.10/lib/python3.8/multiprocessing/process.py\", line 160, in is_alive\n",
      "    assert self._parent_pid == os.getpid(), 'can only test a child process'\n",
      "AssertionError: can only test a child process\n",
      "Exception ignored in: <function _MultiProcessingDataLoaderIter.__del__ at 0x7f71a871b940>\n",
      "Traceback (most recent call last):\n",
      "  File \"/home/felix/.pyenv/versions/3.8.10/envs/exodus/lib/python3.8/site-packages/torch/utils/data/dataloader.py\", line 1358, in __del__\n",
      "    self._shutdown_workers()\n",
      "  File \"/home/felix/.pyenv/versions/3.8.10/envs/exodus/lib/python3.8/site-packages/torch/utils/data/dataloader.py\", line 1341, in _shutdown_workers\n",
      "    if w.is_alive():\n",
      "  File \"/home/felix/.pyenv/versions/3.8.10/lib/python3.8/multiprocessing/process.py\", line 160, in is_alive\n",
      "    assert self._parent_pid == os.getpid(), 'can only test a child process'\n",
      "AssertionError: can only test a child process\n",
      "Exception ignored in: <function _MultiProcessingDataLoaderIter.__del__ at 0x7f71a871b940>\n",
      "Traceback (most recent call last):\n",
      "  File \"/home/felix/.pyenv/versions/3.8.10/envs/exodus/lib/python3.8/site-packages/torch/utils/data/dataloader.py\", line 1358, in __del__\n",
      "    self._shutdown_workers()\n",
      "  File \"/home/felix/.pyenv/versions/3.8.10/envs/exodus/lib/python3.8/site-packages/torch/utils/data/dataloader.py\", line 1341, in _shutdown_workers\n",
      "    if w.is_alive():\n",
      "  File \"/home/felix/.pyenv/versions/3.8.10/lib/python3.8/multiprocessing/process.py\", line 160, in is_alive\n",
      "    assert self._parent_pid == os.getpid(), 'can only test a child process'\n",
      "AssertionError: can only test a child process\n"
     ]
    },
    {
     "data": {
      "application/vnd.jupyter.widget-view+json": {
       "model_id": "c4670d5dff53455689df9995c0a889d0",
       "version_major": 2,
       "version_minor": 0
      },
      "text/plain": [
       "  0%|          | 0/63 [00:00<?, ?it/s]"
      ]
     },
     "metadata": {},
     "output_type": "display_data"
    },
    {
     "name": "stderr",
     "output_type": "stream",
     "text": [
      "Exception ignored in: <function _MultiProcessingDataLoaderIter.__del__ at 0x7f71a871b940>\n",
      "Traceback (most recent call last):\n",
      "  File \"/home/felix/.pyenv/versions/3.8.10/envs/exodus/lib/python3.8/site-packages/torch/utils/data/dataloader.py\", line 1358, in __del__\n",
      "    self._shutdown_workers()\n",
      "  File \"/home/felix/.pyenv/versions/3.8.10/envs/exodus/lib/python3.8/site-packages/torch/utils/data/dataloader.py\", line 1341, in _shutdown_workers\n",
      "    if w.is_alive():\n",
      "  File \"/home/felix/.pyenv/versions/3.8.10/lib/python3.8/multiprocessing/process.py\", line 160, in is_alive\n",
      "    assert self._parent_pid == os.getpid(), 'can only test a child process'\n",
      "AssertionError: can only test a child process\n",
      "Exception ignored in: <function _MultiProcessingDataLoaderIter.__del__ at 0x7f71a871b940>\n",
      "Traceback (most recent call last):\n",
      "  File \"/home/felix/.pyenv/versions/3.8.10/envs/exodus/lib/python3.8/site-packages/torch/utils/data/dataloader.py\", line 1358, in __del__\n",
      "    self._shutdown_workers()\n",
      "  File \"/home/felix/.pyenv/versions/3.8.10/envs/exodus/lib/python3.8/site-packages/torch/utils/data/dataloader.py\", line 1341, in _shutdown_workers\n",
      "    if w.is_alive():\n",
      "  File \"/home/felix/.pyenv/versions/3.8.10/lib/python3.8/multiprocessing/process.py\", line 160, in is_alive\n",
      "    assert self._parent_pid == os.getpid(), 'can only test a child process'\n",
      "AssertionError: can only test a child process\n",
      "Exception ignored in: <function _MultiProcessingDataLoaderIter.__del__ at 0x7f71a871b940>\n",
      "Traceback (most recent call last):\n",
      "  File \"/home/felix/.pyenv/versions/3.8.10/envs/exodus/lib/python3.8/site-packages/torch/utils/data/dataloader.py\", line 1358, in __del__\n",
      "    self._shutdown_workers()\n",
      "  File \"/home/felix/.pyenv/versions/3.8.10/envs/exodus/lib/python3.8/site-packages/torch/utils/data/dataloader.py\", line 1341, in _shutdown_workers\n",
      "    if w.is_alive():\n",
      "  File \"/home/felix/.pyenv/versions/3.8.10/lib/python3.8/multiprocessing/process.py\", line 160, in is_alive\n",
      "    assert self._parent_pid == os.getpid(), 'can only test a child process'\n",
      "AssertionError: can only test a child process\n",
      "Exception ignored in: <function _MultiProcessingDataLoaderIter.__del__ at 0x7f71a871b940>\n",
      "Traceback (most recent call last):\n",
      "  File \"/home/felix/.pyenv/versions/3.8.10/envs/exodus/lib/python3.8/site-packages/torch/utils/data/dataloader.py\", line 1358, in __del__\n",
      "    self._shutdown_workers()\n",
      "  File \"/home/felix/.pyenv/versions/3.8.10/envs/exodus/lib/python3.8/site-packages/torch/utils/data/dataloader.py\", line 1341, in _shutdown_workers\n",
      "    if w.is_alive():\n",
      "  File \"/home/felix/.pyenv/versions/3.8.10/lib/python3.8/multiprocessing/process.py\", line 160, in is_alive\n",
      "    assert self._parent_pid == os.getpid(), 'can only test a child process'\n",
      "AssertionError: can only test a child process\n",
      "Exception ignored in: <function _MultiProcessingDataLoaderIter.__del__ at 0x7f71a871b940>\n",
      "Traceback (most recent call last):\n",
      "  File \"/home/felix/.pyenv/versions/3.8.10/envs/exodus/lib/python3.8/site-packages/torch/utils/data/dataloader.py\", line 1358, in __del__\n",
      "    self._shutdown_workers()\n",
      "  File \"/home/felix/.pyenv/versions/3.8.10/envs/exodus/lib/python3.8/site-packages/torch/utils/data/dataloader.py\", line 1341, in _shutdown_workers\n",
      "    if w.is_alive():\n",
      "  File \"/home/felix/.pyenv/versions/3.8.10/lib/python3.8/multiprocessing/process.py\", line 160, in is_alive\n",
      "    assert self._parent_pid == os.getpid(), 'can only test a child process'\n",
      "AssertionError: can only test a child process\n",
      "Exception ignored in: <function _MultiProcessingDataLoaderIter.__del__ at 0x7f71a871b940>\n",
      "Traceback (most recent call last):\n",
      "  File \"/home/felix/.pyenv/versions/3.8.10/envs/exodus/lib/python3.8/site-packages/torch/utils/data/dataloader.py\", line 1358, in __del__\n",
      "    self._shutdown_workers()\n",
      "Exception ignored in:   File \"/home/felix/.pyenv/versions/3.8.10/envs/exodus/lib/python3.8/site-packages/torch/utils/data/dataloader.py\", line 1341, in _shutdown_workers\n",
      "    <function _MultiProcessingDataLoaderIter.__del__ at 0x7f71a871b940>if w.is_alive():\n",
      "\n",
      "Traceback (most recent call last):\n",
      "  File \"/home/felix/.pyenv/versions/3.8.10/lib/python3.8/multiprocessing/process.py\", line 160, in is_alive\n",
      "      File \"/home/felix/.pyenv/versions/3.8.10/envs/exodus/lib/python3.8/site-packages/torch/utils/data/dataloader.py\", line 1358, in __del__\n",
      "assert self._parent_pid == os.getpid(), 'can only test a child process'\n",
      "    AssertionError: can only test a child process\n",
      "self._shutdown_workers()\n",
      "  File \"/home/felix/.pyenv/versions/3.8.10/envs/exodus/lib/python3.8/site-packages/torch/utils/data/dataloader.py\", line 1341, in _shutdown_workers\n",
      "    if w.is_alive():\n",
      "  File \"/home/felix/.pyenv/versions/3.8.10/lib/python3.8/multiprocessing/process.py\", line 160, in is_alive\n",
      "    assert self._parent_pid == os.getpid(), 'can only test a child process'\n",
      "AssertionError: can only test a child process\n",
      "Exception ignored in: <function _MultiProcessingDataLoaderIter.__del__ at 0x7f71a871b940>\n",
      "Exception ignored in: Traceback (most recent call last):\n",
      "<function _MultiProcessingDataLoaderIter.__del__ at 0x7f71a871b940>  File \"/home/felix/.pyenv/versions/3.8.10/envs/exodus/lib/python3.8/site-packages/torch/utils/data/dataloader.py\", line 1358, in __del__\n",
      "    self._shutdown_workers()\n",
      "\n",
      "Traceback (most recent call last):\n",
      "  File \"/home/felix/.pyenv/versions/3.8.10/envs/exodus/lib/python3.8/site-packages/torch/utils/data/dataloader.py\", line 1358, in __del__\n",
      "  File \"/home/felix/.pyenv/versions/3.8.10/envs/exodus/lib/python3.8/site-packages/torch/utils/data/dataloader.py\", line 1341, in _shutdown_workers\n",
      "        if w.is_alive():\n",
      "self._shutdown_workers()  File \"/home/felix/.pyenv/versions/3.8.10/lib/python3.8/multiprocessing/process.py\", line 160, in is_alive\n",
      "\n",
      "    assert self._parent_pid == os.getpid(), 'can only test a child process'  File \"/home/felix/.pyenv/versions/3.8.10/envs/exodus/lib/python3.8/site-packages/torch/utils/data/dataloader.py\", line 1341, in _shutdown_workers\n",
      "\n",
      "    AssertionErrorif w.is_alive():\n",
      "Exception ignored in:   File \"/home/felix/.pyenv/versions/3.8.10/lib/python3.8/multiprocessing/process.py\", line 160, in is_alive\n",
      "<function _MultiProcessingDataLoaderIter.__del__ at 0x7f71a871b940>    : \n",
      "Traceback (most recent call last):\n",
      "assert self._parent_pid == os.getpid(), 'can only test a child process'  File \"/home/felix/.pyenv/versions/3.8.10/envs/exodus/lib/python3.8/site-packages/torch/utils/data/dataloader.py\", line 1358, in __del__\n",
      "    can only test a child process\n",
      "self._shutdown_workers()AssertionError\n",
      "\n",
      "  File \"/home/felix/.pyenv/versions/3.8.10/envs/exodus/lib/python3.8/site-packages/torch/utils/data/dataloader.py\", line 1341, in _shutdown_workers\n",
      ": can only test a child process    \n",
      "Exception ignored in: if w.is_alive():<function _MultiProcessingDataLoaderIter.__del__ at 0x7f71a871b940>\n",
      "\n",
      "  File \"/home/felix/.pyenv/versions/3.8.10/lib/python3.8/multiprocessing/process.py\", line 160, in is_alive\n",
      "Traceback (most recent call last):\n",
      "  File \"/home/felix/.pyenv/versions/3.8.10/envs/exodus/lib/python3.8/site-packages/torch/utils/data/dataloader.py\", line 1358, in __del__\n",
      "    assert self._parent_pid == os.getpid(), 'can only test a child process'    \n",
      "self._shutdown_workers()AssertionError\n",
      "  File \"/home/felix/.pyenv/versions/3.8.10/envs/exodus/lib/python3.8/site-packages/torch/utils/data/dataloader.py\", line 1341, in _shutdown_workers\n",
      ":     can only test a child processif w.is_alive():\n",
      "\n",
      "  File \"/home/felix/.pyenv/versions/3.8.10/lib/python3.8/multiprocessing/process.py\", line 160, in is_alive\n",
      "    Exception ignored in: assert self._parent_pid == os.getpid(), 'can only test a child process'\n",
      "<function _MultiProcessingDataLoaderIter.__del__ at 0x7f71a871b940>AssertionError\n",
      ": Traceback (most recent call last):\n",
      "  File \"/home/felix/.pyenv/versions/3.8.10/envs/exodus/lib/python3.8/site-packages/torch/utils/data/dataloader.py\", line 1358, in __del__\n",
      "can only test a child process\n",
      "    self._shutdown_workers()\n",
      "  File \"/home/felix/.pyenv/versions/3.8.10/envs/exodus/lib/python3.8/site-packages/torch/utils/data/dataloader.py\", line 1341, in _shutdown_workers\n",
      "    if w.is_alive():\n",
      "  File \"/home/felix/.pyenv/versions/3.8.10/lib/python3.8/multiprocessing/process.py\", line 160, in is_alive\n",
      "    assert self._parent_pid == os.getpid(), 'can only test a child process'\n",
      "AssertionError: can only test a child process\n"
     ]
    }
   ],
   "source": [
    "from time import time\n",
    "import numpy as np\n",
    "\n",
    "algorithms = [\"EXODUS\", \"SLAYER\", \"BPTT\"]\n",
    "times = {algo: {\"forward\": [], \"backward\": [], \"reset\": []} for algo in algorithms}\n",
    "\n",
    "for algo, model in zip([\"EXODUS\"], [exodus_model]):\n",
    "    for i in tqdm(range(3)):\n",
    "        times_epoch = {\"forward\": [], \"backward\": [], \"reset\": []}\n",
    "        for data, target in tqdm(trainloader):        \n",
    "            data = data.cuda()\n",
    "            target = target.cuda()\n",
    "            t0 = time()\n",
    "            model.reset_states()\n",
    "            t1 = time()\n",
    "            y_hat = model(data)\n",
    "            t2 = time()\n",
    "            y_hat.sum().backward()\n",
    "            t3 = time()\n",
    "            times_epoch[\"reset\"].append(t1-t0)\n",
    "            times_epoch[\"forward\"].append(t2-t1)\n",
    "            times_epoch[\"backward\"].append(t3-t2)\n",
    "        for step, t in times_epoch.items():\n",
    "            times[algo][step].append(np.mean(t))"
   ]
  },
  {
   "cell_type": "code",
   "execution_count": 7,
   "metadata": {},
   "outputs": [
    {
     "data": {
      "text/plain": [
       "{'EXODUS': {'forward': [0.02937603375268361,\n",
       "   0.029612980191669767,\n",
       "   0.030455755808996777],\n",
       "  'backward': [0.20491660208929152, 0.2096554892403739, 0.20776023183550155],\n",
       "  'reset': [0.00027866590590704056,\n",
       "   0.0002933343251546224,\n",
       "   0.00028858487568204363]},\n",
       " 'SLAYER': {'forward': [], 'backward': [], 'reset': []},\n",
       " 'BPTT': {'forward': [], 'backward': [], 'reset': []}}"
      ]
     },
     "execution_count": 7,
     "metadata": {},
     "output_type": "execute_result"
    }
   ],
   "source": [
    "times # In slayer mode"
   ]
  },
  {
   "cell_type": "code",
   "execution_count": 11,
   "metadata": {},
   "outputs": [
    {
     "data": {
      "text/plain": [
       "{'EXODUS': {'forward': [0.028515297269064283,\n",
       "   0.029192508213103763,\n",
       "   0.029273180734543575],\n",
       "  'backward': [0.03350253332228888, 0.034576832302032956, 0.03430612503536164],\n",
       "  'reset': [0.00034044659326946925,\n",
       "   0.00036979100060841394,\n",
       "   0.0003590016137985956]},\n",
       " 'SLAYER': {'forward': [], 'backward': [], 'reset': []},\n",
       " 'BPTT': {'forward': [], 'backward': [], 'reset': []}}"
      ]
     },
     "execution_count": 11,
     "metadata": {},
     "output_type": "execute_result"
    }
   ],
   "source": [
    "times # In normal mode"
   ]
  },
  {
   "cell_type": "code",
   "execution_count": 7,
   "metadata": {},
   "outputs": [
    {
     "data": {
      "text/plain": [
       "{'EXODUS': {'forward': [0.029698534617348324,\n",
       "   0.02905493312411838,\n",
       "   0.02906798937964061],\n",
       "  'backward': [0.047602104762243844,\n",
       "   0.04563159791250077,\n",
       "   0.045841391124422586],\n",
       "  'reset': [0.0003617226131378658,\n",
       "   0.00035459654671805244,\n",
       "   0.00032133147830054875]},\n",
       " 'SLAYER': {'forward': [], 'backward': [], 'reset': []},\n",
       " 'BPTT': {'forward': [], 'backward': [], 'reset': []}}"
      ]
     },
     "execution_count": 7,
     "metadata": {},
     "output_type": "execute_result"
    }
   ],
   "source": [
    "times # In previous (torch-based) slayer mode"
   ]
  },
  {
   "cell_type": "code",
   "execution_count": null,
   "metadata": {},
   "outputs": [],
   "source": [
    "for i in tqdm(range(3)):\n",
    "    t0 = time()\n",
    "    times_epoch = {\"forward\": [], \"backward\": [], \"reset\": []}\n",
    "    for data, target in tqdm(trainloader):\n",
    "        data = data.cuda()\n",
    "        target = target.cuda()\n",
    "        t0 = time()\n",
    "        y_hat = slayer_model(data)\n",
    "        t1 = time()\n",
    "        y_hat.sum().backward()\n",
    "        t2 = time()\n",
    "        times_epoch[\"forward\"].append(t1-t0)\n",
    "        times_epoch[\"backward\"].append(t2-t1)\n",
    "    for step, t in times_epoch.items():\n",
    "        times[\"SLAYER\"][step].append(np.mean(t))"
   ]
  },
  {
   "cell_type": "code",
   "execution_count": null,
   "metadata": {},
   "outputs": [],
   "source": [
    "import numpy as np\n",
    "for action in times[\"EXODUS\"].keys():\n",
    "    print(action)\n",
    "    for model, ts in times.items():\n",
    "        t = np.array(ts[action])\n",
    "        print(f\"\\t{model}: ({np.mean(t):.2e} +- {np.std(t):.2e}) s\")\n",
    "        # np.save(f\"timings_{model}.npy\", t)"
   ]
  },
  {
   "cell_type": "code",
   "execution_count": null,
   "metadata": {
    "tags": []
   },
   "outputs": [],
   "source": [
    "import pandas as pd"
   ]
  },
  {
   "cell_type": "code",
   "execution_count": null,
   "metadata": {},
   "outputs": [],
   "source": [
    "pd.DataFrame(times).to_csv(\"times_new.csv\")"
   ]
  },
  {
   "cell_type": "code",
   "execution_count": null,
   "metadata": {},
   "outputs": [],
   "source": [
    "# Convert previously saved csv to one line per measurement\n",
    "\n",
    "times = pd.read_csv(\"times_new.csv\", index_col=0)\n",
    "\n",
    "table = [\n",
    "    pd.DataFrame(\n",
    "        {\"algorithm\": algo, \"time\": t, \"step\": step}\n",
    "        for step in times.index\n",
    "        for algo in times.loc[step].index\n",
    "        for t in eval((times.loc[step].loc[algo]).replace(\"nan, \", \"\").replace(\"nan\", \"\"))\n",
    "    )\n",
    "]\n",
    "table = pd.concat(table, ignore_index=True)\n",
    "table.to_csv(\"times_new_table.csv\")"
   ]
  },
  {
   "cell_type": "code",
   "execution_count": null,
   "metadata": {},
   "outputs": [],
   "source": []
  }
 ],
 "metadata": {
  "interpreter": {
   "hash": "e6cb2531ff3209080f8ff5f4f1b83a3f6fd522559ade981afeb04664418b3902"
  },
  "kernelspec": {
   "display_name": "Python 3 (ipykernel)",
   "language": "python",
   "name": "python3"
  },
  "language_info": {
   "codemirror_mode": {
    "name": "ipython",
    "version": 3
   },
   "file_extension": ".py",
   "mimetype": "text/x-python",
   "name": "python",
   "nbconvert_exporter": "python",
   "pygments_lexer": "ipython3",
   "version": "3.8.10"
  }
 },
 "nbformat": 4,
 "nbformat_minor": 4
}
