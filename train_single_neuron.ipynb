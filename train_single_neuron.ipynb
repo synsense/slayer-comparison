{
 "cells": [
  {
   "cell_type": "code",
   "execution_count": null,
   "metadata": {},
   "outputs": [],
   "source": [
    "import torch\n",
    "import torch.nn as nn\n",
    "import numpy as np\n",
    "import matplotlib.pyplot as plt\n",
    "from tqdm.auto import tqdm\n",
    "import sinabs.activation as sina\n",
    "import sinabs.slayer.layers as ssl"
   ]
  },
  {
   "cell_type": "code",
   "execution_count": null,
   "metadata": {},
   "outputs": [],
   "source": [
    "tau_mem = torch.tensor(30.)\n",
    "alpha_mem = torch.exp(-1/tau_mem)\n",
    "tau_syn = 30.\n",
    "spike_threshold = 1\n",
    "n_time_steps = 100\n",
    "epochs = 3000\n",
    "width_grad = 1\n",
    "scale_grad = 1"
   ]
  },
  {
   "cell_type": "code",
   "execution_count": null,
   "metadata": {},
   "outputs": [],
   "source": [
    "act_fn = sina.ActivationFunction(\n",
    "    spike_threshold=spike_threshold,\n",
    "    spike_fn=sina.SingleSpike,\n",
    "    reset_fn=sina.MembraneSubtract(),\n",
    "    surrogate_grad_fn=sina.SingleExponential(\n",
    "        grad_width=width_grad, \n",
    "        grad_scale=scale_grad\n",
    "    ),\n",
    ")\n",
    "\n",
    "model = nn.Sequential(\n",
    "    nn.Linear(1, 1, bias=False),\n",
    "    ssl.ExpLeak(tau_leak=tau_syn),\n",
    "    ssl.LIF(tau_mem=tau_mem, activation_fn=act_fn, norm_input=False),\n",
    ").cuda()"
   ]
  },
  {
   "cell_type": "code",
   "execution_count": null,
   "metadata": {},
   "outputs": [],
   "source": [
    "torch.manual_seed(123)\n",
    "\n",
    "input_spike_time = 10\n",
    "target_spike_time = 30\n",
    "input = torch.zeros(1, 100, 1)\n",
    "target = torch.zeros_like(input)\n",
    "input[:, input_spike_time] = 1 / alpha_mem\n",
    "target[:, target_spike_time] = 1\n",
    "\n",
    "v_mems = []\n",
    "i_syns = []\n",
    "input = input.cuda()\n",
    "for step in range(n_time_steps):\n",
    "    output = model(input[:, step:step+1])\n",
    "    v_mems.append(model[2].v_mem)\n",
    "    i_syns.append(model[1].v_mem)\n",
    "v_mems = torch.stack(v_mems).squeeze().cpu().detach().numpy()\n",
    "i_syns = torch.stack(i_syns).squeeze().cpu().detach().numpy()"
   ]
  },
  {
   "cell_type": "code",
   "execution_count": null,
   "metadata": {},
   "outputs": [],
   "source": [
    "input = input.cpu()\n",
    "\n",
    "fig = plt.figure(figsize=(16, 5))\n",
    "ax = fig.add_subplot(111)\n",
    "\n",
    "ax.plot(input[0], label='input')\n",
    "ax.plot(target[0], label='target')\n",
    "ax.plot(v_mems, label='membrane potential')\n",
    "ax.plot(i_syns, label='synaptic current')\n",
    "# ax.plot(output.cpu().detach().numpy()[0], label='output')\n",
    "ax.legend()\n",
    "ax.set_xlabel('Time steps')\n",
    "ax.set_ylabel('Activation')"
   ]
  },
  {
   "cell_type": "code",
   "execution_count": null,
   "metadata": {},
   "outputs": [],
   "source": [
    "criterion = nn.MSELoss()\n",
    "optimiser = torch.optim.Adam(model.parameters(), 1e-2)\n",
    "\n",
    "param_trace = []\n",
    "loss_trace = []\n",
    "grad_trace = []\n",
    "\n",
    "input, target = input.cuda(), target.cuda()\n",
    "\n",
    "for i in tqdm(range(epochs)):\n",
    "    model[1].reset_states()\n",
    "    model[2].reset_states()\n",
    "    model[1].zero_grad()\n",
    "    model[2].zero_grad()\n",
    "    optimiser.zero_grad()\n",
    "\n",
    "    output = model(input)\n",
    "\n",
    "    regulariser = 0.01 * (output.sum() - 1) ** 2\n",
    "    loss = criterion(output, target) * n_time_steps + regulariser\n",
    "    loss_trace.append(loss)\n",
    "\n",
    "    if loss == 0:\n",
    "        break\n",
    "\n",
    "    loss.backward()\n",
    "    optimiser.step()"
   ]
  },
  {
   "cell_type": "code",
   "execution_count": null,
   "metadata": {},
   "outputs": [],
   "source": [
    "input = input\n",
    "\n",
    "fig = plt.figure(figsize=(16, 5))\n",
    "ax = fig.add_subplot(111)\n",
    "\n",
    "ax.plot(input.cpu()[0], label='input')\n",
    "ax.plot(target.cpu()[0], label='target')\n",
    "ax.plot(output.squeeze().cpu().detach().numpy(), label='output')\n",
    "ax.legend()\n",
    "ax.set_xlabel('Time steps')\n",
    "ax.set_ylabel('Activation')"
   ]
  },
  {
   "cell_type": "code",
   "execution_count": null,
   "metadata": {},
   "outputs": [],
   "source": []
  }
 ],
 "metadata": {
  "interpreter": {
   "hash": "e6cb2531ff3209080f8ff5f4f1b83a3f6fd522559ade981afeb04664418b3902"
  },
  "kernelspec": {
   "display_name": "Python 3.9.7 64-bit ('slayer-comparison': conda)",
   "language": "python",
   "name": "python3"
  },
  "language_info": {
   "codemirror_mode": {
    "name": "ipython",
    "version": 3
   },
   "file_extension": ".py",
   "mimetype": "text/x-python",
   "name": "python",
   "nbconvert_exporter": "python",
   "pygments_lexer": "ipython3",
   "version": "3.9.7"
  }
 },
 "nbformat": 4,
 "nbformat_minor": 2
}
