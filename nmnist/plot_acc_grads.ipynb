{
 "cells": [
  {
   "cell_type": "code",
   "execution_count": 2,
   "metadata": {},
   "outputs": [],
   "source": [
    "import pandas as pd\n",
    "from matplotlib import pyplot as plt\n",
    "import seaborn as sns\n",
    "from scipy import stats\n",
    "import tensorboard as tb"
   ]
  },
  {
   "cell_type": "code",
   "execution_count": 3,
   "metadata": {},
   "outputs": [
    {
     "data": {
      "text/plain": [
       "<tensorboard.data.experimental.experiment_from_dev.ExperimentFromDev at 0x7fca041a3b80>"
      ]
     },
     "execution_count": 3,
     "metadata": {},
     "output_type": "execute_result"
    }
   ],
   "source": [
    "experiment_id = \"8U2ir8mQR3yNMdX1QUMOcw\"\n",
    "experiment = tb.data.experimental.ExperimentFromDev(experiment_id)\n",
    "experiment"
   ]
  },
  {
   "cell_type": "code",
   "execution_count": 4,
   "metadata": {},
   "outputs": [
    {
     "ename": "KeyboardInterrupt",
     "evalue": "",
     "output_type": "error",
     "traceback": [
      "\u001b[0;31m---------------------------------------------------------------------------\u001b[0m",
      "\u001b[0;31mKeyboardInterrupt\u001b[0m                         Traceback (most recent call last)",
      "\u001b[1;32m/home/gregorlenz/Development/synsense/slayer-comparison/nmnist/plot_acc_grads.ipynb Cell 3'\u001b[0m in \u001b[0;36m<cell line: 1>\u001b[0;34m()\u001b[0m\n\u001b[0;32m----> <a href='vscode-notebook-cell:/home/gregorlenz/Development/synsense/slayer-comparison/nmnist/plot_acc_grads.ipynb#ch0000002?line=0'>1</a>\u001b[0m df \u001b[39m=\u001b[39m experiment\u001b[39m.\u001b[39;49mget_scalars()\n",
      "File \u001b[0;32m~/Applications/miniconda3/lib/python3.9/site-packages/tensorboard/data/experimental/experiment_from_dev.py:102\u001b[0m, in \u001b[0;36mExperimentFromDev.get_scalars\u001b[0;34m(self, runs_filter, tags_filter, pivot, include_wall_time)\u001b[0m\n\u001b[1;32m    <a href='file:///home/gregorlenz/Applications/miniconda3/lib/python3.9/site-packages/tensorboard/data/experimental/experiment_from_dev.py?line=99'>100</a>\u001b[0m wall_times \u001b[39m=\u001b[39m []\n\u001b[1;32m    <a href='file:///home/gregorlenz/Applications/miniconda3/lib/python3.9/site-packages/tensorboard/data/experimental/experiment_from_dev.py?line=100'>101</a>\u001b[0m values \u001b[39m=\u001b[39m []\n\u001b[0;32m--> <a href='file:///home/gregorlenz/Applications/miniconda3/lib/python3.9/site-packages/tensorboard/data/experimental/experiment_from_dev.py?line=101'>102</a>\u001b[0m \u001b[39mfor\u001b[39;00m response \u001b[39min\u001b[39;00m stream:\n\u001b[1;32m    <a href='file:///home/gregorlenz/Applications/miniconda3/lib/python3.9/site-packages/tensorboard/data/experimental/experiment_from_dev.py?line=102'>103</a>\u001b[0m     \u001b[39m# TODO(cais, wchargin): Display progress bar during data loading.\u001b[39;00m\n\u001b[1;32m    <a href='file:///home/gregorlenz/Applications/miniconda3/lib/python3.9/site-packages/tensorboard/data/experimental/experiment_from_dev.py?line=103'>104</a>\u001b[0m     num_values \u001b[39m=\u001b[39m \u001b[39mlen\u001b[39m(response\u001b[39m.\u001b[39mpoints\u001b[39m.\u001b[39mvalues)\n\u001b[1;32m    <a href='file:///home/gregorlenz/Applications/miniconda3/lib/python3.9/site-packages/tensorboard/data/experimental/experiment_from_dev.py?line=104'>105</a>\u001b[0m     runs\u001b[39m.\u001b[39mextend([response\u001b[39m.\u001b[39mrun_name] \u001b[39m*\u001b[39m num_values)\n",
      "File \u001b[0;32m~/Applications/miniconda3/lib/python3.9/site-packages/grpc/_channel.py:426\u001b[0m, in \u001b[0;36m_Rendezvous.__next__\u001b[0;34m(self)\u001b[0m\n\u001b[1;32m    <a href='file:///home/gregorlenz/Applications/miniconda3/lib/python3.9/site-packages/grpc/_channel.py?line=424'>425</a>\u001b[0m \u001b[39mdef\u001b[39;00m \u001b[39m__next__\u001b[39m(\u001b[39mself\u001b[39m):\n\u001b[0;32m--> <a href='file:///home/gregorlenz/Applications/miniconda3/lib/python3.9/site-packages/grpc/_channel.py?line=425'>426</a>\u001b[0m     \u001b[39mreturn\u001b[39;00m \u001b[39mself\u001b[39;49m\u001b[39m.\u001b[39;49m_next()\n",
      "File \u001b[0;32m~/Applications/miniconda3/lib/python3.9/site-packages/grpc/_channel.py:817\u001b[0m, in \u001b[0;36m_MultiThreadedRendezvous._next\u001b[0;34m(self)\u001b[0m\n\u001b[1;32m    <a href='file:///home/gregorlenz/Applications/miniconda3/lib/python3.9/site-packages/grpc/_channel.py?line=810'>811</a>\u001b[0m \u001b[39mdef\u001b[39;00m \u001b[39m_response_ready\u001b[39m():\n\u001b[1;32m    <a href='file:///home/gregorlenz/Applications/miniconda3/lib/python3.9/site-packages/grpc/_channel.py?line=811'>812</a>\u001b[0m     \u001b[39mreturn\u001b[39;00m (\u001b[39mself\u001b[39m\u001b[39m.\u001b[39m_state\u001b[39m.\u001b[39mresponse \u001b[39mis\u001b[39;00m \u001b[39mnot\u001b[39;00m \u001b[39mNone\u001b[39;00m \u001b[39mor\u001b[39;00m\n\u001b[1;32m    <a href='file:///home/gregorlenz/Applications/miniconda3/lib/python3.9/site-packages/grpc/_channel.py?line=812'>813</a>\u001b[0m             (cygrpc\u001b[39m.\u001b[39mOperationType\u001b[39m.\u001b[39mreceive_message\n\u001b[1;32m    <a href='file:///home/gregorlenz/Applications/miniconda3/lib/python3.9/site-packages/grpc/_channel.py?line=813'>814</a>\u001b[0m              \u001b[39mnot\u001b[39;00m \u001b[39min\u001b[39;00m \u001b[39mself\u001b[39m\u001b[39m.\u001b[39m_state\u001b[39m.\u001b[39mdue \u001b[39mand\u001b[39;00m\n\u001b[1;32m    <a href='file:///home/gregorlenz/Applications/miniconda3/lib/python3.9/site-packages/grpc/_channel.py?line=814'>815</a>\u001b[0m              \u001b[39mself\u001b[39m\u001b[39m.\u001b[39m_state\u001b[39m.\u001b[39mcode \u001b[39mis\u001b[39;00m \u001b[39mnot\u001b[39;00m \u001b[39mNone\u001b[39;00m))\n\u001b[0;32m--> <a href='file:///home/gregorlenz/Applications/miniconda3/lib/python3.9/site-packages/grpc/_channel.py?line=816'>817</a>\u001b[0m _common\u001b[39m.\u001b[39;49mwait(\u001b[39mself\u001b[39;49m\u001b[39m.\u001b[39;49m_state\u001b[39m.\u001b[39;49mcondition\u001b[39m.\u001b[39;49mwait, _response_ready)\n\u001b[1;32m    <a href='file:///home/gregorlenz/Applications/miniconda3/lib/python3.9/site-packages/grpc/_channel.py?line=817'>818</a>\u001b[0m \u001b[39mif\u001b[39;00m \u001b[39mself\u001b[39m\u001b[39m.\u001b[39m_state\u001b[39m.\u001b[39mresponse \u001b[39mis\u001b[39;00m \u001b[39mnot\u001b[39;00m \u001b[39mNone\u001b[39;00m:\n\u001b[1;32m    <a href='file:///home/gregorlenz/Applications/miniconda3/lib/python3.9/site-packages/grpc/_channel.py?line=818'>819</a>\u001b[0m     response \u001b[39m=\u001b[39m \u001b[39mself\u001b[39m\u001b[39m.\u001b[39m_state\u001b[39m.\u001b[39mresponse\n",
      "File \u001b[0;32m~/Applications/miniconda3/lib/python3.9/site-packages/grpc/_common.py:141\u001b[0m, in \u001b[0;36mwait\u001b[0;34m(wait_fn, wait_complete_fn, timeout, spin_cb)\u001b[0m\n\u001b[1;32m    <a href='file:///home/gregorlenz/Applications/miniconda3/lib/python3.9/site-packages/grpc/_common.py?line=138'>139</a>\u001b[0m \u001b[39mif\u001b[39;00m timeout \u001b[39mis\u001b[39;00m \u001b[39mNone\u001b[39;00m:\n\u001b[1;32m    <a href='file:///home/gregorlenz/Applications/miniconda3/lib/python3.9/site-packages/grpc/_common.py?line=139'>140</a>\u001b[0m     \u001b[39mwhile\u001b[39;00m \u001b[39mnot\u001b[39;00m wait_complete_fn():\n\u001b[0;32m--> <a href='file:///home/gregorlenz/Applications/miniconda3/lib/python3.9/site-packages/grpc/_common.py?line=140'>141</a>\u001b[0m         _wait_once(wait_fn, MAXIMUM_WAIT_TIMEOUT, spin_cb)\n\u001b[1;32m    <a href='file:///home/gregorlenz/Applications/miniconda3/lib/python3.9/site-packages/grpc/_common.py?line=141'>142</a>\u001b[0m \u001b[39melse\u001b[39;00m:\n\u001b[1;32m    <a href='file:///home/gregorlenz/Applications/miniconda3/lib/python3.9/site-packages/grpc/_common.py?line=142'>143</a>\u001b[0m     end \u001b[39m=\u001b[39m time\u001b[39m.\u001b[39mtime() \u001b[39m+\u001b[39m timeout\n",
      "File \u001b[0;32m~/Applications/miniconda3/lib/python3.9/site-packages/grpc/_common.py:106\u001b[0m, in \u001b[0;36m_wait_once\u001b[0;34m(wait_fn, timeout, spin_cb)\u001b[0m\n\u001b[1;32m    <a href='file:///home/gregorlenz/Applications/miniconda3/lib/python3.9/site-packages/grpc/_common.py?line=104'>105</a>\u001b[0m \u001b[39mdef\u001b[39;00m \u001b[39m_wait_once\u001b[39m(wait_fn, timeout, spin_cb):\n\u001b[0;32m--> <a href='file:///home/gregorlenz/Applications/miniconda3/lib/python3.9/site-packages/grpc/_common.py?line=105'>106</a>\u001b[0m     wait_fn(timeout\u001b[39m=\u001b[39;49mtimeout)\n\u001b[1;32m    <a href='file:///home/gregorlenz/Applications/miniconda3/lib/python3.9/site-packages/grpc/_common.py?line=106'>107</a>\u001b[0m     \u001b[39mif\u001b[39;00m spin_cb \u001b[39mis\u001b[39;00m \u001b[39mnot\u001b[39;00m \u001b[39mNone\u001b[39;00m:\n\u001b[1;32m    <a href='file:///home/gregorlenz/Applications/miniconda3/lib/python3.9/site-packages/grpc/_common.py?line=107'>108</a>\u001b[0m         spin_cb()\n",
      "File \u001b[0;32m~/Applications/miniconda3/lib/python3.9/threading.py:316\u001b[0m, in \u001b[0;36mCondition.wait\u001b[0;34m(self, timeout)\u001b[0m\n\u001b[1;32m    <a href='file:///home/gregorlenz/Applications/miniconda3/lib/python3.9/threading.py?line=313'>314</a>\u001b[0m \u001b[39melse\u001b[39;00m:\n\u001b[1;32m    <a href='file:///home/gregorlenz/Applications/miniconda3/lib/python3.9/threading.py?line=314'>315</a>\u001b[0m     \u001b[39mif\u001b[39;00m timeout \u001b[39m>\u001b[39m \u001b[39m0\u001b[39m:\n\u001b[0;32m--> <a href='file:///home/gregorlenz/Applications/miniconda3/lib/python3.9/threading.py?line=315'>316</a>\u001b[0m         gotit \u001b[39m=\u001b[39m waiter\u001b[39m.\u001b[39;49macquire(\u001b[39mTrue\u001b[39;49;00m, timeout)\n\u001b[1;32m    <a href='file:///home/gregorlenz/Applications/miniconda3/lib/python3.9/threading.py?line=316'>317</a>\u001b[0m     \u001b[39melse\u001b[39;00m:\n\u001b[1;32m    <a href='file:///home/gregorlenz/Applications/miniconda3/lib/python3.9/threading.py?line=317'>318</a>\u001b[0m         gotit \u001b[39m=\u001b[39m waiter\u001b[39m.\u001b[39macquire(\u001b[39mFalse\u001b[39;00m)\n",
      "\u001b[0;31mKeyboardInterrupt\u001b[0m: "
     ]
    }
   ],
   "source": [
    "df = experiment.get_scalars()"
   ]
  },
  {
   "cell_type": "code",
   "execution_count": null,
   "metadata": {},
   "outputs": [],
   "source": [
    "print(df[\"run\"].unique())\n",
    "print(df[\"tag\"].unique())"
   ]
  },
  {
   "cell_type": "code",
   "execution_count": null,
   "metadata": {},
   "outputs": [],
   "source": [
    "dfw = df.pivot_table(\n",
    "        values=\"value\",\n",
    "        index=[\"run\", \"step\"],\n",
    "        columns=\"tag\",\n",
    "        dropna=False,\n",
    "    )\n",
    "dfw = dfw.reset_index()\n",
    "dfw.columns.name = None\n",
    "dfw.columns.names = [None for name in dfw.columns.names]"
   ]
  },
  {
   "cell_type": "code",
   "execution_count": null,
   "metadata": {},
   "outputs": [],
   "source": [
    "print(dfw[\"run\"].unique())"
   ]
  },
  {
   "cell_type": "code",
   "execution_count": null,
   "metadata": {},
   "outputs": [],
   "source": [
    "dfw[\"step\"] = dfw[\"step\"] * dfw[\"epoch\"].max() / dfw[\"step\"].max()"
   ]
  },
  {
   "cell_type": "code",
   "execution_count": null,
   "metadata": {},
   "outputs": [],
   "source": [
    "df_scale_1 = dfw[dfw[\"run\"].str.endswith(\"00.0-1.0-small/version_0\") | dfw[\"run\"].str.endswith(\"00.0-1.0-small/version_1\") | dfw[\"run\"].str.endswith(\"00.0-1.0-small/version_2\")]"
   ]
  },
  {
   "cell_type": "code",
   "execution_count": null,
   "metadata": {},
   "outputs": [],
   "source": [
    "print(df_scale_1[\"run\"].unique())"
   ]
  },
  {
   "cell_type": "code",
   "execution_count": null,
   "metadata": {},
   "outputs": [],
   "source": [
    "method_split = df_scale_1.run.apply(lambda run: f\"{run.split('-')[1]}\".upper())\n",
    "method_split.name = None"
   ]
  },
  {
   "cell_type": "code",
   "execution_count": null,
   "metadata": {},
   "outputs": [],
   "source": [
    "plt.figure(figsize=(4.8, 4.8))\n",
    "sns.set(font_scale=1.5, style=\"white\")\n",
    "sns.lineplot(data=df_scale_1, x=\"step\", y=\"valid_acc\", style=method_split, color='black').set(title=\"Validation accuracy\", ylabel=\"Accuracy (%)\", xlabel=\"Trained epochs\")\n",
    "plt.tight_layout()\n",
    "plt.savefig('nmnist_accuracy.svg')"
   ]
  },
  {
   "cell_type": "code",
   "execution_count": null,
   "metadata": {},
   "outputs": [],
   "source": [
    "df_multi_scale = dfw[dfw[\"run\"].str.endswith(\"00.0-1.0-small/version_0\") | dfw[\"run\"].str.endswith(\"00.0-0.1-small/version_0\") | dfw[\"run\"].str.endswith(\"00.0-0.01-small/version_0\")]\n",
    "print(df_multi_scale[\"run\"].unique())"
   ]
  },
  {
   "cell_type": "code",
   "execution_count": null,
   "metadata": {},
   "outputs": [],
   "source": [
    "exodus_df_1 = df_multi_scale[df_multi_scale[\"run\"] == \"nmnist-exodus-100000.0-1.0-small/version_0\"]\n",
    "exodus_df_01 = df_multi_scale[df_multi_scale[\"run\"] == \"nmnist-exodus-100000.0-0.1-small/version_0\"]\n",
    "exodus_df_001 = df_multi_scale[df_multi_scale[\"run\"] == \"nmnist-exodus-100000.0-0.01-small/version_0\"]\n",
    "slayer_df_1 = df_multi_scale[df_multi_scale[\"run\"] == \"nmnist-slayer-100000.0-1.0-small/version_0\"]\n",
    "slayer_df_01 = df_multi_scale[df_multi_scale[\"run\"] == \"nmnist-slayer-100000.0-0.1-small/version_0\"]\n",
    "slayer_df_001 = df_multi_scale[df_multi_scale[\"run\"] == \"nmnist-slayer-100000.0-0.01-small/version_0\"]\n",
    "\n",
    "gdf = pd.DataFrame({\n",
    "    'algorithm': ['EXODUS', 'EXODUS', 'EXODUS', 'SLAYER', 'SLAYER', 'SLAYER', 'EXODUS', 'EXODUS', 'EXODUS', 'SLAYER', 'SLAYER', 'SLAYER', 'EXODUS', 'EXODUS', 'EXODUS', 'SLAYER', 'SLAYER', 'SLAYER'],\n",
    "    'Layer': [1, 2, 3, 1, 2, 3, 1, 2, 3, 1, 2, 3, 1, 2, 3, 1, 2, 3],\n",
    "    'Gradient scaling': [1, 1, 1, 1, 1, 1, 0.1, 0.1, 0.1, 0.1, 0.1, 0.1, 0.01, 0.01, 0.01, 0.01, 0.01, 0.01],\n",
    "    'Mean 2-norm': [\n",
    "        exodus_df_1[\"grad_2.0_norm/network.2.weight_epoch\"].mean(),\n",
    "        exodus_df_1[\"grad_2.0_norm/network.4.weight_epoch\"].mean(),\n",
    "        exodus_df_1[\"grad_2.0_norm/network.6.weight_epoch\"].mean(),\n",
    "        slayer_df_1[\"grad_2.0_norm/fc1.weight_epoch\"].mean(),\n",
    "        slayer_df_1[\"grad_2.0_norm/fc2.weight_epoch\"].mean(),\n",
    "        slayer_df_1[\"grad_2.0_norm/fc3.weight_epoch\"].mean(),\n",
    "        exodus_df_01[\"grad_2.0_norm/network.2.weight_epoch\"].mean(),\n",
    "        exodus_df_01[\"grad_2.0_norm/network.4.weight_epoch\"].mean(),\n",
    "        exodus_df_01[\"grad_2.0_norm/network.6.weight_epoch\"].mean(),\n",
    "        slayer_df_01[\"grad_2.0_norm/fc1.weight_epoch\"].mean(),\n",
    "        slayer_df_01[\"grad_2.0_norm/fc2.weight_epoch\"].mean(),\n",
    "        slayer_df_01[\"grad_2.0_norm/fc3.weight_epoch\"].mean(),\n",
    "        exodus_df_001[\"grad_2.0_norm/network.2.weight_epoch\"].mean(),\n",
    "        exodus_df_001[\"grad_2.0_norm/network.4.weight_epoch\"].mean(),\n",
    "        exodus_df_001[\"grad_2.0_norm/network.6.weight_epoch\"].mean(),\n",
    "        slayer_df_001[\"grad_2.0_norm/fc1.weight_epoch\"].mean(),\n",
    "        slayer_df_001[\"grad_2.0_norm/fc1.weight_epoch\"].mean(),\n",
    "        slayer_df_001[\"grad_2.0_norm/fc3.weight_epoch\"].mean(),\n",
    "        ]\n",
    "})\n",
    "gdf"
   ]
  },
  {
   "cell_type": "code",
   "execution_count": null,
   "metadata": {},
   "outputs": [
    {
     "ename": "NameError",
     "evalue": "name 'sns' is not defined",
     "output_type": "error",
     "traceback": [
      "\u001b[0;31m---------------------------------------------------------------------------\u001b[0m",
      "\u001b[0;31mNameError\u001b[0m                                 Traceback (most recent call last)",
      "\u001b[1;32m/home/gregorlenz/Development/synsense/slayer-comparison/nmnist/plot_acc_grads.ipynb Cell 14'\u001b[0m in \u001b[0;36m<cell line: 1>\u001b[0;34m()\u001b[0m\n\u001b[0;32m----> <a href='vscode-notebook-cell:/home/gregorlenz/Development/synsense/slayer-comparison/nmnist/plot_acc_grads.ipynb#ch0000013?line=0'>1</a>\u001b[0m sns\u001b[39m.\u001b[39mset(font_scale\u001b[39m=\u001b[39m\u001b[39m1\u001b[39m, style\u001b[39m=\u001b[39m\u001b[39m\"\u001b[39m\u001b[39mwhite\u001b[39m\u001b[39m\"\u001b[39m)\n\u001b[1;32m      <a href='vscode-notebook-cell:/home/gregorlenz/Development/synsense/slayer-comparison/nmnist/plot_acc_grads.ipynb#ch0000013?line=1'>2</a>\u001b[0m plt\u001b[39m.\u001b[39mfigure(figsize\u001b[39m=\u001b[39m(\u001b[39m4\u001b[39m, \u001b[39m8\u001b[39m))\n\u001b[1;32m      <a href='vscode-notebook-cell:/home/gregorlenz/Development/synsense/slayer-comparison/nmnist/plot_acc_grads.ipynb#ch0000013?line=2'>3</a>\u001b[0m g \u001b[39m=\u001b[39m sns\u001b[39m.\u001b[39mFacetGrid(gdf, col\u001b[39m=\u001b[39m\u001b[39m\"\u001b[39m\u001b[39malgorithm\u001b[39m\u001b[39m\"\u001b[39m, hue\u001b[39m=\u001b[39m\u001b[39m\"\u001b[39m\u001b[39mGradient scaling\u001b[39m\u001b[39m\"\u001b[39m, palette\u001b[39m=\u001b[39m\u001b[39m'\u001b[39m\u001b[39mflare\u001b[39m\u001b[39m'\u001b[39m, height\u001b[39m=\u001b[39m\u001b[39m3\u001b[39m, aspect\u001b[39m=\u001b[39m\u001b[39m0.85\u001b[39m, legend_out\u001b[39m=\u001b[39m\u001b[39mFalse\u001b[39;00m)\n",
      "\u001b[0;31mNameError\u001b[0m: name 'sns' is not defined"
     ]
    }
   ],
   "source": [
    "sns.set(font_scale=0.9, style=\"white\")\n",
    "plt.figure(figsize=(4, 8))\n",
    "g = sns.FacetGrid(gdf, col=\"algorithm\", hue=\"Gradient scaling\", palette='flare')\n",
    "g.map(plt.plot, \"Layer\", \"Mean 2-norm\", linestyle=\"-\", marker=\"o\")\n",
    "g.set_titles(\"{col_name}\")\n",
    "plt.suptitle(\"Gradient norms\")\n",
    "plt.legend(bbox_to_anchor=(1.05, 1), loc=2, borderaxespad=0.0)\n",
    "plt.yscale(\"log\")\n",
    "# for ax in g.axes.flatten():\n",
    "#     ax.set_xticklabels(ax.get_xticklabels(), rotation=45)\n",
    "plt.legend(bbox_to_anchor=(1.05, 1), loc=2, borderaxespad=0.0, title=\"Surrogate scale\")\n",
    "plt.tight_layout()\n",
    "# plt.subplots_adjust(top=0.8)\n",
    "plt.savefig(f\"nmnist_mean_gradnorm.svg\")"
   ]
  },
  {
   "cell_type": "code",
   "execution_count": null,
   "metadata": {},
   "outputs": [],
   "source": []
  }
 ],
 "metadata": {
  "interpreter": {
   "hash": "65b6f4b806bbaf5b54d6ccaa27abf7e5307b1f0e4411e9da36d5256169cebdd7"
  },
  "kernelspec": {
   "display_name": "Python 3.9.7 ('base')",
   "language": "python",
   "name": "python3"
  },
  "language_info": {
   "codemirror_mode": {
    "name": "ipython",
    "version": 3
   },
   "file_extension": ".py",
   "mimetype": "text/x-python",
   "name": "python",
   "nbconvert_exporter": "python",
   "pygments_lexer": "ipython3",
   "version": "3.9.7"
  },
  "orig_nbformat": 4
 },
 "nbformat": 4,
 "nbformat_minor": 2
}
