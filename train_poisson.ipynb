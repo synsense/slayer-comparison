{
 "cells": [
  {
   "cell_type": "code",
   "execution_count": null,
   "metadata": {},
   "outputs": [],
   "source": [
    "import torch\n",
    "import torch.nn as nn\n",
    "import numpy as np\n",
    "import matplotlib.pyplot as plt\n",
    "from tqdm.auto import tqdm\n",
    "from poisson_models import ExodusNet, SlayerNet, smooth"
   ]
  },
  {
   "cell_type": "code",
   "execution_count": null,
   "metadata": {},
   "outputs": [],
   "source": [
    "encoding_dim = 250\n",
    "hidden_dim = 25\n",
    "tau_mem = 20.\n",
    "spike_threshold = 1\n",
    "learning_rate = 1e-3\n",
    "n_time_steps = 200\n",
    "epochs = 3000\n",
    "width_grad = 1\n",
    "scale_grad = 1"
   ]
  },
  {
   "cell_type": "code",
   "execution_count": null,
   "metadata": {},
   "outputs": [],
   "source": [
    "torch.manual_seed(8935)\n",
    "\n",
    "slayernet = SlayerNet(\n",
    "    encoding_dim=encoding_dim,\n",
    "    hidden_dim=hidden_dim,\n",
    "    tau_mem=tau_mem,\n",
    "    spike_threshold=spike_threshold,\n",
    "    n_time_steps=n_time_steps,\n",
    "    width_grad=width_grad,\n",
    "    scale_grad=scale_grad,\n",
    ").cuda()\n",
    "\n",
    "exodusnet = ExodusNet(\n",
    "    encoding_dim=encoding_dim,\n",
    "    hidden_dim=hidden_dim,\n",
    "    tau_mem=tau_mem,\n",
    "    spike_threshold=spike_threshold,\n",
    "    n_time_steps=n_time_steps,\n",
    "    width_grad=width_grad,\n",
    "    scale_grad=scale_grad,\n",
    ").cuda()\n",
    "\n",
    "exodusnet.lin1.weight.data = slayernet.lin1.weight.data.clone()\n",
    "exodusnet.lin2.weight.data = slayernet.lin2.weight.data.clone()\n",
    "\n",
    "criterion = nn.MSELoss()\n",
    "\n",
    "input_spikes = (torch.rand(1, n_time_steps, encoding_dim, 1, 1) > 0.95).float().cuda()\n",
    "target = torch.zeros((1, n_time_steps, 1, 1, 1)).float().cuda()\n",
    "target[0, torch.randint(n_time_steps//5, n_time_steps, (4, )), 0] = 1\n",
    "\n",
    "out1 = exodusnet(input_spikes)\n",
    "out2 = slayernet(input_spikes)\n",
    "\n",
    "assert out1.sum() == out2.sum() # mostly 0\n",
    "assert torch.allclose(exodusnet.lif1.v_mem_recorded, slayernet.psp_post1, atol=1e-3)"
   ]
  },
  {
   "cell_type": "code",
   "execution_count": null,
   "metadata": {},
   "outputs": [],
   "source": [
    "def train(model, input_spikes, target):\n",
    "    optimiser = torch.optim.Adam(model.parameters(), lr=learning_rate)\n",
    "\n",
    "    out_spikes = []\n",
    "    losses = []\n",
    "    for epoch in tqdm(range(epochs)):\n",
    "        optimiser.zero_grad()\n",
    "        if model.spiking_layers:\n",
    "            for layer in model.spiking_layers:\n",
    "                layer.zero_grad()\n",
    "        out = model(input_spikes)\n",
    "        loss = criterion(out, target)\n",
    "        loss.backward()\n",
    "        optimiser.step()\n",
    "\n",
    "        out_spikes.append(out.flatten())\n",
    "        losses.append(loss.item())\n",
    "\n",
    "    print(out.sum())\n",
    "    output_spikes = torch.stack(out_spikes).detach().cpu().numpy().T\n",
    "    return output_spikes, np.array(losses)\n"
   ]
  },
  {
   "cell_type": "code",
   "execution_count": null,
   "metadata": {},
   "outputs": [],
   "source": [
    "print(exodusnet.lin1.weight.mean())\n",
    "print(slayernet.lin1.weight.mean())\n",
    "slayer_output, slayer_losses = train(slayernet, input_spikes, target)\n",
    "print(exodusnet.lin1.weight.mean())\n",
    "print(slayernet.lin1.weight.mean())\n",
    "exodus_output, exodus_losses = train(exodusnet, input_spikes, target)\n",
    "print(exodusnet.lin1.weight.mean())\n",
    "print(slayernet.lin1.weight.mean())\n"
   ]
  },
  {
   "cell_type": "code",
   "execution_count": null,
   "metadata": {},
   "outputs": [],
   "source": [
    "fig = plt.figure(figsize=(8, 8))\n",
    "ax1 = fig.add_subplot(211)\n",
    "xpad = epochs/50\n",
    "xmin = -xpad\n",
    "xmax = epochs+xpad\n",
    "xmin_fraction = 1-(epochs/(epochs+xpad))\n",
    "xmax_fraction = 1-xmin_fraction\n",
    "\n",
    "from matplotlib.lines import Line2D\n",
    "legend1 = [\n",
    "    Line2D([0], [0], color='C0', lw=4, label='EXODUS spikes'),\n",
    "    Line2D([0], [0], color='C1', lw=4, label='SLAYER spikes'),\n",
    "    Line2D([0], [0], color='black', lw=4, label='Target'),\n",
    "]\n",
    "\n",
    "for spike in np.where(target.to(\"cpu\"))[1]:\n",
    "    ax1.axhspan(spike, spike, xmin=xmin_fraction, xmax=xmax_fraction, alpha=1, linewidth=3, color='black')\n",
    "ax1.scatter(np.where(exodus_output)[1], np.where(exodus_output)[0], s=0.3, alpha=0.5)\n",
    "ax1.scatter(np.where(slayer_output)[1], np.where(slayer_output)[0], s=0.3, alpha=0.5)\n",
    "ax1.set_ylabel(\"Spike output [t]\")\n",
    "ax1.set_xlim(xmin, xmax)\n",
    "ax1.legend(handles=legend1, loc='best')\n",
    "\n",
    "legend2 = [\n",
    "    Line2D([0], [0], color='C0', lw=4, label='EXODUS smoothed loss'),\n",
    "    Line2D([0], [0], color='C1', lw=4, label='SLAYER smoothed loss'),\n",
    "]\n",
    "ax2 = fig.add_subplot(212)\n",
    "ax2.plot(smooth(exodus_losses, window_len=30), label='EXODUS smoothed loss')\n",
    "ax2.plot(smooth(slayer_losses, window_len=30), label='SLAYER smoothed loss')\n",
    "ax2.legend()\n",
    "ax2.set_xlim(xmin, xmax)\n",
    "ax2.set_ylabel(\"Loss\")\n",
    "ax2.set_xlabel(\"Epochs\")\n",
    "\n",
    "plt.savefig(\"poisson_result.png\")"
   ]
  },
  {
   "cell_type": "code",
   "execution_count": null,
   "metadata": {},
   "outputs": [],
   "source": [
    "handles, labels = ax1.get_legend_handles_labels()"
   ]
  },
  {
   "cell_type": "code",
   "execution_count": null,
   "metadata": {},
   "outputs": [],
   "source": [
    "ok = handles[0]"
   ]
  },
  {
   "cell_type": "code",
   "execution_count": null,
   "metadata": {},
   "outputs": [],
   "source": [
    "ok."
   ]
  }
 ],
 "metadata": {
  "interpreter": {
   "hash": "e6cb2531ff3209080f8ff5f4f1b83a3f6fd522559ade981afeb04664418b3902"
  },
  "kernelspec": {
   "display_name": "Python 3.9.7 64-bit ('slayer-comparison': conda)",
   "language": "python",
   "name": "python3"
  },
  "language_info": {
   "codemirror_mode": {
    "name": "ipython",
    "version": 3
   },
   "file_extension": ".py",
   "mimetype": "text/x-python",
   "name": "python",
   "nbconvert_exporter": "python",
   "pygments_lexer": "ipython3",
   "version": "3.9.7"
  }
 },
 "nbformat": 4,
 "nbformat_minor": 2
}
