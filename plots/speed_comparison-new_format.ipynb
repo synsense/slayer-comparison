{
 "cells": [
  {
   "cell_type": "code",
   "execution_count": null,
   "metadata": {},
   "outputs": [],
   "source": [
    "import pandas as pd\n",
    "import numpy as np\n",
    "from pathlib import Path\n",
    "import matplotlib.pyplot as plt\n",
    "import seaborn as sns"
   ]
  },
  {
   "cell_type": "code",
   "execution_count": null,
   "metadata": {},
   "outputs": [],
   "source": [
    "directories = {\n",
    "    \"SSC\": \"../ssc\",\n",
    "    \"DVS Gesture\": \"../dvs_gesture\",\n",
    "    \"HSD\": \"../hsd\",\n",
    "}\n",
    "\n",
    "collected_frames = dict()\n",
    "for dataset, path in directories.items():\n",
    "    df = pd.read_csv(Path(path) / \"times_new_table.csv\", header=0, index_col=0)\n",
    "    df[\"dataset\"] = dataset\n",
    "    collected_frames[dataset] = df\n",
    "\n",
    "times = pd.concat(collected_frames.values(), ignore_index=True)"
   ]
  },
  {
   "cell_type": "code",
   "execution_count": null,
   "metadata": {},
   "outputs": [],
   "source": [
    "# sns.set(font_scale=1.5, style=\"white\")\n",
    "time_no_reset = times[times.step != \"reset\"]\n",
    "for dataset in time_no_reset.dataset.unique():\n",
    "    plt.figure()\n",
    "    plot = sns.barplot(data=time_no_reset[time_no_reset.dataset == dataset], y=\"time\", x=\"step\", hue=\"algorithm\")\n",
    "    plot.set_xlabel(\"Time per epoch (s)\")\n",
    "    plot.axes.yaxis.label.set_visible(False)\n",
    "    plt.tight_layout()\n",
    "    plt.savefig(f\"comp_time_comparison_{dataset}.svg\")"
   ]
  },
  {
   "cell_type": "code",
   "execution_count": null,
   "metadata": {},
   "outputs": [],
   "source": [
    "for dataset, df_ds in collected_frames.items():\n",
    "    print(dataset)\n",
    "    for step in [\"forward\", \"backward\"]:\n",
    "    # for step in [\"backward\"]:\n",
    "        print(step)\n",
    "        df = df_ds[df_ds.step == step]\n",
    "        grouped = df.groupby([\"algorithm\"])\n",
    "        means = grouped.mean() # .reset_index()\n",
    "        stds = grouped.std()\n",
    "        fig = plt.figure(figsize=(2.5, 3))\n",
    "        x = ['BPTT', 'SLAYER', 'EXODUS']\n",
    "        y = [means.loc[method][\"time\"]*1000 for method in x]\n",
    "        s = [stds.loc[method][\"time\"]*1000 for method in x]\n",
    "        b = np.array(y[1:])\n",
    "        db = np.array(s[1:])\n",
    "        ratios = y[0] / b\n",
    "        s_ratios = np.sqrt(s[0]**2 / b**2 + y[0]**2 * db**2 / b**4)\n",
    "        print(f\"\\tBPTT: {y[0]:.2f} +- {s[0]:.1f} ms\")\n",
    "        print(f\"\\tSLAYER: {y[1]:.2f} +- {s[1]:.1f} ms\")\n",
    "        print(f\"\\t\\t {ratios[0]:.2f} +- {s_ratios[0]:.2f} times faster\")\n",
    "        print(f\"\\tEXODUS: {y[2]:.2f} +- {s[2]:.1f} ms\")\n",
    "        print(f\"\\t\\t {ratios[1]:.2f} +- {s_ratios[1]:.2f} times faster\")\n",
    "        # barlist=plt.bar(x, y, yerr=s) #, width=1)\n",
    "        ratios = np.insert(ratios, 0, 1.)\n",
    "        s_ratios = np.insert(s_ratios, 0, 0)\n",
    "        barlist=plt.bar(x, ratios, yerr=s_ratios) #, width=1)\n",
    "        barlist[0].set_color('C2')\n",
    "        barlist[1].set_color('C1')\n",
    "        barlist[2].set_color('C0')\n",
    "        ax = fig.get_axes()[0]\n",
    "        ax.set_xticklabels(['BPTT', 'SLAYER', 'EXODUS'], rotation=20)\n",
    "        ax.set_ylabel(\"Backward pass speedup\")\n",
    "        ax.spines['top'].set_visible(False)\n",
    "        ax.spines['right'].set_visible(False)\n",
    "        plt.tight_layout()\n",
    "        plt.savefig(f\"time_{dataset}_{step}.svg\")\n",
    "    \n",
    "    "
   ]
  },
  {
   "cell_type": "code",
   "execution_count": null,
   "metadata": {},
   "outputs": [],
   "source": [
    "np.array([11.22, 14.09, 14.59]).mean()"
   ]
  },
  {
   "cell_type": "code",
   "execution_count": null,
   "metadata": {},
   "outputs": [],
   "source": [
    "np.array([17.30, 16.57, 9.1]).mean()"
   ]
  }
 ],
 "metadata": {
  "kernelspec": {
   "display_name": "Python 3.9.7 ('slayer-comparison')",
   "language": "python",
   "name": "python3"
  },
  "language_info": {
   "codemirror_mode": {
    "name": "ipython",
    "version": 3
   },
   "file_extension": ".py",
   "mimetype": "text/x-python",
   "name": "python",
   "nbconvert_exporter": "python",
   "pygments_lexer": "ipython3",
   "version": "3.9.7"
  },
  "vscode": {
   "interpreter": {
    "hash": "e6cb2531ff3209080f8ff5f4f1b83a3f6fd522559ade981afeb04664418b3902"
   }
  }
 },
 "nbformat": 4,
 "nbformat_minor": 4
}
