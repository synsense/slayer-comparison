{
 "cells": [
  {
   "cell_type": "code",
   "execution_count": null,
   "metadata": {},
   "outputs": [],
   "source": [
    "import pandas as pd\n",
    "import numpy as np\n",
    "from pathlib import Path\n",
    "import matplotlib.pyplot as plt\n",
    "import seaborn as sns"
   ]
  },
  {
   "cell_type": "code",
   "execution_count": null,
   "metadata": {},
   "outputs": [],
   "source": [
    "index = ['HSD', 'SSC', 'DVS Gesture']    \n",
    "\n",
    "bptt = [10, 6*60+4, 10]\n",
    "\n",
    "slayer = [10, 60+6, 10]\n",
    "\n",
    "exodus = [10, 23, 10]\n",
    "\n",
    "\n",
    "df = pd.DataFrame({'EXODUS': exodus,\n",
    "                   'SLAYER': slayer,\n",
    "                   'BPTT': bptt,\n",
    "                   }, index=index)\n",
    "\n",
    "ax = df.plot.barh()\n",
    "ax.set_xlabel(\"Time per epoch (s)\")\n",
    "plt.tight_layout()\n",
    "plt.savefig(\"comp_time_comparison.svg\")"
   ]
  },
  {
   "cell_type": "code",
   "execution_count": null,
   "metadata": {},
   "outputs": [],
   "source": [
    "directories = {\n",
    "    \"SSC\": \"../ssc\",\n",
    "    \"DVS Gesture\": \"../dvs_gesture\",\n",
    "    # \"HSD\": \"../hds:\",\n",
    "}\n",
    "\n",
    "collected_frames = []\n",
    "for dataset, path in directories.items():\n",
    "    df = pd.read_csv(Path(path) / \"times.csv\", header=0, index_col=0)\n",
    "    collected_frames.append(\n",
    "        pd.concat(\n",
    "            [\n",
    "                pd.DataFrame({\"algorithm\": c, \"time\": df[c], \"Dataset\": dataset})\n",
    "                for c in df.columns\n",
    "            ],\n",
    "            ignore_index=True\n",
    "        )\n",
    "    )\n",
    "times = pd.concat(collected_frames, ignore_index=True)"
   ]
  },
  {
   "cell_type": "code",
   "execution_count": null,
   "metadata": {},
   "outputs": [],
   "source": [
    "sns.set(font_scale=1.5, style=\"white\")\n",
    "plot = sns.barplot(data=times, x=\"time\", y=\"Dataset\", hue=\"algorithm\")\n",
    "plot.set_xlabel(\"Time per epoch (s)\")\n",
    "plot.axes.yaxis.label.set_visible(False)\n",
    "plot.axes.set_yticklabels(plot.axes.get_yticklabels(), rotation=45, va=\"center\")\n",
    "plt.tight_layout()\n",
    "plt.savefig(\"comp_time_comparison.svg\")"
   ]
  },
  {
   "cell_type": "code",
   "execution_count": null,
   "metadata": {},
   "outputs": [],
   "source": []
  }
 ],
 "metadata": {
  "interpreter": {
   "hash": "65b6f4b806bbaf5b54d6ccaa27abf7e5307b1f0e4411e9da36d5256169cebdd7"
  },
  "kernelspec": {
   "display_name": "Python 3 (ipykernel)",
   "language": "python",
   "name": "python3"
  },
  "language_info": {
   "codemirror_mode": {
    "name": "ipython",
    "version": 3
   },
   "file_extension": ".py",
   "mimetype": "text/x-python",
   "name": "python",
   "nbconvert_exporter": "python",
   "pygments_lexer": "ipython3",
   "version": "3.8.10"
  }
 },
 "nbformat": 4,
 "nbformat_minor": 4
}
