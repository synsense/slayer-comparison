{
 "cells": [
  {
   "cell_type": "code",
   "execution_count": 4,
   "metadata": {},
   "outputs": [],
   "source": [
    "import pandas as pd\n",
    "import matplotlib.pyplot as plt"
   ]
  },
  {
   "cell_type": "code",
   "execution_count": 6,
   "metadata": {},
   "outputs": [
    {
     "data": {
      "image/png": "[encoded data removed]",
      "text/plain": [
       "<Figure size 432x288 with 1 Axes>"
      ]
     },
     "metadata": {
      "needs_background": "light"
     },
     "output_type": "display_data"
    }
   ],
   "source": [
    "index = ['HSD', 'SSC', 'DVS Gesture']\n",
    "\n",
    "bptt = [10, 6*60+4, 10]\n",
    "\n",
    "slayer = [10, 60+6, 10]\n",
    "\n",
    "exodus = [10, 23, 10]\n",
    "\n",
    "\n",
    "df = pd.DataFrame({'EXODUS': exodus,\n",
    "                   'SLAYER': slayer,\n",
    "                   'BPTT': bptt,\n",
    "                   }, index=index)\n",
    "\n",
    "ax = df.plot.barh()\n",
    "ax.set_xlabel(\"Time per epoch (s)\")\n",
    "plt.tight_layout()\n",
    "plt.savefig(\"comp_time_comparison.svg\")"
   ]
  },
  {
   "cell_type": "code",
   "execution_count": null,
   "metadata": {},
   "outputs": [],
   "source": []
  }
 ],
 "metadata": {
  "interpreter": {
   "hash": "65b6f4b806bbaf5b54d6ccaa27abf7e5307b1f0e4411e9da36d5256169cebdd7"
  },
  "kernelspec": {
   "display_name": "Python 3.9.7 ('base')",
   "language": "python",
   "name": "python3"
  },
  "language_info": {
   "codemirror_mode": {
    "name": "ipython",
    "version": 3
   },
   "file_extension": ".py",
   "mimetype": "text/x-python",
   "name": "python",
   "nbconvert_exporter": "python",
   "pygments_lexer": "ipython3",
   "version": "3.9.7"
  },
  "orig_nbformat": 4
 },
 "nbformat": 4,
 "nbformat_minor": 2
}
