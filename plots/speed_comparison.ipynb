{
 "cells": [
  {
   "cell_type": "code",
   "execution_count": null,
   "metadata": {},
   "outputs": [],
   "source": [
    "import pandas as pd\n",
    "import numpy as np\n",
    "from pathlib import Path\n",
    "import matplotlib.pyplot as plt\n",
    "import seaborn as sns"
   ]
  },
  {
   "cell_type": "code",
   "execution_count": null,
   "metadata": {},
   "outputs": [],
   "source": [
    "directories = {\n",
    "    \"SSC\": \"../ssc\",\n",
    "    \"DVS Gesture\": \"../dvs_gesture\",\n",
    "    \"HSD\": \"../hsd\",\n",
    "}\n",
    "\n",
    "collected_frames = dict()\n",
    "for dataset, path in directories.items():\n",
    "    df = pd.read_csv(Path(path) / \"times.csv\", header=0, index_col=0)\n",
    "    collected_frames[dataset] = pd.concat(\n",
    "        [\n",
    "            pd.DataFrame({\"algorithm\": c, \"time\": df[c], \"Dataset\": dataset})\n",
    "            for c in df.columns\n",
    "        ],\n",
    "        ignore_index=True\n",
    "    )\n",
    "\n",
    "times = pd.concat(collected_frames.values(), ignore_index=True)"
   ]
  },
  {
   "cell_type": "code",
   "execution_count": null,
   "metadata": {},
   "outputs": [],
   "source": [
    "# sns.set(font_scale=1.5, style=\"white\")\n",
    "plot = sns.barplot(data=times, x=\"time\", y=\"Dataset\", hue=\"algorithm\")\n",
    "plot.set_xlabel(\"Time per epoch (s)\")\n",
    "plot.axes.yaxis.label.set_visible(False)\n",
    "plot.axes.set_yticklabels(plot.axes.get_yticklabels(), rotation=45, va=\"center\")\n",
    "plt.tight_layout()\n",
    "plt.savefig(\"comp_time_comparison.svg\")"
   ]
  },
  {
   "cell_type": "code",
   "execution_count": null,
   "metadata": {},
   "outputs": [],
   "source": [
    "for dataset, df in collected_frames.items():\n",
    "    print(dataset)\n",
    "    grouped = df.groupby([\"algorithm\"])\n",
    "    means = grouped.mean() # .reset_index()\n",
    "    stds = grouped.std()\n",
    "    fig = plt.figure(figsize=(2.5, 3))\n",
    "    x = ['BPTT', 'SLAYER', 'EXODUS']\n",
    "    y = [means.loc[method][\"time\"] for method in x]\n",
    "    s = [stds.loc[method][\"time\"] for method in x]\n",
    "    b = np.array(y[1:])\n",
    "    db = np.array(s[1:])\n",
    "    ratios = y[0] / b\n",
    "    s_ratios = np.sqrt(s[0]**2 / b**2 + y[0]**2 * db**2 / b**4)\n",
    "    print(f\"\\tBPTT: {y[0]:.2f} +- {s[0]:.2f}\")\n",
    "    print(f\"\\tSLAYER: {y[1]:.2f} +- {s[1]:.2f}\")\n",
    "    print(f\"\\t\\t {ratios[0]:.2f} +- {s_ratios[0]:.2f} times faster\")\n",
    "    print(f\"\\tEXODUS: {y[2]:.2f} +- {s[2]:.2f}\")\n",
    "    print(f\"\\t\\t {ratios[1]:.2f} +- {s_ratios[1]:.2f} times faster\")\n",
    "    barlist=plt.bar(x, y, yerr=s) #, width=1)\n",
    "    barlist[0].set_color('C2')\n",
    "    barlist[1].set_color('C1')\n",
    "    barlist[2].set_color('C0')\n",
    "    ax = fig.get_axes()[0]\n",
    "    ax.set_xticklabels(['BPTT', 'SLAYER', 'EXODUS'], rotation=20)\n",
    "    ax.set_ylabel(\"Time / epoch (s)\")\n",
    "    ax.spines['top'].set_visible(False)\n",
    "    ax.spines['right'].set_visible(False)\n",
    "    plt.tight_layout()\n",
    "    plt.savefig(f\"time_{dataset}.svg\")\n",
    "    \n",
    "    "
   ]
  },
  {
   "cell_type": "code",
   "execution_count": null,
   "metadata": {},
   "outputs": [],
   "source": [
    "df = collected_frames[\"SSC\"]\n",
    "grouped = df.groupby([\"algorithm\"])\n",
    "means = grouped.mean() # .reset_index()\n",
    "stds = grouped.std().reset_index()\n",
    "x = ['BPTT', 'SLAYER', 'EXODUS']\n",
    "y = [means.loc[method][\"time\"] for method in x]"
   ]
  },
  {
   "cell_type": "code",
   "execution_count": null,
   "metadata": {},
   "outputs": [],
   "source": [
    "y"
   ]
  },
  {
   "cell_type": "code",
   "execution_count": null,
   "metadata": {},
   "outputs": [],
   "source": []
  }
 ],
 "metadata": {
  "interpreter": {
   "hash": "65b6f4b806bbaf5b54d6ccaa27abf7e5307b1f0e4411e9da36d5256169cebdd7"
  },
  "kernelspec": {
   "display_name": "Python 3 (ipykernel)",
   "language": "python",
   "name": "python3"
  },
  "language_info": {
   "codemirror_mode": {
    "name": "ipython",
    "version": 3
   },
   "file_extension": ".py",
   "mimetype": "text/x-python",
   "name": "python",
   "nbconvert_exporter": "python",
   "pygments_lexer": "ipython3",
   "version": "3.8.10"
  }
 },
 "nbformat": 4,
 "nbformat_minor": 4
}
