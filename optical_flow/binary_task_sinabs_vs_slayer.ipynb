{
 "cells": [
  {
   "cell_type": "markdown",
   "id": "b7272506",
   "metadata": {},
   "source": [
    "# Why does sinabs-slayer model not work?\n",
    "\n",
    "This notebook will show that for the wheel-motion classification toy task, the same model architecture can be trained with sinabs but training on sinabs-slayer fails. We will try to explore why this is the case.\n",
    "\n",
    "The notebook's code is based on the script `binary_task.py`\n",
    "\n",
    "SPOILER:\n",
    "The problem was exploding gradients in the slayer model. Enabling an option to scale down the surrogate gradients resolved it.\n",
    "The problem can be reproduced by setting `kwargs_spiking[\"scale_grads\"]` to 1 (second code cell), which corresponds to the original value."
   ]
  },
  {
   "cell_type": "code",
   "execution_count": 1,
   "id": "3d7b7d7d",
   "metadata": {},
   "outputs": [
    {
     "name": "stdout",
     "output_type": "stream",
     "text": [
      "(2, 256, 256, 99)\n"
     ]
    }
   ],
   "source": [
    "### --- Imports\n",
    "\n",
    "import torch\n",
    "from torch import nn\n",
    "import numpy as np\n",
    "from matplotlib import pyplot as plt\n",
    "\n",
    "from slayerSNN import loss as SpikeLoss\n",
    "\n",
    "from sinabs.from_torch import from_model\n",
    "from sinabs.utils import get_activations\n",
    "import sinabs.layers as sl\n",
    "\n",
    "from data import InvertDirDataset\n",
    "from binary_models import SlayerModel, ExodusModel\n",
    "\n",
    "### --- Load events\n",
    "raster = np.load(\"rotation_events.npy\")\n",
    "raster = raster.transpose(1,2,3,0)\n",
    "print(raster.shape)"
   ]
  },
  {
   "cell_type": "code",
   "execution_count": 35,
   "id": "d861fbfd",
   "metadata": {
    "scrolled": true
   },
   "outputs": [
    {
     "name": "stdout",
     "output_type": "stream",
     "text": [
      "Sinabs model:\n",
      "ExodusModel(\n",
      "  (pool0): AvgPool2d(kernel_size=4, stride=4, padding=0)\n",
      "  (conv0): Conv2d(2, 4, kernel_size=(7, 7), stride=(1, 1), padding=(3, 3), bias=False)\n",
      "  (spk0): IAFSqueeze-module, backend: exodus\n",
      "  (pool1): AvgPool2d(kernel_size=4, stride=4, padding=0)\n",
      "  (conv1): Conv2d(4, 8, kernel_size=(7, 7), stride=(1, 1), padding=(3, 3), bias=False)\n",
      "  (spk1): IAFSqueeze-module, backend: exodus\n",
      "  (pool2): AvgPool2d(kernel_size=4, stride=4, padding=0)\n",
      "  (linear): Linear(in_features=128, out_features=2, bias=False)\n",
      ")\n",
      "Slayer model:\n",
      "SlayerModel(\n",
      "  (slayer): SlayerLayer()\n",
      "  (pool0): _poolLayer(1, 1, kernel_size=(4, 4, 1), stride=(4, 4, 1), bias=False)\n",
      "  (conv0): _convLayer(2, 4, kernel_size=(7, 7, 1), stride=(1, 1, 1), padding=(3, 3, 0), bias=False)\n",
      "  (pool1): _poolLayer(1, 1, kernel_size=(4, 4, 1), stride=(4, 4, 1), bias=False)\n",
      "  (conv1): _convLayer(4, 8, kernel_size=(7, 7, 1), stride=(1, 1, 1), padding=(3, 3, 0), bias=False)\n",
      "  (pool2): _poolLayer(1, 1, kernel_size=(4, 4, 1), stride=(4, 4, 1), bias=False)\n",
      "  (linear): _denseLayer(8, 2, kernel_size=(4, 4, 1), stride=(1, 1, 1), bias=False)\n",
      ")\n"
     ]
    }
   ],
   "source": [
    "# - Datset and loader\n",
    "downsample = 10\n",
    "num_ts = raster.shape[-1] // downsample\n",
    "# Set sample_size and step_size such that each sample corresponds to all frames of one class\n",
    "ds = InvertDirDataset(\n",
    "    raster, sample_size=num_ts, step_size=num_ts, downsample=downsample\n",
    ")\n",
    "dl = torch.utils.data.DataLoader(ds, batch_size=1, shuffle=True)\n",
    "\n",
    "# - Loss function\n",
    "loss_func = torch.nn.CrossEntropyLoss()\n",
    "\n",
    "# - Model parameters\n",
    "kwargs_model = {\n",
    "    \"grad_width\": 0.5,  # 0.5\n",
    "    \"grad_scale\": 1,  # 0.02\n",
    "    \"thr\": 1,\n",
    "    \"num_ts\": num_ts,\n",
    "}\n",
    "\n",
    "# - Sinabs model\n",
    "model_sinabs = ExodusModel(**kwargs_model).cuda()\n",
    "model_sinabs.reset()\n",
    "print(\"Sinabs model:\")\n",
    "print(model_sinabs)\n",
    "\n",
    "model_slayer = SlayerModel(**kwargs_model).cuda()\n",
    "print(\"Slayer model:\")\n",
    "print(model_slayer)"
   ]
  },
  {
   "cell_type": "code",
   "execution_count": 36,
   "id": "95482f70",
   "metadata": {},
   "outputs": [],
   "source": [
    "# - Transfer weights from sinabs to slayer model to ensure same initial conditions\n",
    "model_slayer.conv0.weight.data = model_sinabs.conv0.weight.data.unsqueeze(-1).clone()\n",
    "model_slayer.conv1.weight.data = model_sinabs.conv1.weight.data.unsqueeze(-1).clone()\n",
    "model_slayer.linear.weight.data = model_sinabs.linear.weight.data.clone().reshape(2, 8, 4, 4, 1)"
   ]
  },
  {
   "cell_type": "code",
   "execution_count": 37,
   "id": "1709f564-2d92-4500-b329-bc60274e7858",
   "metadata": {},
   "outputs": [
    {
     "name": "stdout",
     "output_type": "stream",
     "text": [
      "torch.Size([2, 128])\n",
      "torch.Size([2, 8, 4, 4, 1])\n"
     ]
    }
   ],
   "source": [
    "print(model_sinabs.linear.weight.shape)\n",
    "print(model_slayer.linear.weight.shape)"
   ]
  },
  {
   "cell_type": "code",
   "execution_count": 38,
   "id": "2f9fc667-d779-487a-9362-6c1b75a08fe0",
   "metadata": {},
   "outputs": [
    {
     "name": "stdout",
     "output_type": "stream",
     "text": [
      "torch.Size([2, 256, 256, 9])\n",
      "2\n"
     ]
    }
   ],
   "source": [
    "print(ds[0][0].shape)\n",
    "print(len(ds))"
   ]
  },
  {
   "cell_type": "markdown",
   "id": "3e2e51de",
   "metadata": {},
   "source": [
    "Now the two models should produce the same output for a given input. Let's make sure this is the case"
   ]
  },
  {
   "cell_type": "code",
   "execution_count": 39,
   "id": "28d8c361",
   "metadata": {
    "tags": []
   },
   "outputs": [],
   "source": [
    "# - Compare outputs before training\n",
    "outputs_slayer = []\n",
    "outputs_sinabs = []\n",
    "\n",
    "with torch.no_grad():\n",
    "    # Load input from dataset to avoid shuffling.\n",
    "    for inp, *__ in ds:\n",
    "        # Add batch dimension\n",
    "        inp = inp.unsqueeze(0).cuda()\n",
    "        outputs_slayer.append(model_slayer(inp))\n",
    "        outputs_sinabs.append(model_sinabs(inp))\n",
    "        model_sinabs.reset()"
   ]
  },
  {
   "cell_type": "code",
   "execution_count": 40,
   "id": "4dd8a2c7-af18-46f7-ac09-a671fa600402",
   "metadata": {},
   "outputs": [
    {
     "data": {
      "text/plain": [
       "[<matplotlib.lines.Line2D at 0x7f66fede27f0>,\n",
       " <matplotlib.lines.Line2D at 0x7f66fede2820>]"
      ]
     },
     "execution_count": 40,
     "metadata": {},
     "output_type": "execute_result"
    },
    {
     "data": {
      "image/png": "[encoded data removed]",
      "text/plain": [
       "<Figure size 432x288 with 1 Axes>"
      ]
     },
     "metadata": {
      "needs_background": "light"
     },
     "output_type": "display_data"
    }
   ],
   "source": [
    "os = outputs_slayer[1].squeeze(0).cpu().detach()\n",
    "oe = outputs_sinabs[1].squeeze(0).cpu().detach()\n",
    "plt.plot(oe.t())\n",
    "plt.plot(os.t())"
   ]
  },
  {
   "cell_type": "markdown",
   "id": "baee2491",
   "metadata": {},
   "source": [
    "Outputs seem very similar."
   ]
  },
  {
   "cell_type": "code",
   "execution_count": 41,
   "id": "e1877f74",
   "metadata": {},
   "outputs": [
    {
     "name": "stdout",
     "output_type": "stream",
     "text": [
      "Target: tensor([0])\n",
      "Losses - Sinabs: 1.1627702713012695, Slayer: 1.1579868793487549\n"
     ]
    }
   ],
   "source": [
    "# - Set up training\n",
    "loss_func = torch.nn.CrossEntropyLoss()\n",
    "optim_sin = torch.optim.SGD(model_sinabs.parameters(), lr=1e-3)\n",
    "optim_slr = torch.optim.SGD(model_slayer.parameters(), lr=1e-3)\n",
    "\n",
    "# - Do a single batch\n",
    "\n",
    "dl_iter = iter(dl)\n",
    "inp, tgt, onehot = next(dl_iter)\n",
    "print(\"Target:\", tgt)\n",
    "inp = inp.cuda()\n",
    "\n",
    "# Sinabs\n",
    "out_sin = model_sinabs(inp).sum(-1).cpu()\n",
    "optim_sin.zero_grad()\n",
    "loss_sin = loss_func(out_sin, tgt)\n",
    "loss_sin.backward()\n",
    "grads_sin = [p.grad for p in model_sinabs.parameters()]\n",
    "model_sinabs.reset()\n",
    "\n",
    "# Slayer\n",
    "out_slr = model_slayer(inp).sum(-1).cpu()\n",
    "optim_slr.zero_grad()\n",
    "loss_slr = loss_func(out_slr, tgt)\n",
    "loss_slr.backward()\n",
    "grads_slr = [p.grad.squeeze(-1) for p in model_slayer.parameters() if p.grad is not None]\n",
    "\n",
    "print(f\"Losses - Sinabs: {loss_sin.item()}, Slayer: {loss_slr.item()}\")\n"
   ]
  },
  {
   "cell_type": "code",
   "execution_count": 42,
   "id": "ad58c127",
   "metadata": {},
   "outputs": [
    {
     "name": "stdout",
     "output_type": "stream",
     "text": [
      "[tensor(1.5093, device='cuda:0'), tensor(1.6104, device='cuda:0'), tensor(2.7500, device='cuda:0')]\n",
      "[tensor(16.8924, device='cuda:0'), tensor(6.0056, device='cuda:0'), tensor(2.7435, device='cuda:0')]\n",
      "[tensor(0.4951, device='cuda:0'), tensor(0.4814, device='cuda:0'), tensor(0.8683, device='cuda:0')]\n",
      "[tensor(4.2666, device='cuda:0'), tensor(1.6520, device='cuda:0'), tensor(0.8662, device='cuda:0')]\n"
     ]
    }
   ],
   "source": [
    "print([torch.max(g) for g in grads_sin])\n",
    "print([torch.max(g) for g in grads_slr])\n",
    "\n",
    "print([torch.std(g) for g in grads_sin])\n",
    "print([torch.std(g) for g in grads_slr])"
   ]
  },
  {
   "cell_type": "markdown",
   "id": "b308aa1a",
   "metadata": {},
   "source": [
    "It turns out that with the default scaling (`kwargs_spiking[\"scale_grads\"] = 1.0`), the gradients in the slayer model explode. After trying a few values, setting the scale to 0.02 seems to give reasonable gradients.\n",
    "Let's train both models to see, whether everything works now."
   ]
  },
  {
   "cell_type": "code",
   "execution_count": 43,
   "id": "49526396",
   "metadata": {},
   "outputs": [
    {
     "name": "stdout",
     "output_type": "stream",
     "text": [
      "Epoch 0 ------------------------------------------------------\n",
      "Target: 0\n",
      "Prediction sinabs: 1 (wrong)\n",
      "Prediction slayer: 1 (wrong)\n",
      "Target: 1\n",
      "Prediction sinabs: 1 (correct)\n",
      "Prediction slayer: 0 (wrong)\n",
      "Total mistakes sinabs: 1, slayer: 2 -----------------------\n",
      "Epoch 1 ------------------------------------------------------\n",
      "Target: 1\n",
      "Prediction sinabs: 1 (correct)\n",
      "Prediction slayer: 1 (correct)\n",
      "Target: 0\n",
      "Prediction sinabs: 1 (wrong)\n",
      "Prediction slayer: 1 (wrong)\n",
      "Total mistakes sinabs: 2, slayer: 3 -----------------------\n",
      "Epoch 2 ------------------------------------------------------\n",
      "Target: 0\n",
      "Prediction sinabs: 1 (wrong)\n",
      "Prediction slayer: 0 (correct)\n",
      "Target: 1\n",
      "Prediction sinabs: 1 (correct)\n",
      "Prediction slayer: 1 (correct)\n",
      "Total mistakes sinabs: 3, slayer: 3 -----------------------\n",
      "Epoch 3 ------------------------------------------------------\n",
      "Target: 0\n",
      "Prediction sinabs: 0 (correct)\n",
      "Prediction slayer: 0 (correct)\n",
      "Target: 1\n",
      "Prediction sinabs: 1 (correct)\n",
      "Prediction slayer: 1 (correct)\n",
      "Total mistakes sinabs: 3, slayer: 3 -----------------------\n",
      "Epoch 4 ------------------------------------------------------\n",
      "Target: 1\n",
      "Prediction sinabs: 1 (correct)\n",
      "Prediction slayer: 1 (correct)\n",
      "Target: 0\n",
      "Prediction sinabs: 1 (wrong)\n",
      "Prediction slayer: 0 (correct)\n",
      "Total mistakes sinabs: 4, slayer: 3 -----------------------\n",
      "Epoch 5 ------------------------------------------------------\n",
      "Target: 0\n",
      "Prediction sinabs: 0 (correct)\n",
      "Prediction slayer: 0 (correct)\n",
      "Target: 1\n",
      "Prediction sinabs: 1 (correct)\n",
      "Prediction slayer: 1 (correct)\n",
      "Total mistakes sinabs: 4, slayer: 3 -----------------------\n",
      "Epoch 6 ------------------------------------------------------\n",
      "Target: 0\n",
      "Prediction sinabs: 0 (correct)\n",
      "Prediction slayer: 0 (correct)\n",
      "Target: 1\n",
      "Prediction sinabs: 1 (correct)\n",
      "Prediction slayer: 1 (correct)\n",
      "Total mistakes sinabs: 4, slayer: 3 -----------------------\n",
      "Epoch 7 ------------------------------------------------------\n",
      "Target: 0\n",
      "Prediction sinabs: 0 (correct)\n",
      "Prediction slayer: 0 (correct)\n",
      "Target: 1\n",
      "Prediction sinabs: 1 (correct)\n",
      "Prediction slayer: 1 (correct)\n",
      "Total mistakes sinabs: 4, slayer: 3 -----------------------\n",
      "Epoch 8 ------------------------------------------------------\n",
      "Target: 0\n",
      "Prediction sinabs: 0 (correct)\n",
      "Prediction slayer: 0 (correct)\n",
      "Target: 1\n",
      "Prediction sinabs: 1 (correct)\n",
      "Prediction slayer: 1 (correct)\n",
      "Total mistakes sinabs: 4, slayer: 3 -----------------------\n",
      "Epoch 9 ------------------------------------------------------\n",
      "Target: 0\n",
      "Prediction sinabs: 0 (correct)\n",
      "Prediction slayer: 0 (correct)\n",
      "Target: 1\n",
      "Prediction sinabs: 1 (correct)\n",
      "Prediction slayer: 1 (correct)\n",
      "Total mistakes sinabs: 4, slayer: 3 -----------------------\n",
      "Epoch 10 ------------------------------------------------------\n",
      "Target: 1\n",
      "Prediction sinabs: 1 (correct)\n",
      "Prediction slayer: 1 (correct)\n",
      "Target: 0\n",
      "Prediction sinabs: 0 (correct)\n",
      "Prediction slayer: 0 (correct)\n",
      "Total mistakes sinabs: 4, slayer: 3 -----------------------\n",
      "Epoch 11 ------------------------------------------------------\n",
      "Target: 0\n",
      "Prediction sinabs: 0 (correct)\n",
      "Prediction slayer: 0 (correct)\n",
      "Target: 1\n",
      "Prediction sinabs: 1 (correct)\n",
      "Prediction slayer: 1 (correct)\n",
      "Total mistakes sinabs: 4, slayer: 3 -----------------------\n",
      "Epoch 12 ------------------------------------------------------\n",
      "Target: 1\n",
      "Prediction sinabs: 1 (correct)\n",
      "Prediction slayer: 1 (correct)\n",
      "Target: 0\n",
      "Prediction sinabs: 0 (correct)\n",
      "Prediction slayer: 0 (correct)\n",
      "Total mistakes sinabs: 4, slayer: 3 -----------------------\n",
      "Epoch 13 ------------------------------------------------------\n",
      "Target: 1\n",
      "Prediction sinabs: 1 (correct)\n",
      "Prediction slayer: 1 (correct)\n",
      "Target: 0\n",
      "Prediction sinabs: 0 (correct)\n",
      "Prediction slayer: 0 (correct)\n",
      "Total mistakes sinabs: 4, slayer: 3 -----------------------\n",
      "Epoch 14 ------------------------------------------------------\n",
      "Target: 0\n",
      "Prediction sinabs: 0 (correct)\n",
      "Prediction slayer: 0 (correct)\n",
      "Target: 1\n",
      "Prediction sinabs: 1 (correct)\n",
      "Prediction slayer: 1 (correct)\n",
      "Total mistakes sinabs: 4, slayer: 3 -----------------------\n",
      "Epoch 15 ------------------------------------------------------\n",
      "Target: 1\n",
      "Prediction sinabs: 1 (correct)\n",
      "Prediction slayer: 1 (correct)\n",
      "Target: 0\n",
      "Prediction sinabs: 0 (correct)\n",
      "Prediction slayer: 0 (correct)\n",
      "Total mistakes sinabs: 4, slayer: 3 -----------------------\n",
      "Epoch 16 ------------------------------------------------------\n",
      "Target: 1\n",
      "Prediction sinabs: 1 (correct)\n",
      "Prediction slayer: 1 (correct)\n",
      "Target: 0\n",
      "Prediction sinabs: 0 (correct)\n",
      "Prediction slayer: 0 (correct)\n",
      "Total mistakes sinabs: 4, slayer: 3 -----------------------\n",
      "Epoch 17 ------------------------------------------------------\n",
      "Target: 0\n",
      "Prediction sinabs: 0 (correct)\n",
      "Prediction slayer: 0 (correct)\n",
      "Target: 1\n",
      "Prediction sinabs: 1 (correct)\n",
      "Prediction slayer: 1 (correct)\n",
      "Total mistakes sinabs: 4, slayer: 3 -----------------------\n",
      "Epoch 18 ------------------------------------------------------\n",
      "Target: 0\n",
      "Prediction sinabs: 0 (correct)\n",
      "Prediction slayer: 0 (correct)\n",
      "Target: 1\n",
      "Prediction sinabs: 1 (correct)\n",
      "Prediction slayer: 1 (correct)\n",
      "Total mistakes sinabs: 4, slayer: 3 -----------------------\n",
      "Epoch 19 ------------------------------------------------------\n",
      "Target: 1\n",
      "Prediction sinabs: 1 (correct)\n",
      "Prediction slayer: 1 (correct)\n",
      "Target: 0\n",
      "Prediction sinabs: 0 (correct)\n",
      "Prediction slayer: 0 (correct)\n",
      "Total mistakes sinabs: 4, slayer: 3 -----------------------\n",
      "Epoch 20 ------------------------------------------------------\n",
      "Target: 0\n",
      "Prediction sinabs: 0 (correct)\n",
      "Prediction slayer: 0 (correct)\n",
      "Target: 1\n",
      "Prediction sinabs: 1 (correct)\n",
      "Prediction slayer: 1 (correct)\n",
      "Total mistakes sinabs: 4, slayer: 3 -----------------------\n",
      "Epoch 21 ------------------------------------------------------\n",
      "Target: 1\n",
      "Prediction sinabs: 1 (correct)\n",
      "Prediction slayer: 1 (correct)\n",
      "Target: 0\n",
      "Prediction sinabs: 0 (correct)\n",
      "Prediction slayer: 0 (correct)\n",
      "Total mistakes sinabs: 4, slayer: 3 -----------------------\n",
      "Epoch 22 ------------------------------------------------------\n",
      "Target: 0\n",
      "Prediction sinabs: 0 (correct)\n",
      "Prediction slayer: 0 (correct)\n",
      "Target: 1\n",
      "Prediction sinabs: 1 (correct)\n",
      "Prediction slayer: 1 (correct)\n",
      "Total mistakes sinabs: 4, slayer: 3 -----------------------\n",
      "Epoch 23 ------------------------------------------------------\n",
      "Target: 1\n",
      "Prediction sinabs: 1 (correct)\n",
      "Prediction slayer: 1 (correct)\n",
      "Target: 0\n",
      "Prediction sinabs: 0 (correct)\n",
      "Prediction slayer: 0 (correct)\n",
      "Total mistakes sinabs: 4, slayer: 3 -----------------------\n",
      "Epoch 24 ------------------------------------------------------\n",
      "Target: 0\n",
      "Prediction sinabs: 0 (correct)\n",
      "Prediction slayer: 0 (correct)\n",
      "Target: 1\n",
      "Prediction sinabs: 1 (correct)\n",
      "Prediction slayer: 1 (correct)\n",
      "Total mistakes sinabs: 4, slayer: 3 -----------------------\n",
      "Epoch 25 ------------------------------------------------------\n",
      "Target: 1\n",
      "Prediction sinabs: 1 (correct)\n",
      "Prediction slayer: 1 (correct)\n",
      "Target: 0\n",
      "Prediction sinabs: 0 (correct)\n",
      "Prediction slayer: 0 (correct)\n",
      "Total mistakes sinabs: 4, slayer: 3 -----------------------\n",
      "Epoch 26 ------------------------------------------------------\n",
      "Target: 0\n",
      "Prediction sinabs: 0 (correct)\n",
      "Prediction slayer: 0 (correct)\n",
      "Target: 1\n",
      "Prediction sinabs: 1 (correct)\n",
      "Prediction slayer: 1 (correct)\n",
      "Total mistakes sinabs: 4, slayer: 3 -----------------------\n",
      "Epoch 27 ------------------------------------------------------\n",
      "Target: 1\n",
      "Prediction sinabs: 1 (correct)\n",
      "Prediction slayer: 1 (correct)\n",
      "Target: 0\n",
      "Prediction sinabs: 0 (correct)\n",
      "Prediction slayer: 0 (correct)\n",
      "Total mistakes sinabs: 4, slayer: 3 -----------------------\n",
      "Epoch 28 ------------------------------------------------------\n",
      "Target: 1\n",
      "Prediction sinabs: 1 (correct)\n",
      "Prediction slayer: 1 (correct)\n",
      "Target: 0\n",
      "Prediction sinabs: 0 (correct)\n",
      "Prediction slayer: 0 (correct)\n",
      "Total mistakes sinabs: 4, slayer: 3 -----------------------\n",
      "Epoch 29 ------------------------------------------------------\n",
      "Target: 0\n",
      "Prediction sinabs: 0 (correct)\n",
      "Prediction slayer: 0 (correct)\n",
      "Target: 1\n",
      "Prediction sinabs: 1 (correct)\n",
      "Prediction slayer: 1 (correct)\n",
      "Total mistakes sinabs: 4, slayer: 3 -----------------------\n",
      "Epoch 30 ------------------------------------------------------\n",
      "Target: 0\n",
      "Prediction sinabs: 0 (correct)\n",
      "Prediction slayer: 0 (correct)\n",
      "Target: 1\n",
      "Prediction sinabs: 1 (correct)\n",
      "Prediction slayer: 1 (correct)\n",
      "Total mistakes sinabs: 4, slayer: 3 -----------------------\n",
      "Epoch 31 ------------------------------------------------------\n",
      "Target: 0\n",
      "Prediction sinabs: 0 (correct)\n",
      "Prediction slayer: 0 (correct)\n",
      "Target: 1\n",
      "Prediction sinabs: 1 (correct)\n",
      "Prediction slayer: 1 (correct)\n",
      "Total mistakes sinabs: 4, slayer: 3 -----------------------\n",
      "Epoch 32 ------------------------------------------------------\n",
      "Target: 0\n",
      "Prediction sinabs: 0 (correct)\n",
      "Prediction slayer: 0 (correct)\n",
      "Target: 1\n",
      "Prediction sinabs: 1 (correct)\n",
      "Prediction slayer: 1 (correct)\n",
      "Total mistakes sinabs: 4, slayer: 3 -----------------------\n",
      "Epoch 33 ------------------------------------------------------\n",
      "Target: 1\n",
      "Prediction sinabs: 1 (correct)\n",
      "Prediction slayer: 1 (correct)\n",
      "Target: 0\n",
      "Prediction sinabs: 0 (correct)\n",
      "Prediction slayer: 0 (correct)\n",
      "Total mistakes sinabs: 4, slayer: 3 -----------------------\n",
      "Epoch 34 ------------------------------------------------------\n",
      "Target: 0\n",
      "Prediction sinabs: 0 (correct)\n",
      "Prediction slayer: 0 (correct)\n",
      "Target: 1\n",
      "Prediction sinabs: 1 (correct)\n",
      "Prediction slayer: 1 (correct)\n",
      "Total mistakes sinabs: 4, slayer: 3 -----------------------\n",
      "Epoch 35 ------------------------------------------------------\n",
      "Target: 1\n",
      "Prediction sinabs: 1 (correct)\n",
      "Prediction slayer: 1 (correct)\n",
      "Target: 0\n",
      "Prediction sinabs: 0 (correct)\n",
      "Prediction slayer: 0 (correct)\n",
      "Total mistakes sinabs: 4, slayer: 3 -----------------------\n",
      "Epoch 36 ------------------------------------------------------\n",
      "Target: 0\n",
      "Prediction sinabs: 0 (correct)\n",
      "Prediction slayer: 0 (correct)\n",
      "Target: 1\n",
      "Prediction sinabs: 1 (correct)\n",
      "Prediction slayer: 1 (correct)\n",
      "Total mistakes sinabs: 4, slayer: 3 -----------------------\n",
      "Epoch 37 ------------------------------------------------------\n",
      "Target: 1\n",
      "Prediction sinabs: 1 (correct)\n",
      "Prediction slayer: 1 (correct)\n",
      "Target: 0\n",
      "Prediction sinabs: 0 (correct)\n",
      "Prediction slayer: 0 (correct)\n",
      "Total mistakes sinabs: 4, slayer: 3 -----------------------\n",
      "Epoch 38 ------------------------------------------------------\n",
      "Target: 0\n",
      "Prediction sinabs: 0 (correct)\n",
      "Prediction slayer: 0 (correct)\n",
      "Target: 1\n",
      "Prediction sinabs: 1 (correct)\n",
      "Prediction slayer: 1 (correct)\n",
      "Total mistakes sinabs: 4, slayer: 3 -----------------------\n",
      "Epoch 39 ------------------------------------------------------\n",
      "Target: 1\n",
      "Prediction sinabs: 1 (correct)\n",
      "Prediction slayer: 1 (correct)\n",
      "Target: 0\n",
      "Prediction sinabs: 0 (correct)\n",
      "Prediction slayer: 0 (correct)\n",
      "Total mistakes sinabs: 4, slayer: 3 -----------------------\n"
     ]
    }
   ],
   "source": [
    "# - Training loop\n",
    "\n",
    "mistakes_sin = []\n",
    "mistakes_slr = []\n",
    "\n",
    "for ep in range(40):\n",
    "    print(f\"Epoch {ep} ------------------------------------------------------\")\n",
    "    for inp, tgt, __ in dl:\n",
    "        inp = inp.cuda()       \n",
    "        \n",
    "        # Sinabs\n",
    "        out_sin = model_sinabs(inp).sum(-1).cpu()\n",
    "        __, predict_sin = torch.max(out_sin, 1)\n",
    "        optim_sin.zero_grad()\n",
    "        loss_sin = loss_func(out_sin, tgt)\n",
    "        loss_sin.backward()\n",
    "        optim_sin.step()\n",
    "        model_sinabs.reset()\n",
    "        sin_right = tgt.item() == predict_sin.item()\n",
    "        mistakes_sin.append(int(not sin_right))\n",
    "\n",
    "        # Slayer\n",
    "        out_slr = model_slayer(inp).sum(-1).cpu()\n",
    "        __, predict_slr = torch.max(out_slr, 1)\n",
    "        optim_slr.zero_grad()\n",
    "        loss_slr = loss_func(out_slr, tgt)\n",
    "        loss_slr.backward()\n",
    "        optim_slr.step()        \n",
    "        slr_right = tgt.item() == predict_slr.item()\n",
    "        mistakes_slr.append(int(not slr_right))\n",
    "        \n",
    "        # Print statement\n",
    "        print(f\"Target: {tgt.item()}\")\n",
    "        print(f\"Prediction sinabs: {predict_sin.item()} ({'correct' if sin_right else 'wrong'})\")\n",
    "        print(f\"Prediction slayer: {predict_slr.item()} ({'correct' if slr_right else 'wrong'})\")\n",
    "                \n",
    "    # print(ep, sum(tl[-5:]), end=\"\\r\")\n",
    "    print(f\"Total mistakes sinabs: {sum(mistakes_sin)}, slayer: {sum(mistakes_slr)} -----------------------\")"
   ]
  },
  {
   "cell_type": "code",
   "execution_count": 9,
   "id": "c081ac2d",
   "metadata": {},
   "outputs": [
    {
     "data": {
      "text/plain": [
       "[<matplotlib.lines.Line2D at 0x7f6ca01eecd0>]"
      ]
     },
     "execution_count": 9,
     "metadata": {},
     "output_type": "execute_result"
    },
    {
     "data": {
      "image/png": "[encoded data removed]",
      "text/plain": [
       "<Figure size 432x288 with 1 Axes>"
      ]
     },
     "metadata": {
      "needs_background": "light"
     },
     "output_type": "display_data"
    }
   ],
   "source": [
    "plt.plot(mistakes_sin)\n",
    "plt.plot(mistakes_slr)"
   ]
  },
  {
   "cell_type": "markdown",
   "id": "1c48e8d8",
   "metadata": {},
   "source": [
    "Both models don't make mistakes anymore after a few epochs.\n",
    "\n",
    "The same can be done with the moving checkerboard data instead of a rotating wheel (see `simple_task.py`). Here, the gradients for slayer need different scaling. It seems like bptt in sinabs is more robust here."
   ]
  },
  {
   "cell_type": "code",
   "execution_count": null,
   "id": "a026b08e",
   "metadata": {},
   "outputs": [],
   "source": []
  }
 ],
 "metadata": {
  "kernelspec": {
   "display_name": "Python 3 (ipykernel)",
   "language": "python",
   "name": "python3"
  },
  "language_info": {
   "codemirror_mode": {
    "name": "ipython",
    "version": 3
   },
   "file_extension": ".py",
   "mimetype": "text/x-python",
   "name": "python",
   "nbconvert_exporter": "python",
   "pygments_lexer": "ipython3",
   "version": "3.8.10"
  }
 },
 "nbformat": 4,
 "nbformat_minor": 5
}
