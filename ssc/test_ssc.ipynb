{
 "cells": [
  {
   "cell_type": "code",
   "execution_count": 1,
   "metadata": {},
   "outputs": [],
   "source": [
    "from ssc import SSC\n",
    "from ssc_exodus import ExodusNetwork\n",
    "from ssc_jelly import JellyNetwork\n",
    "from ssc_slayer import SlayerNetwork"
   ]
  },
  {
   "cell_type": "code",
   "execution_count": 2,
   "metadata": {},
   "outputs": [],
   "source": [
    "dataset = SSC(\n",
    "    batch_size=64,\n",
    "    encoding_dim=100,\n",
    "    num_workers=4,\n",
    "    download_dir=\"./data\",\n",
    ")\n",
    "dataset.setup()\n",
    "trainloader = dataset.train_dataloader()\n",
    "validloader = dataset.val_dataloader()"
   ]
  },
  {
   "cell_type": "code",
   "execution_count": 3,
   "metadata": {},
   "outputs": [
    {
     "data": {
      "text/plain": [
       "torch.Size([64, 250, 100])"
      ]
     },
     "execution_count": 3,
     "metadata": {},
     "output_type": "execute_result"
    }
   ],
   "source": [
    "next(iter(trainloader))[0].shape"
   ]
  },
  {
   "cell_type": "code",
   "execution_count": 4,
   "metadata": {},
   "outputs": [],
   "source": [
    "from tqdm.auto import tqdm\n",
    "\n",
    "def cycle_through_trainloader():\n",
    "    for data, targets in tqdm(trainloader):\n",
    "        data = data.cuda()\n",
    "        targets = targets.cuda()"
   ]
  },
  {
   "cell_type": "code",
   "execution_count": 6,
   "metadata": {},
   "outputs": [
    {
     "data": {
      "application/vnd.jupyter.widget-view+json": {
       "model_id": "2655ced652d149c98f336a87a811db98",
       "version_major": 2,
       "version_minor": 0
      },
      "text/plain": [
       "  0%|          | 0/1180 [00:00<?, ?it/s]"
      ]
     },
     "metadata": {},
     "output_type": "display_data"
    }
   ],
   "source": [
    "cycle_through_trainloader()"
   ]
  },
  {
   "cell_type": "code",
   "execution_count": 5,
   "metadata": {},
   "outputs": [],
   "source": [
    "dict_args = dict(\n",
    "    encoding_dim=100,\n",
    "    n_hidden_layers=2,\n",
    "    hidden_dim=128,\n",
    "    tau_mem=100000.0,\n",
    "    output_dim=35,\n",
    "    spike_threshold=1.,\n",
    "    learning_rate=1e-3,\n",
    "    width_grad=1.,\n",
    "    scale_grad=.5,\n",
    "    decoding_func='max_over_time',\n",
    "    optimizer=\"sgd\",\n",
    ")\n",
    "slayer_model = SlayerNetwork(**dict_args, n_time_bins=250).cuda()\n",
    "init_weights = slayer_model.state_dict()\n",
    "\n",
    "exodus_model = ExodusNetwork(**dict_args, init_weights=init_weights).cuda()\n",
    "jelly_model = JellyNetwork(**dict_args, init_weights=init_weights).cuda()\n",
    "\n",
    "sinabs_model = ExodusNetwork(**dict_args, init_weights=init_weights, backend='sinabs').cuda()\n"
   ]
  },
  {
   "cell_type": "code",
   "execution_count": 6,
   "metadata": {},
   "outputs": [
    {
     "data": {
      "application/vnd.jupyter.widget-view+json": {
       "model_id": "39d8044aae9b4169a4225ddde2bab37b",
       "version_major": 2,
       "version_minor": 0
      },
      "text/plain": [
       "  0%|          | 0/3 [00:00<?, ?it/s]"
      ]
     },
     "metadata": {},
     "output_type": "display_data"
    },
    {
     "data": {
      "application/vnd.jupyter.widget-view+json": {
       "model_id": "99081efd0b9e421e843943d3052eea25",
       "version_major": 2,
       "version_minor": 0
      },
      "text/plain": [
       "  0%|          | 0/1180 [00:00<?, ?it/s]"
      ]
     },
     "metadata": {},
     "output_type": "display_data"
    },
    {
     "data": {
      "application/vnd.jupyter.widget-view+json": {
       "model_id": "88f1ef16d0924979b31d4021eb00b0d8",
       "version_major": 2,
       "version_minor": 0
      },
      "text/plain": [
       "  0%|          | 0/1180 [00:00<?, ?it/s]"
      ]
     },
     "metadata": {},
     "output_type": "display_data"
    },
    {
     "data": {
      "application/vnd.jupyter.widget-view+json": {
       "model_id": "e693b8314ca94e1487a2433ad152d754",
       "version_major": 2,
       "version_minor": 0
      },
      "text/plain": [
       "  0%|          | 0/1180 [00:00<?, ?it/s]"
      ]
     },
     "metadata": {},
     "output_type": "display_data"
    },
    {
     "data": {
      "application/vnd.jupyter.widget-view+json": {
       "model_id": "b60e7f64a25d403fb86b2b0118a6e5ac",
       "version_major": 2,
       "version_minor": 0
      },
      "text/plain": [
       "  0%|          | 0/3 [00:00<?, ?it/s]"
      ]
     },
     "metadata": {},
     "output_type": "display_data"
    },
    {
     "data": {
      "application/vnd.jupyter.widget-view+json": {
       "model_id": "2b59e6009379442cb86015ae3b803eca",
       "version_major": 2,
       "version_minor": 0
      },
      "text/plain": [
       "  0%|          | 0/1180 [00:00<?, ?it/s]"
      ]
     },
     "metadata": {},
     "output_type": "display_data"
    },
    {
     "data": {
      "application/vnd.jupyter.widget-view+json": {
       "model_id": "40acbdae8e9249c5ab80adc15434c6af",
       "version_major": 2,
       "version_minor": 0
      },
      "text/plain": [
       "  0%|          | 0/1180 [00:00<?, ?it/s]"
      ]
     },
     "metadata": {},
     "output_type": "display_data"
    },
    {
     "name": "stderr",
     "output_type": "stream",
     "text": [
      "Exception ignored in: \n",
      "<function _MultiProcessingDataLoaderIter.__del__ at 0x7efb9d108940>\n",
      "Traceback (most recent call last):\n",
      "  File \"/home/felix/.pyenv/versions/3.8.10/envs/exodus/lib/python3.8/site-packages/torch/utils/data/dataloader.py\", line 1481, in __del__\n",
      "    Exception ignored in: self._shutdown_workers()\n",
      "<function _MultiProcessingDataLoaderIter.__del__ at 0x7efb9d108940>  File \"/home/felix/.pyenv/versions/3.8.10/envs/exodus/lib/python3.8/site-packages/torch/utils/data/dataloader.py\", line 1464, in _shutdown_workers\n",
      "\n",
      "Traceback (most recent call last):\n",
      "      File \"/home/felix/.pyenv/versions/3.8.10/envs/exodus/lib/python3.8/site-packages/torch/utils/data/dataloader.py\", line 1481, in __del__\n",
      "if w.is_alive():\n",
      "      File \"/home/felix/.pyenv/versions/3.8.10/lib/python3.8/multiprocessing/process.py\", line 160, in is_alive\n",
      "self._shutdown_workers()    \n",
      "assert self._parent_pid == os.getpid(), 'can only test a child process'  File \"/home/felix/.pyenv/versions/3.8.10/envs/exodus/lib/python3.8/site-packages/torch/utils/data/dataloader.py\", line 1464, in _shutdown_workers\n",
      "\n",
      "AssertionError    : if w.is_alive():can only test a child process\n",
      "  File \"/home/felix/.pyenv/versions/3.8.10/lib/python3.8/multiprocessing/process.py\", line 160, in is_alive\n",
      "\n",
      "    assert self._parent_pid == os.getpid(), 'can only test a child process'\n",
      "AssertionError: can only test a child processException ignored in: \n",
      "<function _MultiProcessingDataLoaderIter.__del__ at 0x7efb9d108940>\n",
      "Traceback (most recent call last):\n",
      "Exception ignored in:   File \"/home/felix/.pyenv/versions/3.8.10/envs/exodus/lib/python3.8/site-packages/torch/utils/data/dataloader.py\", line 1481, in __del__\n",
      "<function _MultiProcessingDataLoaderIter.__del__ at 0x7efb9d108940>\n",
      "    Traceback (most recent call last):\n",
      "self._shutdown_workers()  File \"/home/felix/.pyenv/versions/3.8.10/envs/exodus/lib/python3.8/site-packages/torch/utils/data/dataloader.py\", line 1481, in __del__\n",
      "\n",
      "  File \"/home/felix/.pyenv/versions/3.8.10/envs/exodus/lib/python3.8/site-packages/torch/utils/data/dataloader.py\", line 1464, in _shutdown_workers\n",
      "        if w.is_alive():self._shutdown_workers()\n",
      "\n",
      "  File \"/home/felix/.pyenv/versions/3.8.10/envs/exodus/lib/python3.8/site-packages/torch/utils/data/dataloader.py\", line 1464, in _shutdown_workers\n",
      "      File \"/home/felix/.pyenv/versions/3.8.10/lib/python3.8/multiprocessing/process.py\", line 160, in is_alive\n",
      "if w.is_alive():    assert self._parent_pid == os.getpid(), 'can only test a child process'\n",
      "\n",
      "  File \"/home/felix/.pyenv/versions/3.8.10/lib/python3.8/multiprocessing/process.py\", line 160, in is_alive\n",
      "    AssertionErrorassert self._parent_pid == os.getpid(), 'can only test a child process': \n",
      "can only test a child process\n",
      "AssertionError: can only test a child process\n",
      "Exception ignored in: <function _MultiProcessingDataLoaderIter.__del__ at 0x7efb9d108940>\n",
      "Exception ignored in: Traceback (most recent call last):\n",
      "<function _MultiProcessingDataLoaderIter.__del__ at 0x7efb9d108940>  File \"/home/felix/.pyenv/versions/3.8.10/envs/exodus/lib/python3.8/site-packages/torch/utils/data/dataloader.py\", line 1481, in __del__\n",
      "    \n",
      "Traceback (most recent call last):\n",
      "self._shutdown_workers()  File \"/home/felix/.pyenv/versions/3.8.10/envs/exodus/lib/python3.8/site-packages/torch/utils/data/dataloader.py\", line 1481, in __del__\n",
      "\n",
      "      File \"/home/felix/.pyenv/versions/3.8.10/envs/exodus/lib/python3.8/site-packages/torch/utils/data/dataloader.py\", line 1464, in _shutdown_workers\n",
      "    if w.is_alive():self._shutdown_workers()\n",
      "\n",
      "  File \"/home/felix/.pyenv/versions/3.8.10/envs/exodus/lib/python3.8/site-packages/torch/utils/data/dataloader.py\", line 1464, in _shutdown_workers\n",
      "      File \"/home/felix/.pyenv/versions/3.8.10/lib/python3.8/multiprocessing/process.py\", line 160, in is_alive\n",
      "if w.is_alive():\n",
      "    assert self._parent_pid == os.getpid(), 'can only test a child process'  File \"/home/felix/.pyenv/versions/3.8.10/lib/python3.8/multiprocessing/process.py\", line 160, in is_alive\n",
      "\n",
      "AssertionError: can only test a child process    \n",
      "assert self._parent_pid == os.getpid(), 'can only test a child process'\n",
      "AssertionError: can only test a child process\n",
      "Exception ignored in: <function _MultiProcessingDataLoaderIter.__del__ at 0x7efb9d108940>\n",
      "Traceback (most recent call last):\n",
      "Exception ignored in:   File \"/home/felix/.pyenv/versions/3.8.10/envs/exodus/lib/python3.8/site-packages/torch/utils/data/dataloader.py\", line 1481, in __del__\n",
      "<function _MultiProcessingDataLoaderIter.__del__ at 0x7efb9d108940>\n",
      "    Traceback (most recent call last):\n",
      "  File \"/home/felix/.pyenv/versions/3.8.10/envs/exodus/lib/python3.8/site-packages/torch/utils/data/dataloader.py\", line 1481, in __del__\n",
      "self._shutdown_workers()\n",
      "      File \"/home/felix/.pyenv/versions/3.8.10/envs/exodus/lib/python3.8/site-packages/torch/utils/data/dataloader.py\", line 1464, in _shutdown_workers\n",
      "self._shutdown_workers()    if w.is_alive():\n",
      "\n",
      "  File \"/home/felix/.pyenv/versions/3.8.10/lib/python3.8/multiprocessing/process.py\", line 160, in is_alive\n",
      "  File \"/home/felix/.pyenv/versions/3.8.10/envs/exodus/lib/python3.8/site-packages/torch/utils/data/dataloader.py\", line 1464, in _shutdown_workers\n",
      "    assert self._parent_pid == os.getpid(), 'can only test a child process'    if w.is_alive():\n",
      "\n",
      "AssertionError  File \"/home/felix/.pyenv/versions/3.8.10/lib/python3.8/multiprocessing/process.py\", line 160, in is_alive\n",
      ":     can only test a child processassert self._parent_pid == os.getpid(), 'can only test a child process'\n",
      "\n",
      "AssertionError: can only test a child process"
     ]
    },
    {
     "data": {
      "application/vnd.jupyter.widget-view+json": {
       "model_id": "b36eea80a08345b48319322535948cd9",
       "version_major": 2,
       "version_minor": 0
      },
      "text/plain": [
       "  0%|          | 0/1180 [00:00<?, ?it/s]"
      ]
     },
     "metadata": {},
     "output_type": "display_data"
    }
   ],
   "source": [
    "from time import time\n",
    "import numpy as np\n",
    "\n",
    "algorithms = [\"Jelly\", \"EXODUS\", \"SLAYER\", \"BPTT\"]\n",
    "times = {algo: {\"forward\": [], \"backward\": [], \"reset\": []} for algo in algorithms}\n",
    "\n",
    "# for algo, model in zip([\"Jelly\", \"BPTT\", \"EXODUS\"], [jelly_model, sinabs_model, exodus_model]):\n",
    "# for algo, model in zip([\"EXODUS\"], [exodus_model]):\n",
    "for algo, model in zip([\"Jelly\", \"EXODUS\"], [jelly_model, exodus_model]):\n",
    "    for i in tqdm(range(3)):\n",
    "        times_epoch = {\"forward\": [], \"backward\": [], \"reset\": []}\n",
    "        for data, target in tqdm(trainloader):        \n",
    "            data = data.cuda()\n",
    "            target = target.cuda()\n",
    "            t0 = time()\n",
    "            model.reset_states()\n",
    "            t1 = time()\n",
    "            y_hat = model(data)\n",
    "            t2 = time()\n",
    "            y_hat.sum().backward()\n",
    "            t3 = time()\n",
    "            times_epoch[\"reset\"].append(t1-t0)\n",
    "            times_epoch[\"forward\"].append(t2-t1)\n",
    "            times_epoch[\"backward\"].append(t3-t2)\n",
    "        for step, t in times_epoch.items():\n",
    "            times[algo][step].append(np.mean(t))"
   ]
  },
  {
   "cell_type": "code",
   "execution_count": null,
   "metadata": {},
   "outputs": [],
   "source": [
    "for i in tqdm(range(3)):\n",
    "    t0 = time()\n",
    "    times_epoch = {\"forward\": [], \"backward\": [], \"reset\": []}\n",
    "    for data, target in tqdm(trainloader):\n",
    "        data = data.cuda()\n",
    "        target = target.cuda()\n",
    "        t0 = time()\n",
    "        y_hat = slayer_model(data)\n",
    "        t1 = time()\n",
    "        y_hat.sum().backward()\n",
    "        t2 = time()\n",
    "        times_epoch[\"forward\"].append(t1-t0)\n",
    "        times_epoch[\"backward\"].append(t2-t1)\n",
    "    for step, t in times_epoch.items():\n",
    "        times[\"SLAYER\"][step].append(np.mean(t))"
   ]
  },
  {
   "cell_type": "code",
   "execution_count": 7,
   "metadata": {},
   "outputs": [
    {
     "name": "stdout",
     "output_type": "stream",
     "text": [
      "forward\n",
      "\tJelly: (4.00e-03 +- 2.22e-04) s\n",
      "\tEXODUS: (3.19e-03 +- 4.41e-06) s\n",
      "\tSLAYER: (nan +- nan) s\n",
      "\tBPTT: (nan +- nan) s\n",
      "backward\n",
      "\tJelly: (3.12e-03 +- 9.29e-05) s\n",
      "\tEXODUS: (3.53e-03 +- 1.08e-04) s\n",
      "\tSLAYER: (nan +- nan) s\n",
      "\tBPTT: (nan +- nan) s\n",
      "reset\n",
      "\tJelly: (1.35e-04 +- 7.64e-07) s\n",
      "\tEXODUS: (2.83e-04 +- 7.65e-07) s\n",
      "\tSLAYER: (nan +- nan) s\n",
      "\tBPTT: (nan +- nan) s\n"
     ]
    },
    {
     "name": "stderr",
     "output_type": "stream",
     "text": [
      "/home/felix/.pyenv/versions/3.8.10/envs/exodus/lib/python3.8/site-packages/numpy/core/fromnumeric.py:3440: RuntimeWarning: Mean of empty slice.\n",
      "  return _methods._mean(a, axis=axis, dtype=dtype,\n",
      "/home/felix/.pyenv/versions/3.8.10/envs/exodus/lib/python3.8/site-packages/numpy/core/_methods.py:189: RuntimeWarning: invalid value encountered in double_scalars\n",
      "  ret = ret.dtype.type(ret / rcount)\n",
      "/home/felix/.pyenv/versions/3.8.10/envs/exodus/lib/python3.8/site-packages/numpy/core/_methods.py:262: RuntimeWarning: Degrees of freedom <= 0 for slice\n",
      "  ret = _var(a, axis=axis, dtype=dtype, out=out, ddof=ddof,\n",
      "/home/felix/.pyenv/versions/3.8.10/envs/exodus/lib/python3.8/site-packages/numpy/core/_methods.py:222: RuntimeWarning: invalid value encountered in true_divide\n",
      "  arrmean = um.true_divide(arrmean, div, out=arrmean, casting='unsafe',\n",
      "/home/felix/.pyenv/versions/3.8.10/envs/exodus/lib/python3.8/site-packages/numpy/core/_methods.py:254: RuntimeWarning: invalid value encountered in double_scalars\n",
      "  ret = ret.dtype.type(ret / rcount)\n"
     ]
    }
   ],
   "source": [
    "import numpy as np\n",
    "for action in times[\"EXODUS\"].keys():\n",
    "    print(action)\n",
    "    for model, ts in times.items():\n",
    "        t = np.array(ts[action])\n",
    "        print(f\"\\t{model}: ({np.mean(t):.2e} +- {np.std(t):.2e}) s\")\n",
    "        # np.save(f\"timings_{model}.npy\", t)"
   ]
  },
  {
   "cell_type": "code",
   "execution_count": null,
   "metadata": {
    "tags": []
   },
   "outputs": [],
   "source": [
    "import pandas as pd"
   ]
  },
  {
   "cell_type": "code",
   "execution_count": null,
   "metadata": {},
   "outputs": [],
   "source": [
    "pd.DataFrame(times).to_csv(\"times_new.csv\")"
   ]
  },
  {
   "cell_type": "code",
   "execution_count": null,
   "metadata": {},
   "outputs": [],
   "source": [
    "# Convert previously saved csv to one line per measurement\n",
    "\n",
    "times = pd.read_csv(\"times_new.csv\", index_col=0)"
   ]
  },
  {
   "cell_type": "code",
   "execution_count": null,
   "metadata": {},
   "outputs": [],
   "source": [
    "table = [\n",
    "    pd.DataFrame(\n",
    "        {\"algorithm\": algo, \"time\": t, \"step\": step}\n",
    "        for step in times.index\n",
    "        for algo in times.loc[step].index\n",
    "        for t in eval((times.loc[step].loc[algo]).replace(\"nan, \", \"\").replace(\"nan\", \"\"))\n",
    "    )\n",
    "]\n",
    "table = pd.concat(table, ignore_index=True)\n",
    "table.to_csv(\"times_new_table.csv\")"
   ]
  },
  {
   "cell_type": "code",
   "execution_count": null,
   "metadata": {},
   "outputs": [],
   "source": [
    "for step in times.index:\n",
    "    for algo in times.loc[step].index:\n",
    "        print(step, algo)\n",
    "        print(times.loc[step].loc[algo])"
   ]
  },
  {
   "cell_type": "code",
   "execution_count": null,
   "metadata": {},
   "outputs": [],
   "source": [
    "table[(table[\"algorithm\"]==\"SLAYER\") & (table[\"step\"] == \"forward\")]"
   ]
  },
  {
   "cell_type": "code",
   "execution_count": null,
   "metadata": {},
   "outputs": [],
   "source": [
    "len(dataset.train_data) / dataset.batch_size"
   ]
  },
  {
   "cell_type": "code",
   "execution_count": null,
   "metadata": {},
   "outputs": [],
   "source": []
  }
 ],
 "metadata": {
  "interpreter": {
   "hash": "e6cb2531ff3209080f8ff5f4f1b83a3f6fd522559ade981afeb04664418b3902"
  },
  "kernelspec": {
   "display_name": "Python 3 (ipykernel)",
   "language": "python",
   "name": "python3"
  },
  "language_info": {
   "codemirror_mode": {
    "name": "ipython",
    "version": 3
   },
   "file_extension": ".py",
   "mimetype": "text/x-python",
   "name": "python",
   "nbconvert_exporter": "python",
   "pygments_lexer": "ipython3",
   "version": "3.8.10"
  }
 },
 "nbformat": 4,
 "nbformat_minor": 4
}
