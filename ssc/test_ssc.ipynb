{
 "cells": [
  {
   "cell_type": "code",
   "execution_count": null,
   "metadata": {},
   "outputs": [],
   "source": [
    "from ssc import SSC\n",
    "from ssc_exodus import ExodusNetwork\n",
    "from ssc_slayer import SlayerNetwork"
   ]
  },
  {
   "cell_type": "code",
   "execution_count": null,
   "metadata": {},
   "outputs": [],
   "source": [
    "dataset = SSC(\n",
    "    batch_size=64,\n",
    "    encoding_dim=100,\n",
    "    num_workers=4,\n",
    "    download_dir=\"./data\",\n",
    ")\n",
    "dataset.setup()\n",
    "trainloader = dataset.train_dataloader()\n",
    "validloader = dataset.val_dataloader()"
   ]
  },
  {
   "cell_type": "code",
   "execution_count": null,
   "metadata": {},
   "outputs": [],
   "source": [
    "next(iter(trainloader))[0].shape"
   ]
  },
  {
   "cell_type": "code",
   "execution_count": null,
   "metadata": {},
   "outputs": [],
   "source": [
    "from tqdm.auto import tqdm\n",
    "\n",
    "def cycle_through_trainloader():\n",
    "    for data, targets in tqdm(trainloader):\n",
    "        data = data.cuda()\n",
    "        targets = targets.cuda()"
   ]
  },
  {
   "cell_type": "code",
   "execution_count": null,
   "metadata": {},
   "outputs": [],
   "source": [
    "cycle_through_trainloader()"
   ]
  },
  {
   "cell_type": "code",
   "execution_count": null,
   "metadata": {},
   "outputs": [],
   "source": [
    "dict_args = dict(\n",
    "    encoding_dim=100,\n",
    "    n_hidden_layers=2,\n",
    "    hidden_dim=128,\n",
    "    tau_mem=100000.0,\n",
    "    output_dim=35,\n",
    "    spike_threshold=1.,\n",
    "    learning_rate=1e-3,\n",
    "    width_grad=1.,\n",
    "    scale_grad=1.,\n",
    "    decoding_func='max_over_time',\n",
    ")\n",
    "slayer_model = SlayerNetwork(**dict_args, n_time_bins=250).cuda()\n",
    "init_weights = slayer_model.state_dict()\n",
    "\n",
    "exodus_model = ExodusNetwork(**dict_args, init_weights=init_weights).cuda()\n",
    "\n",
    "sinabs_model = ExodusNetwork(**dict_args, init_weights=init_weights, backend='sinabs').cuda()\n"
   ]
  },
  {
   "cell_type": "code",
   "execution_count": null,
   "metadata": {},
   "outputs": [],
   "source": [
    "from time import time\n",
    "\n",
    "times = {\"EXODUS\": [], \"SLAYER\": [], \"BPTT\": []}\n",
    "\n",
    "for name, model in zip([\"BPTT\", \"EXODUS\"], [sinabs_model, exodus_model]):\n",
    "    for i in tqdm(range(3)):\n",
    "        t0 = time()\n",
    "        for data, target in tqdm(trainloader):        \n",
    "            data = data.cuda()\n",
    "            target = target.cuda()\n",
    "            model.reset_states()\n",
    "            y_hat = model(data)\n",
    "            y_hat.sum().backward()\n",
    "        times[name].append(time()-t0)"
   ]
  },
  {
   "cell_type": "code",
   "execution_count": null,
   "metadata": {},
   "outputs": [],
   "source": [
    "for i in tqdm(range(3)):\n",
    "    t0 = time()\n",
    "    for data, target in tqdm(trainloader):\n",
    "        data = data.cuda()\n",
    "        target = target.cuda()\n",
    "        y_hat = slayer_model(data)\n",
    "        y_hat.sum().backward()\n",
    "    times[\"SLAYER\"].append(time()-t0)"
   ]
  },
  {
   "cell_type": "code",
   "execution_count": null,
   "metadata": {},
   "outputs": [],
   "source": [
    "import numpy as np\n",
    "for model, ts in times.items():\n",
    "    t = np.array(ts)\n",
    "    print(f\"{model}: ({np.mean(t)} +- {np.std(t)}) s\")\n",
    "    # np.save(f\"timings_{model}.npy\", t)"
   ]
  },
  {
   "cell_type": "code",
   "execution_count": null,
   "metadata": {
    "tags": []
   },
   "outputs": [],
   "source": [
    "import pandas as pd"
   ]
  },
  {
   "cell_type": "code",
   "execution_count": null,
   "metadata": {},
   "outputs": [],
   "source": [
    "pd.DataFrame(times).to_csv(\"times.csv\")"
   ]
  },
  {
   "cell_type": "code",
   "execution_count": null,
   "metadata": {},
   "outputs": [],
   "source": [
    "60+6 - 22 / 23 - 22"
   ]
  }
 ],
 "metadata": {
  "interpreter": {
   "hash": "e6cb2531ff3209080f8ff5f4f1b83a3f6fd522559ade981afeb04664418b3902"
  },
  "kernelspec": {
   "display_name": "Python 3 (ipykernel)",
   "language": "python",
   "name": "python3"
  },
  "language_info": {
   "codemirror_mode": {
    "name": "ipython",
    "version": 3
   },
   "file_extension": ".py",
   "mimetype": "text/x-python",
   "name": "python",
   "nbconvert_exporter": "python",
   "pygments_lexer": "ipython3",
   "version": "3.8.10"
  }
 },
 "nbformat": 4,
 "nbformat_minor": 4
}
