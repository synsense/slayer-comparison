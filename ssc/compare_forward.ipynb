{
 "cells": [
  {
   "cell_type": "code",
   "execution_count": 1,
   "metadata": {},
   "outputs": [],
   "source": [
    "from ssc_exodus import ExodusNetwork\n",
    "from ssc_slayer import SlayerNetwork\n",
    "import torch\n",
    "import matplotlib.pyplot as plt\n",
    "import torch.nn as nn"
   ]
  },
  {
   "cell_type": "code",
   "execution_count": 2,
   "metadata": {},
   "outputs": [],
   "source": [
    "batch_size = 4\n",
    "kw_args = dict(\n",
    "    learning_rate = 1e-3,\n",
    "    tau_mem = 100.,\n",
    "    spike_threshold = 0.1,\n",
    "    width_grad = 1.,\n",
    "    scale_grad = 1.,\n",
    "    n_hidden_layers = 2,\n",
    "    encoding_dim = 100,\n",
    "    hidden_dim = 128,\n",
    "    decoding_func = 'max_over_time'\n",
    ")\n",
    "n_time_bins = 250\n",
    "\n",
    "\n",
    "slayer_model = SlayerNetwork(\n",
    "    **kw_args,\n",
    "    n_time_bins=n_time_bins,\n",
    ").cuda()\n",
    "\n",
    "init_weights = slayer_model.state_dict()\n",
    "\n",
    "exodus_model = ExodusNetwork(\n",
    "    **kw_args,\n",
    "    init_weights=init_weights,\n",
    ").cuda()"
   ]
  },
  {
   "cell_type": "code",
   "execution_count": 3,
   "metadata": {},
   "outputs": [
    {
     "data": {
      "text/plain": [
       "tensor(29986., device='cuda:0')"
      ]
     },
     "execution_count": 3,
     "metadata": {},
     "output_type": "execute_result"
    }
   ],
   "source": [
    "dummy_input = (torch.rand((batch_size, n_time_bins, kw_args['encoding_dim'])) < 0.3).float().cuda()\n",
    "dummy_input.sum()"
   ]
  },
  {
   "cell_type": "code",
   "execution_count": 4,
   "metadata": {},
   "outputs": [
    {
     "name": "stdout",
     "output_type": "stream",
     "text": [
      "shape: torch.Size([4, 250, 20]), sum: 2899.641845703125\n"
     ]
    }
   ],
   "source": [
    "exodus_model.reset_states()\n",
    "exodus_output = exodus_model(dummy_input)\n",
    "print(f\"shape: {exodus_output.shape}, sum: {exodus_output.sum()}\")"
   ]
  },
  {
   "cell_type": "code",
   "execution_count": 5,
   "metadata": {},
   "outputs": [
    {
     "name": "stdout",
     "output_type": "stream",
     "text": [
      "shape: torch.Size([4, 250, 20]), sum: 2898.57470703125\n"
     ]
    }
   ],
   "source": [
    "slayer_output = slayer_model(dummy_input)\n",
    "print(f\"shape: {slayer_output.shape}, sum: {slayer_output.sum()}\")"
   ]
  },
  {
   "cell_type": "code",
   "execution_count": null,
   "metadata": {},
   "outputs": [],
   "source": []
  },
  {
   "cell_type": "code",
   "execution_count": null,
   "metadata": {},
   "outputs": [],
   "source": []
  }
 ],
 "metadata": {
  "interpreter": {
   "hash": "786676cceec4cb6cacef9817bfe5058e9b452ab7d44938fcf0da01ec94fa2a31"
  },
  "kernelspec": {
   "display_name": "Python 3 (ipykernel)",
   "language": "python",
   "name": "python3"
  },
  "language_info": {
   "codemirror_mode": {
    "name": "ipython",
    "version": 3
   },
   "file_extension": ".py",
   "mimetype": "text/x-python",
   "name": "python",
   "nbconvert_exporter": "python",
   "pygments_lexer": "ipython3",
   "version": "3.8.10"
  }
 },
 "nbformat": 4,
 "nbformat_minor": 4
}
