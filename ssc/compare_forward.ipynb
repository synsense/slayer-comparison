{
 "cells": [
  {
   "cell_type": "code",
   "execution_count": 1,
   "metadata": {},
   "outputs": [],
   "source": [
    "from ssc_exodus import ExodusNetwork\n",
    "from ssc_slayer import SlayerNetwork\n",
    "import torch\n",
    "import matplotlib.pyplot as plt\n",
    "import torch.nn as nn"
   ]
  },
  {
   "cell_type": "code",
   "execution_count": 2,
   "metadata": {},
   "outputs": [],
   "source": [
    "batch_size = 4\n",
    "kw_args = dict(\n",
    "    learning_rate = 1e-3,\n",
    "    tau_mem = 100000.,\n",
    "    spike_threshold = 1,\n",
    "    width_grad = 1.,\n",
    "    scale_grad = 1.,\n",
    "    n_hidden_layers = 2,\n",
    "    encoding_dim = 100,\n",
    "    hidden_dim = 128,\n",
    "    output_dim = 35,\n",
    "    optimizer = \"sgd\",\n",
    "    decoding_func = 'max_over_time',\n",
    "    grad_mode = True\n",
    ")\n",
    "n_time_bins = 250\n",
    "\n",
    "\n",
    "slayer_model = SlayerNetwork(\n",
    "    **kw_args,\n",
    "    n_time_bins=n_time_bins,\n",
    ").cuda()\n",
    "\n",
    "init_weights = slayer_model.state_dict()\n",
    "\n",
    "exodus_model = ExodusNetwork(\n",
    "    **kw_args,\n",
    "    init_weights=init_weights,\n",
    ").cuda()"
   ]
  },
  {
   "cell_type": "code",
   "execution_count": 3,
   "metadata": {},
   "outputs": [
    {
     "data": {
      "text/plain": [
       "tensor(29765., device='cuda:0')"
      ]
     },
     "execution_count": 3,
     "metadata": {},
     "output_type": "execute_result"
    }
   ],
   "source": [
    "dummy_input = (torch.rand((batch_size, n_time_bins, kw_args['encoding_dim'])) < 0.3).float().cuda()\n",
    "dummy_input.sum()"
   ]
  },
  {
   "cell_type": "code",
   "execution_count": 4,
   "metadata": {},
   "outputs": [
    {
     "name": "stdout",
     "output_type": "stream",
     "text": [
      "Output: 97.92607116699219 0.002797887660562992 0.04841223359107971\n",
      "shape: torch.Size([4, 250, 35]), sum: 97.92607116699219\n"
     ]
    }
   ],
   "source": [
    "exodus_model.reset_states()\n",
    "exodus_output = exodus_model(dummy_input)\n",
    "print(f\"shape: {exodus_output.shape}, sum: {exodus_output.sum()}\")"
   ]
  },
  {
   "cell_type": "code",
   "execution_count": 5,
   "metadata": {},
   "outputs": [
    {
     "name": "stdout",
     "output_type": "stream",
     "text": [
      "Output: 97.92607116699219 0.002797887660562992 0.04841223359107971\n",
      "shape: torch.Size([4, 250, 35]), sum: 97.92607116699219\n"
     ]
    }
   ],
   "source": [
    "slayer_output = slayer_model(dummy_input)\n",
    "print(f\"shape: {slayer_output.shape}, sum: {slayer_output.sum()}\")"
   ]
  },
  {
   "cell_type": "code",
   "execution_count": 6,
   "metadata": {},
   "outputs": [],
   "source": [
    "from ssc import SSC\n",
    "\n",
    "data = SSC(\n",
    "    batch_size=128,\n",
    "    encoding_dim=100,\n",
    "    num_workers=4,\n",
    "    download_dir=\"./data\",\n",
    "    shuffle=False,\n",
    ")\n",
    "data.prepare_data()\n",
    "data.setup()\n",
    "dataloader = data.train_dataloader()\n",
    "inp, *__ = next(iter(dataloader))"
   ]
  },
  {
   "cell_type": "code",
   "execution_count": 7,
   "metadata": {},
   "outputs": [
    {
     "name": "stdout",
     "output_type": "stream",
     "text": [
      "Output: 4772.669921875 0.004261312540620565 0.06951548904180527\n",
      "shape: torch.Size([128, 250, 35]), sum: 4772.669921875\n"
     ]
    }
   ],
   "source": [
    "exodus_model.reset_states()\n",
    "exodus_output = exodus_model(inp.cuda())\n",
    "print(f\"shape: {exodus_output.shape}, sum: {exodus_output.sum()}\")"
   ]
  },
  {
   "cell_type": "code",
   "execution_count": 8,
   "metadata": {},
   "outputs": [
    {
     "name": "stdout",
     "output_type": "stream",
     "text": [
      "Output: 4772.66943359375 0.004261312074959278 0.06951487064361572\n",
      "shape: torch.Size([128, 250, 35]), sum: 4772.66943359375\n"
     ]
    }
   ],
   "source": [
    "slayer_output = slayer_model(inp.cuda())\n",
    "print(f\"shape: {slayer_output.shape}, sum: {slayer_output.sum()}\")"
   ]
  },
  {
   "cell_type": "code",
   "execution_count": null,
   "metadata": {},
   "outputs": [],
   "source": []
  }
 ],
 "metadata": {
  "interpreter": {
   "hash": "786676cceec4cb6cacef9817bfe5058e9b452ab7d44938fcf0da01ec94fa2a31"
  },
  "kernelspec": {
   "display_name": "Python 3 (ipykernel)",
   "language": "python",
   "name": "python3"
  },
  "language_info": {
   "codemirror_mode": {
    "name": "ipython",
    "version": 3
   },
   "file_extension": ".py",
   "mimetype": "text/x-python",
   "name": "python",
   "nbconvert_exporter": "python",
   "pygments_lexer": "ipython3",
   "version": "3.8.10"
  }
 },
 "nbformat": 4,
 "nbformat_minor": 4
}
