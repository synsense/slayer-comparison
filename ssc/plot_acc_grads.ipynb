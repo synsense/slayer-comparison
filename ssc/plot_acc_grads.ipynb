{
 "cells": [
  {
   "cell_type": "code",
   "execution_count": 1,
   "metadata": {},
   "outputs": [],
   "source": [
    "import pandas as pd\n",
    "import seaborn as sns\n",
    "from matplotlib import pyplot as plt\n",
    "from scipy import stats\n",
    "import tensorboard as tb"
   ]
  },
  {
   "cell_type": "code",
   "execution_count": 2,
   "metadata": {},
   "outputs": [
    {
     "data": {
      "text/plain": [
       "<tensorboard.data.experimental.experiment_from_dev.ExperimentFromDev at 0x7f6b3737bd30>"
      ]
     },
     "execution_count": 2,
     "metadata": {},
     "output_type": "execute_result"
    }
   ],
   "source": [
    "experiment_id = \"HwSpIE8WRgq9BTWpyCp3tw\"\n",
    "experiment = tb.data.experimental.ExperimentFromDev(experiment_id)\n",
    "experiment"
   ]
  },
  {
   "cell_type": "code",
   "execution_count": 3,
   "metadata": {},
   "outputs": [],
   "source": [
    "df = experiment.get_scalars()"
   ]
  },
  {
   "cell_type": "code",
   "execution_count": 4,
   "metadata": {},
   "outputs": [
    {
     "name": "stdout",
     "output_type": "stream",
     "text": [
      "['ssc-exodus-100000.0/version_0' 'ssc-exodus-100000.0/version_1'\n",
      " 'ssc-exodus-100000.0/version_2' 'ssc-exodus-100000.0/version_3'\n",
      " 'ssc-exodus-100000.0/version_4' 'ssc-slayer-100000.0/version_0'\n",
      " 'ssc-slayer-100000.0/version_1' 'ssc-slayer-100000.0/version_2'\n",
      " 'ssc-slayer-100000.0/version_3' 'ssc-slayer-100000.0/version_4']\n",
      "['epoch' 'grad_2.0_norm/network.0.0.weight_epoch'\n",
      " 'grad_2.0_norm/network.0.0.weight_step'\n",
      " 'grad_2.0_norm/network.1.0.weight_epoch'\n",
      " 'grad_2.0_norm/network.1.0.weight_step'\n",
      " 'grad_2.0_norm/network.2.0.weight_epoch'\n",
      " 'grad_2.0_norm/network.2.0.weight_step'\n",
      " 'grad_2.0_norm/network.3.weight_epoch'\n",
      " 'grad_2.0_norm/network.3.weight_step' 'grad_2.0_norm_total_epoch'\n",
      " 'grad_2.0_norm_total_step' 'hp_metric' 'train_loss' 'valid_acc'\n",
      " 'valid_loss' 'grad_2.0_norm/linear_hidden.0.weight_epoch'\n",
      " 'grad_2.0_norm/linear_hidden.0.weight_step'\n",
      " 'grad_2.0_norm/linear_hidden.1.weight_epoch'\n",
      " 'grad_2.0_norm/linear_hidden.1.weight_step'\n",
      " 'grad_2.0_norm/linear_input.weight_epoch'\n",
      " 'grad_2.0_norm/linear_input.weight_step'\n",
      " 'grad_2.0_norm/linear_output.weight_epoch'\n",
      " 'grad_2.0_norm/linear_output.weight_step']\n"
     ]
    }
   ],
   "source": [
    "print(df[\"run\"].unique())\n",
    "print(df[\"tag\"].unique())"
   ]
  },
  {
   "cell_type": "code",
   "execution_count": 5,
   "metadata": {},
   "outputs": [],
   "source": [
    "dfw = df.pivot_table(\n",
    "        values=\"value\",\n",
    "        index=[\"run\", \"step\"],\n",
    "        columns=\"tag\",\n",
    "        dropna=False,\n",
    "    )\n",
    "dfw = dfw.reset_index()\n",
    "dfw.columns.name = None\n",
    "dfw.columns.names = [None for name in dfw.columns.names]"
   ]
  },
  {
   "cell_type": "code",
   "execution_count": 6,
   "metadata": {},
   "outputs": [
    {
     "name": "stdout",
     "output_type": "stream",
     "text": [
      "['ssc-exodus-100000.0/version_0' 'ssc-exodus-100000.0/version_1'\n",
      " 'ssc-exodus-100000.0/version_2' 'ssc-exodus-100000.0/version_3'\n",
      " 'ssc-exodus-100000.0/version_4' 'ssc-slayer-100000.0/version_0'\n",
      " 'ssc-slayer-100000.0/version_1' 'ssc-slayer-100000.0/version_2'\n",
      " 'ssc-slayer-100000.0/version_3' 'ssc-slayer-100000.0/version_4']\n"
     ]
    }
   ],
   "source": [
    "print(dfw[\"run\"].unique())"
   ]
  },
  {
   "cell_type": "code",
   "execution_count": 7,
   "metadata": {},
   "outputs": [],
   "source": [
    "dfw[\"step\"] = dfw[\"step\"] * dfw[\"epoch\"].max() / dfw[\"step\"].max()"
   ]
  },
  {
   "cell_type": "code",
   "execution_count": 8,
   "metadata": {},
   "outputs": [],
   "source": [
    "df_scale_1 = dfw[dfw[\"run\"].str.endswith(\"00.0/version_0\") | dfw[\"run\"].str.endswith(\"00.0/version_1\") | dfw[\"run\"].str.endswith(\"00.0/version_2\")]"
   ]
  },
  {
   "cell_type": "code",
   "execution_count": 9,
   "metadata": {},
   "outputs": [
    {
     "name": "stdout",
     "output_type": "stream",
     "text": [
      "['ssc-exodus-100000.0/version_0' 'ssc-exodus-100000.0/version_1'\n",
      " 'ssc-exodus-100000.0/version_2' 'ssc-slayer-100000.0/version_0'\n",
      " 'ssc-slayer-100000.0/version_1' 'ssc-slayer-100000.0/version_2']\n"
     ]
    }
   ],
   "source": [
    "print(df_scale_1[\"run\"].unique())"
   ]
  },
  {
   "cell_type": "code",
   "execution_count": 10,
   "metadata": {},
   "outputs": [],
   "source": [
    "method_split = df_scale_1.run.apply(lambda run: f\"{run.split('-')[1]}\".upper())\n",
    "method_split.name = None"
   ]
  },
  {
   "cell_type": "code",
   "execution_count": 11,
   "metadata": {},
   "outputs": [
    {
     "data": {
      "image/png": "[encoded data removed]",
      "text/plain": [
       "<Figure size 216x216 with 1 Axes>"
      ]
     },
     "metadata": {},
     "output_type": "display_data"
    }
   ],
   "source": [
    "sns.set(font_scale=1  , style=\"white\")\n",
    "plt.figure(figsize=(3,3))\n",
    "plot = sns.lineplot(data=df_scale_1, x=\"step\", y=\"valid_acc\", hue=method_split, style=method_split, color='black')\n",
    "plot.set(title=\" \", xlabel=\"Trained epochs\", ylabel=\"Validation accuracy\", )\n",
    "plot.axes.spines['top'].set_visible(False)\n",
    "plot.axes.spines['right'].set_visible(False)\n",
    "# plot.set_ylabel(None)\n",
    "plt.tight_layout()\n",
    "plt.savefig('ssc_accuracy.svg')"
   ]
  },
  {
   "cell_type": "code",
   "execution_count": null,
   "metadata": {},
   "outputs": [],
   "source": []
  },
  {
   "cell_type": "code",
   "execution_count": 12,
   "metadata": {},
   "outputs": [
    {
     "name": "stdout",
     "output_type": "stream",
     "text": [
      "0.5540527105331421\n",
      "0.004265639303283254\n"
     ]
    }
   ],
   "source": [
    "df_exodus_0 = dfw[dfw[\"run\"].str.endswith(\"exodus-100000.0/version_0\")]\n",
    "df_exodus_1 = dfw[dfw[\"run\"].str.endswith(\"exodus-100000.0/version_1\")]\n",
    "df_exodus_2 = dfw[dfw[\"run\"].str.endswith(\"exodus-100000.0/version_2\")]\n",
    "\n",
    "import numpy as np\n",
    "print(np.array([df_exodus_0[\"valid_acc\"].max(), df_exodus_1[\"valid_acc\"].max(), df_exodus_2[\"valid_acc\"].max()]).mean())\n",
    "print(np.array([df_exodus_0[\"valid_acc\"].max(), df_exodus_1[\"valid_acc\"].max(), df_exodus_2[\"valid_acc\"].max()]).std())"
   ]
  },
  {
   "cell_type": "code",
   "execution_count": 13,
   "metadata": {},
   "outputs": [
    {
     "name": "stdout",
     "output_type": "stream",
     "text": [
      "0.40066125988960266\n",
      "0.0085088995431631\n"
     ]
    }
   ],
   "source": [
    "df_slayer_0 = dfw[dfw[\"run\"].str.endswith(\"slayer-100000.0/version_0\")]\n",
    "df_slayer_1 = dfw[dfw[\"run\"].str.endswith(\"slayer-100000.0/version_1\")]\n",
    "df_slayer_2 = dfw[dfw[\"run\"].str.endswith(\"slayer-100000.0/version_2\")]\n",
    "\n",
    "import numpy as np\n",
    "print(np.array([df_slayer_0[\"valid_acc\"].max(), df_slayer_1[\"valid_acc\"].max(), df_slayer_2[\"valid_acc\"].max()]).mean())\n",
    "print(np.array([df_slayer_0[\"valid_acc\"].max(), df_slayer_1[\"valid_acc\"].max(), df_slayer_2[\"valid_acc\"].max()]).std())"
   ]
  },
  {
   "cell_type": "code",
   "execution_count": 14,
   "metadata": {},
   "outputs": [],
   "source": [
    "exodus_df_1 = dfw[dfw[\"run\"] == \"ssc-exodus-100000.0/version_2\"]\n",
    "exodus_df_01 = dfw[dfw[\"run\"] == \"ssc-exodus-100000.0/version_4\"]\n",
    "exodus_df_001 = dfw[dfw[\"run\"] == \"ssc-exodus-100000.0/version_3\"]\n",
    "slayer_df_1 = dfw[dfw[\"run\"] == \"ssc-slayer-100000.0/version_2\"]\n",
    "slayer_df_01 = dfw[dfw[\"run\"] == \"ssc-slayer-100000.0/version_4\"]\n",
    "slayer_df_001 = dfw[dfw[\"run\"] == \"ssc-slayer-100000.0/version_3\"]\n",
    "\n",
    "gdf = pd.DataFrame({\n",
    "    'algorithm': ['EXODUS', 'EXODUS', 'EXODUS', 'EXODUS', 'SLAYER', 'SLAYER', 'SLAYER', 'SLAYER', 'EXODUS', 'EXODUS', 'EXODUS', 'EXODUS', 'SLAYER', 'SLAYER', 'SLAYER', 'SLAYER', 'EXODUS', 'EXODUS', 'EXODUS', 'EXODUS',   'SLAYER', 'SLAYER', 'SLAYER', 'SLAYER'],\n",
    "    'Layer': [1, 2, 3, 4, 1, 2, 3, 4, 1, 2, 3, 4, 1, 2, 3, 4, 1, 2, 3, 4, 1, 2, 3, 4],\n",
    "    'Gradient scaling': [1, 1, 1, 1, 1, 1, 1, 1, 0.1, 0.1, 0.1, 0.1, 0.1, 0.1, 0.1, 0.1, 0.01, 0.01, 0.01, 0.01, 0.01, 0.01, 0.01, 0.01],\n",
    "    'Mean 2-norm': [\n",
    "        exodus_df_1[\"grad_2.0_norm/network.0.0.weight_epoch\"].mean(),\n",
    "        exodus_df_1[\"grad_2.0_norm/network.1.0.weight_epoch\"].mean(),\n",
    "        exodus_df_1[\"grad_2.0_norm/network.2.0.weight_epoch\"].mean(),\n",
    "        exodus_df_1[\"grad_2.0_norm/network.3.weight_epoch\"].mean(),\n",
    "        slayer_df_1[\"grad_2.0_norm/linear_input.weight_epoch\"].mean(),\n",
    "        slayer_df_1[\"grad_2.0_norm/linear_hidden.0.weight_epoch\"].mean(),\n",
    "        slayer_df_1[\"grad_2.0_norm/linear_hidden.1.weight_epoch\"].mean(),\n",
    "        slayer_df_1[\"grad_2.0_norm/linear_output.weight_epoch\"].mean(),\n",
    "        exodus_df_01[\"grad_2.0_norm/network.0.0.weight_epoch\"].mean(),\n",
    "        exodus_df_01[\"grad_2.0_norm/network.1.0.weight_epoch\"].mean(),\n",
    "        exodus_df_01[\"grad_2.0_norm/network.2.0.weight_epoch\"].mean(),\n",
    "        exodus_df_01[\"grad_2.0_norm/network.3.weight_epoch\"].mean(),\n",
    "        slayer_df_01[\"grad_2.0_norm/linear_input.weight_epoch\"].mean(),\n",
    "        slayer_df_01[\"grad_2.0_norm/linear_hidden.0.weight_epoch\"].mean(),\n",
    "        slayer_df_01[\"grad_2.0_norm/linear_hidden.1.weight_epoch\"].mean(),\n",
    "        slayer_df_01[\"grad_2.0_norm/linear_output.weight_epoch\"].mean(),\n",
    "        exodus_df_001[\"grad_2.0_norm/network.0.0.weight_epoch\"].mean(),\n",
    "        exodus_df_001[\"grad_2.0_norm/network.1.0.weight_epoch\"].mean(),\n",
    "        exodus_df_001[\"grad_2.0_norm/network.2.0.weight_epoch\"].mean(),\n",
    "        exodus_df_001[\"grad_2.0_norm/network.3.weight_epoch\"].mean(),\n",
    "        slayer_df_001[\"grad_2.0_norm/linear_input.weight_epoch\"].mean(),\n",
    "        slayer_df_001[\"grad_2.0_norm/linear_hidden.0.weight_epoch\"].mean(),\n",
    "        slayer_df_001[\"grad_2.0_norm/linear_hidden.1.weight_epoch\"].mean(),\n",
    "        slayer_df_001[\"grad_2.0_norm/linear_output.weight_epoch\"].mean(),\n",
    "        ]\n",
    "})\n",
    "# gdf"
   ]
  },
  {
   "cell_type": "code",
   "execution_count": 15,
   "metadata": {},
   "outputs": [
    {
     "data": {
      "image/png": "[encoded data removed]",
      "text/plain": [
       "<Figure size 345.6x216 with 2 Axes>"
      ]
     },
     "metadata": {},
     "output_type": "display_data"
    }
   ],
   "source": [
    "sns.set(font_scale=1, style=\"white\")\n",
    "hue_kw_args = {\"marker\" : [\"v\", \"X\", \"o\",]}\n",
    "g = sns.FacetGrid(gdf, col=\"algorithm\", hue=\"Gradient scaling\", hue_kws=hue_kw_args, height=3, aspect=0.8, legend_out=False)\n",
    "g.map(plt.plot, \"Layer\", \"Mean 2-norm\", linestyle=\"-\", markersize=10, color='black')\n",
    "g.set_titles('{col_name}')\n",
    "axes = g.axes[0]\n",
    "axes[0].legend(title=\"Surrogate scale\")\n",
    "axes[0].set_ylabel(\"Mean gradient 2-norm\")\n",
    "for line in axes[0].get_lines():\n",
    "    line.set_color('C0')\n",
    "for line in axes[1].get_lines():\n",
    "    line.set_color(\"C1\")\n",
    "plt.yscale(\"log\")\n",
    "plt.tight_layout()\n",
    "plt.savefig(f\"ssc_mean_gradnorm.svg\")"
   ]
  },
  {
   "cell_type": "code",
   "execution_count": null,
   "metadata": {},
   "outputs": [],
   "source": []
  },
  {
   "cell_type": "code",
   "execution_count": 16,
   "metadata": {},
   "outputs": [
    {
     "data": {
      "image/png": "[encoded data removed]",
      "text/plain": [
       "<Figure size 180x216 with 1 Axes>"
      ]
     },
     "metadata": {},
     "output_type": "display_data"
    }
   ],
   "source": [
    "# index = ['SSC']    \n",
    "\n",
    "bptt = [6*60+4]\n",
    "\n",
    "slayer = [60+6]\n",
    "\n",
    "exodus = [23]\n",
    "\n",
    "data = [6*60+4, 60+6, 23]\n",
    "df = pd.DataFrame(data , index=['BPTT', 'SLAYER', 'EXODUS'])\n",
    "\n",
    "ax = df.plot.bar(figsize=(2.5,3))\n",
    "ax.set_ylabel(\"Time / epoch (s)\")\n",
    "ax.set_xticklabels(ax.get_xticklabels(), rotation=20)\n",
    "ax.get_legend().remove()\n",
    "ax.spines['top'].set_visible(False)\n",
    "ax.spines['right'].set_visible(False)\n",
    "\n",
    "plt.tight_layout()\n",
    "plt.savefig(\"ssc_time.svg\")"
   ]
  },
  {
   "cell_type": "code",
   "execution_count": 17,
   "metadata": {},
   "outputs": [
    {
     "name": "stderr",
     "output_type": "stream",
     "text": [
      "/tmp/ipykernel_306/419116025.py:8: UserWarning: FixedFormatter should only be used together with FixedLocator\n",
      "  ax.set_xticklabels(['BPTT', 'SLAYER', 'EXODUS'], rotation=20)\n"
     ]
    },
    {
     "data": {
      "image/png": "[encoded data removed]",
      "text/plain": [
       "<Figure size 180x216 with 1 Axes>"
      ]
     },
     "metadata": {},
     "output_type": "display_data"
    }
   ],
   "source": [
    "fig = plt.figure(figsize=(2.5, 3))\n",
    "barlist=plt.bar(['BPTT', 'SLAYER', 'EXODUS'], [6*60+4, 60+6, 23]) #, width=1)\n",
    "barlist[0].set_color('C2')\n",
    "barlist[1].set_color('C1')\n",
    "barlist[2].set_color('C0')\n",
    "\n",
    "ax = fig.get_axes()[0]\n",
    "ax.set_xticklabels(['BPTT', 'SLAYER', 'EXODUS'], rotation=20)\n",
    "ax.set_ylabel(\"Time / epoch (s)\")\n",
    "ax.spines['top'].set_visible(False)\n",
    "ax.spines['right'].set_visible(False)\n",
    "plt.tight_layout()\n",
    "plt.savefig(\"ssc_time.svg\")\n"
   ]
  },
  {
   "cell_type": "code",
   "execution_count": null,
   "metadata": {},
   "outputs": [],
   "source": []
  }
 ],
 "metadata": {
  "interpreter": {
   "hash": "65b6f4b806bbaf5b54d6ccaa27abf7e5307b1f0e4411e9da36d5256169cebdd7"
  },
  "kernelspec": {
   "display_name": "Python 3 (ipykernel)",
   "language": "python",
   "name": "python3"
  },
  "language_info": {
   "codemirror_mode": {
    "name": "ipython",
    "version": 3
   },
   "file_extension": ".py",
   "mimetype": "text/x-python",
   "name": "python",
   "nbconvert_exporter": "python",
   "pygments_lexer": "ipython3",
   "version": "3.8.10"
  }
 },
 "nbformat": 4,
 "nbformat_minor": 4
}
