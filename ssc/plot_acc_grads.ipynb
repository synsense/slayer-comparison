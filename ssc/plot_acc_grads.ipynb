{
 "cells": [
  {
   "cell_type": "code",
   "execution_count": null,
   "metadata": {},
   "outputs": [],
   "source": [
    "import pandas as pd\n",
    "from matplotlib import pyplot as plt\n",
    "import seaborn as sns\n",
    "from scipy import stats\n",
    "import tensorboard as tb"
   ]
  },
  {
   "cell_type": "code",
   "execution_count": null,
   "metadata": {},
   "outputs": [],
   "source": [
    "experiment_id = \"MY5y2vC6SWuRQRQwXy83ZA\"\n",
    "experiment = tb.data.experimental.ExperimentFromDev(experiment_id)\n",
    "experiment"
   ]
  },
  {
   "cell_type": "code",
   "execution_count": null,
   "metadata": {},
   "outputs": [],
   "source": [
    "df = experiment.get_scalars()"
   ]
  },
  {
   "cell_type": "code",
   "execution_count": null,
   "metadata": {},
   "outputs": [],
   "source": [
    "print(df[\"run\"].unique())\n",
    "print(df[\"tag\"].unique())"
   ]
  },
  {
   "cell_type": "code",
   "execution_count": null,
   "metadata": {},
   "outputs": [],
   "source": [
    "dfw = df.pivot_table(\n",
    "        values=\"value\",\n",
    "        index=[\"run\", \"step\"],\n",
    "        columns=\"tag\",\n",
    "        dropna=False,\n",
    "    )\n",
    "dfw = dfw.reset_index()\n",
    "dfw.columns.name = None\n",
    "dfw.columns.names = [None for name in dfw.columns.names]"
   ]
  },
  {
   "cell_type": "code",
   "execution_count": null,
   "metadata": {},
   "outputs": [],
   "source": [
    "print(dfw[\"run\"].unique())"
   ]
  },
  {
   "cell_type": "code",
   "execution_count": null,
   "metadata": {},
   "outputs": [],
   "source": [
    "dfw[\"step\"] = dfw[\"step\"] * dfw[\"epoch\"].max() / dfw[\"step\"].max()"
   ]
  },
  {
   "cell_type": "code",
   "execution_count": null,
   "metadata": {},
   "outputs": [],
   "source": [
    "df_scale_1 = dfw[dfw[\"run\"].str.endswith(\"00.0-1.0/version_0\") | dfw[\"run\"].str.endswith(\"00.0-1.0/version_1\") | dfw[\"run\"].str.endswith(\"00.0-1.0/version_2\")]"
   ]
  },
  {
   "cell_type": "code",
   "execution_count": null,
   "metadata": {},
   "outputs": [],
   "source": [
    "print(df_scale_1[\"run\"].unique())"
   ]
  },
  {
   "cell_type": "code",
   "execution_count": null,
   "metadata": {},
   "outputs": [],
   "source": [
    "method_split = df_scale_1.run.apply(lambda run: f\"{run.split('-')[1]}\".upper())\n",
    "method_split.name = None"
   ]
  },
  {
   "cell_type": "code",
   "execution_count": null,
   "metadata": {},
   "outputs": [],
   "source": [
    "plt.figure(figsize=(4.8, 4.8))\n",
    "sns.set(font_scale=1.5, style=\"white\")\n",
    "sns.lineplot(data=df_scale_1, x=\"step\", y=\"valid_acc\", style=method_split, color='black').set(title=\"Validation accuracy\", ylabel=\"Accuracy (%)\", xlabel=\"Trained epochs\")\n",
    "plt.tight_layout()\n",
    "plt.savefig('hsd_accuracy.svg')"
   ]
  },
  {
   "cell_type": "code",
   "execution_count": null,
   "metadata": {},
   "outputs": [],
   "source": [
    "df_multi_scale = dfw[dfw[\"run\"].str.endswith(\"00.0-1.0/version_0\") | dfw[\"run\"].str.endswith(\"00.0-0.1/version_0\") | dfw[\"run\"].str.endswith(\"00.0-0.01/version_0\")]\n",
    "print(df_multi_scale[\"run\"].unique())"
   ]
  },
  {
   "cell_type": "code",
   "execution_count": null,
   "metadata": {},
   "outputs": [],
   "source": [
    "exodus_df_1 = df_multi_scale[df_multi_scale[\"run\"] == \"hsd-exodus-100000.0-1.0/version_0\"]\n",
    "exodus_df_01 = df_multi_scale[df_multi_scale[\"run\"] == \"hsd-exodus-100000.0-0.1/version_0\"]\n",
    "exodus_df_001 = df_multi_scale[df_multi_scale[\"run\"] == \"hsd-exodus-100000.0-0.01/version_0\"]\n",
    "slayer_df_1 = df_multi_scale[df_multi_scale[\"run\"] == \"hsd-slayer-100000.0-1.0/version_0\"]\n",
    "slayer_df_01 = df_multi_scale[df_multi_scale[\"run\"] == \"hsd-slayer-100000.0-0.1/version_0\"]\n",
    "slayer_df_001 = df_multi_scale[df_multi_scale[\"run\"] == \"hsd-slayer-100000.0-0.01/version_0\"]\n",
    "\n",
    "gdf = pd.DataFrame({\n",
    "    'algorithm': ['EXODUS', 'EXODUS', 'EXODUS', 'EXODUS', 'SLAYER', 'SLAYER', 'SLAYER', 'SLAYER', 'EXODUS', 'EXODUS', 'EXODUS', 'EXODUS', 'SLAYER', 'SLAYER', 'SLAYER', 'SLAYER', 'EXODUS', 'EXODUS', 'EXODUS', 'EXODUS',   'SLAYER', 'SLAYER', 'SLAYER', 'SLAYER'],\n",
    "    'Layer': [1, 2, 3, 4, 1, 2, 3, 4, 1, 2, 3, 4, 1, 2, 3, 4, 1, 2, 3, 4, 1, 2, 3, 4],\n",
    "    'Gradient scaling': [1, 1, 1, 1, 1, 1, 1, 1, 0.1, 0.1, 0.1, 0.1, 0.1, 0.1, 0.1, 0.1, 0.01, 0.01, 0.01, 0.01, 0.01, 0.01, 0.01, 0.01],\n",
    "    'Mean 2-norm': [\n",
    "        exodus_df_1[\"grad_2.0_norm/network.0.0.weight_epoch\"].mean(),\n",
    "        exodus_df_1[\"grad_2.0_norm/network.1.0.weight_epoch\"].mean(),\n",
    "        exodus_df_1[\"grad_2.0_norm/network.2.0.weight_epoch\"].mean(),\n",
    "        exodus_df_1[\"grad_2.0_norm/network.3.weight_epoch\"].mean(),\n",
    "        slayer_df_1[\"grad_2.0_norm/linear_input.weight_epoch\"].mean(),\n",
    "        slayer_df_1[\"grad_2.0_norm/linear_hidden.0.weight_epoch\"].mean(),\n",
    "        slayer_df_1[\"grad_2.0_norm/linear_hidden.1.weight_epoch\"].mean(),\n",
    "        slayer_df_1[\"grad_2.0_norm/linear_output.weight_epoch\"].mean(),\n",
    "        exodus_df_01[\"grad_2.0_norm/network.0.0.weight_epoch\"].mean(),\n",
    "        exodus_df_01[\"grad_2.0_norm/network.1.0.weight_epoch\"].mean(),\n",
    "        exodus_df_01[\"grad_2.0_norm/network.2.0.weight_epoch\"].mean(),\n",
    "        exodus_df_01[\"grad_2.0_norm/network.3.weight_epoch\"].mean(),\n",
    "        slayer_df_01[\"grad_2.0_norm/linear_input.weight_epoch\"].mean(),\n",
    "        slayer_df_01[\"grad_2.0_norm/linear_hidden.0.weight_epoch\"].mean(),\n",
    "        slayer_df_01[\"grad_2.0_norm/linear_hidden.1.weight_epoch\"].mean(),\n",
    "        slayer_df_01[\"grad_2.0_norm/linear_output.weight_epoch\"].mean(),\n",
    "        exodus_df_001[\"grad_2.0_norm/network.0.0.weight_epoch\"].mean(),\n",
    "        exodus_df_001[\"grad_2.0_norm/network.1.0.weight_epoch\"].mean(),\n",
    "        exodus_df_001[\"grad_2.0_norm/network.2.0.weight_epoch\"].mean(),\n",
    "        exodus_df_001[\"grad_2.0_norm/network.3.weight_epoch\"].mean(),\n",
    "        slayer_df_001[\"grad_2.0_norm/linear_input.weight_epoch\"].mean(),\n",
    "        slayer_df_001[\"grad_2.0_norm/linear_hidden.0.weight_epoch\"].mean(),\n",
    "        slayer_df_001[\"grad_2.0_norm/linear_hidden.1.weight_epoch\"].mean(),\n",
    "        slayer_df_001[\"grad_2.0_norm/linear_output.weight_epoch\"].mean(),\n",
    "        ]\n",
    "})\n",
    "gdf"
   ]
  },
  {
   "cell_type": "code",
   "execution_count": null,
   "metadata": {},
   "outputs": [],
   "source": [
    "sns.set(font_scale=0.9, style=\"white\")\n",
    "plt.figure(figsize=(4, 8))\n",
    "g = sns.FacetGrid(gdf, col=\"algorithm\", hue=\"Gradient scaling\", palette='flare')\n",
    "g.map(plt.plot, \"Layer\", \"Mean 2-norm\", linestyle=\"-\", marker=\"o\")\n",
    "g.set_titles(\"{col_name}\")\n",
    "plt.suptitle(\"Gradient norms\")\n",
    "plt.legend(bbox_to_anchor=(1.05, 1), loc=2, borderaxespad=0.0)\n",
    "plt.yscale(\"log\")\n",
    "# for ax in g.axes.flatten():\n",
    "#     ax.set_xticklabels(ax.get_xticklabels(), rotation=45)\n",
    "plt.legend(bbox_to_anchor=(1.05, 1), loc=2, borderaxespad=0.0, title=\"Surrogate scale\")\n",
    "plt.tight_layout()\n",
    "# plt.subplots_adjust(top=0.8)\n",
    "plt.savefig(f\"hsd_mean_gradnorm.svg\")"
   ]
  },
  {
   "cell_type": "code",
   "execution_count": null,
   "metadata": {},
   "outputs": [],
   "source": []
  }
 ],
 "metadata": {
  "interpreter": {
   "hash": "65b6f4b806bbaf5b54d6ccaa27abf7e5307b1f0e4411e9da36d5256169cebdd7"
  },
  "kernelspec": {
   "display_name": "Python 3.9.7 ('base')",
   "language": "python",
   "name": "python3"
  },
  "language_info": {
   "codemirror_mode": {
    "name": "ipython",
    "version": 3
   },
   "file_extension": ".py",
   "mimetype": "text/x-python",
   "name": "python",
   "nbconvert_exporter": "python",
   "pygments_lexer": "ipython3",
   "version": "3.9.7"
  },
  "orig_nbformat": 4
 },
 "nbformat": 4,
 "nbformat_minor": 2
}
