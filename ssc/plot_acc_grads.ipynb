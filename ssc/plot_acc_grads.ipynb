{
 "cells": [
  {
   "cell_type": "code",
   "execution_count": null,
   "metadata": {},
   "outputs": [],
   "source": [
    "import pandas as pd\n",
    "import seaborn as sns\n",
    "from matplotlib import pyplot as plt\n",
    "from scipy import stats\n",
    "import tensorboard as tb"
   ]
  },
  {
   "cell_type": "code",
   "execution_count": null,
   "metadata": {},
   "outputs": [],
   "source": [
    "experiment_id = \"HwSpIE8WRgq9BTWpyCp3tw\"\n",
    "experiment = tb.data.experimental.ExperimentFromDev(experiment_id)\n",
    "experiment"
   ]
  },
  {
   "cell_type": "code",
   "execution_count": null,
   "metadata": {},
   "outputs": [],
   "source": [
    "df = experiment.get_scalars()"
   ]
  },
  {
   "cell_type": "code",
   "execution_count": null,
   "metadata": {},
   "outputs": [],
   "source": [
    "print(df[\"run\"].unique())\n",
    "print(df[\"tag\"].unique())"
   ]
  },
  {
   "cell_type": "code",
   "execution_count": null,
   "metadata": {},
   "outputs": [],
   "source": [
    "dfw = df.pivot_table(\n",
    "        values=\"value\",\n",
    "        index=[\"run\", \"step\"],\n",
    "        columns=\"tag\",\n",
    "        dropna=False,\n",
    "    )\n",
    "dfw = dfw.reset_index()\n",
    "dfw.columns.name = None\n",
    "dfw.columns.names = [None for name in dfw.columns.names]"
   ]
  },
  {
   "cell_type": "code",
   "execution_count": null,
   "metadata": {},
   "outputs": [],
   "source": [
    "print(dfw[\"run\"].unique())"
   ]
  },
  {
   "cell_type": "code",
   "execution_count": null,
   "metadata": {},
   "outputs": [],
   "source": [
    "dfw[\"step\"] = dfw[\"step\"] * dfw[\"epoch\"].max() / dfw[\"step\"].max()"
   ]
  },
  {
   "cell_type": "code",
   "execution_count": null,
   "metadata": {},
   "outputs": [],
   "source": [
    "df_scale_1 = dfw[dfw[\"run\"].str.endswith(\"00.0/version_0\") | dfw[\"run\"].str.endswith(\"00.0/version_1\") | dfw[\"run\"].str.endswith(\"00.0/version_2\")]"
   ]
  },
  {
   "cell_type": "code",
   "execution_count": null,
   "metadata": {},
   "outputs": [],
   "source": [
    "print(df_scale_1[\"run\"].unique())"
   ]
  },
  {
   "cell_type": "code",
   "execution_count": null,
   "metadata": {},
   "outputs": [],
   "source": [
    "method_split = df_scale_1.run.apply(lambda run: f\"{run.split('-')[1]}\".upper())\n",
    "method_split.name = None"
   ]
  },
  {
   "cell_type": "code",
   "execution_count": null,
   "metadata": {},
   "outputs": [],
   "source": [
    "sns.set(font_scale=1  , style=\"white\")\n",
    "plt.figure(figsize=(3,3))\n",
    "plot = sns.lineplot(data=df_scale_1, x=\"step\", y=\"valid_acc\", hue=method_split, style=method_split, color='black')\n",
    "plot.set(title=\" \", xlabel=\"Trained epochs\", ylabel=\"Validation accuracy\", )\n",
    "plot.axes.spines['top'].set_visible(False)\n",
    "plot.axes.spines['right'].set_visible(False)\n",
    "# plot.set_ylabel(None)\n",
    "plt.tight_layout()\n",
    "plt.savefig('ssc_accuracy.svg')"
   ]
  },
  {
   "cell_type": "code",
   "execution_count": null,
   "metadata": {},
   "outputs": [],
   "source": [
    "plot.axes.set_ylabel(None)"
   ]
  },
  {
   "cell_type": "code",
   "execution_count": null,
   "metadata": {},
   "outputs": [],
   "source": []
  },
  {
   "cell_type": "code",
   "execution_count": null,
   "metadata": {},
   "outputs": [],
   "source": [
    "exodus_df_1 = dfw[dfw[\"run\"] == \"ssc-exodus-100000.0/version_2\"]\n",
    "exodus_df_01 = dfw[dfw[\"run\"] == \"ssc-exodus-100000.0/version_4\"]\n",
    "exodus_df_001 = dfw[dfw[\"run\"] == \"ssc-exodus-100000.0/version_3\"]\n",
    "slayer_df_1 = dfw[dfw[\"run\"] == \"ssc-slayer-100000.0/version_2\"]\n",
    "slayer_df_01 = dfw[dfw[\"run\"] == \"ssc-slayer-100000.0/version_4\"]\n",
    "slayer_df_001 = dfw[dfw[\"run\"] == \"ssc-slayer-100000.0/version_3\"]\n",
    "\n",
    "gdf = pd.DataFrame({\n",
    "    'algorithm': ['EXODUS', 'EXODUS', 'EXODUS', 'EXODUS', 'SLAYER', 'SLAYER', 'SLAYER', 'SLAYER', 'EXODUS', 'EXODUS', 'EXODUS', 'EXODUS', 'SLAYER', 'SLAYER', 'SLAYER', 'SLAYER', 'EXODUS', 'EXODUS', 'EXODUS', 'EXODUS',   'SLAYER', 'SLAYER', 'SLAYER', 'SLAYER'],\n",
    "    'Layer': [1, 2, 3, 4, 1, 2, 3, 4, 1, 2, 3, 4, 1, 2, 3, 4, 1, 2, 3, 4, 1, 2, 3, 4],\n",
    "    'Gradient scaling': [1, 1, 1, 1, 1, 1, 1, 1, 0.1, 0.1, 0.1, 0.1, 0.1, 0.1, 0.1, 0.1, 0.01, 0.01, 0.01, 0.01, 0.01, 0.01, 0.01, 0.01],\n",
    "    'Mean 2-norm': [\n",
    "        exodus_df_1[\"grad_2.0_norm/network.0.0.weight_epoch\"].mean(),\n",
    "        exodus_df_1[\"grad_2.0_norm/network.1.0.weight_epoch\"].mean(),\n",
    "        exodus_df_1[\"grad_2.0_norm/network.2.0.weight_epoch\"].mean(),\n",
    "        exodus_df_1[\"grad_2.0_norm/network.3.weight_epoch\"].mean(),\n",
    "        slayer_df_1[\"grad_2.0_norm/linear_input.weight_epoch\"].mean(),\n",
    "        slayer_df_1[\"grad_2.0_norm/linear_hidden.0.weight_epoch\"].mean(),\n",
    "        slayer_df_1[\"grad_2.0_norm/linear_hidden.1.weight_epoch\"].mean(),\n",
    "        slayer_df_1[\"grad_2.0_norm/linear_output.weight_epoch\"].mean(),\n",
    "        exodus_df_01[\"grad_2.0_norm/network.0.0.weight_epoch\"].mean(),\n",
    "        exodus_df_01[\"grad_2.0_norm/network.1.0.weight_epoch\"].mean(),\n",
    "        exodus_df_01[\"grad_2.0_norm/network.2.0.weight_epoch\"].mean(),\n",
    "        exodus_df_01[\"grad_2.0_norm/network.3.weight_epoch\"].mean(),\n",
    "        slayer_df_01[\"grad_2.0_norm/linear_input.weight_epoch\"].mean(),\n",
    "        slayer_df_01[\"grad_2.0_norm/linear_hidden.0.weight_epoch\"].mean(),\n",
    "        slayer_df_01[\"grad_2.0_norm/linear_hidden.1.weight_epoch\"].mean(),\n",
    "        slayer_df_01[\"grad_2.0_norm/linear_output.weight_epoch\"].mean(),\n",
    "        exodus_df_001[\"grad_2.0_norm/network.0.0.weight_epoch\"].mean(),\n",
    "        exodus_df_001[\"grad_2.0_norm/network.1.0.weight_epoch\"].mean(),\n",
    "        exodus_df_001[\"grad_2.0_norm/network.2.0.weight_epoch\"].mean(),\n",
    "        exodus_df_001[\"grad_2.0_norm/network.3.weight_epoch\"].mean(),\n",
    "        slayer_df_001[\"grad_2.0_norm/linear_input.weight_epoch\"].mean(),\n",
    "        slayer_df_001[\"grad_2.0_norm/linear_hidden.0.weight_epoch\"].mean(),\n",
    "        slayer_df_001[\"grad_2.0_norm/linear_hidden.1.weight_epoch\"].mean(),\n",
    "        slayer_df_001[\"grad_2.0_norm/linear_output.weight_epoch\"].mean(),\n",
    "        ]\n",
    "})\n",
    "# gdf"
   ]
  },
  {
   "cell_type": "code",
   "execution_count": null,
   "metadata": {},
   "outputs": [],
   "source": [
    "sns.set(font_scale=1, style=\"white\")\n",
    "hue_kw_args = {\"marker\" : [\"v\", \"X\", \"o\",]}\n",
    "g = sns.FacetGrid(gdf, col=\"algorithm\", hue=\"Gradient scaling\", hue_kws=hue_kw_args, height=3, aspect=0.8, legend_out=False)\n",
    "g.map(plt.plot, \"Layer\", \"Mean 2-norm\", linestyle=\"-\", markersize=10, color='black')\n",
    "g.set_titles('{col_name}')\n",
    "axes = g.axes[0]\n",
    "axes[0].legend(title=\"Surrogate scale\")\n",
    "axes[0].set_ylabel(\"Mean gradient 2-norm\")\n",
    "for line in axes[0].get_lines():\n",
    "    line.set_color('C0')\n",
    "for line in axes[1].get_lines():\n",
    "    line.set_color(\"C1\")\n",
    "plt.yscale(\"log\")\n",
    "plt.tight_layout()\n",
    "plt.savefig(f\"ssc_mean_gradnorm.svg\")"
   ]
  },
  {
   "cell_type": "code",
   "execution_count": null,
   "metadata": {},
   "outputs": [],
   "source": []
  },
  {
   "cell_type": "code",
   "execution_count": null,
   "metadata": {},
   "outputs": [],
   "source": [
    "# index = ['SSC']    \n",
    "\n",
    "bptt = [6*60+4]\n",
    "\n",
    "slayer = [60+6]\n",
    "\n",
    "exodus = [23]\n",
    "\n",
    "data = [6*60+4, 60+6, 23]\n",
    "df = pd.DataFrame(data , index=['BPTT', 'SLAYER', 'EXODUS'])\n",
    "\n",
    "ax = df.plot.bar(figsize=(2.5,3))\n",
    "ax.set_ylabel(\"Time / epoch (s)\")\n",
    "ax.set_xticklabels(ax.get_xticklabels(), rotation=20)\n",
    "ax.get_legend().remove()\n",
    "ax.spines['top'].set_visible(False)\n",
    "ax.spines['right'].set_visible(False)\n",
    "\n",
    "plt.tight_layout()\n",
    "plt.savefig(\"ssc_time.svg\")"
   ]
  },
  {
   "cell_type": "code",
   "execution_count": null,
   "metadata": {},
   "outputs": [],
   "source": [
    "fig = plt.figure(figsize=(2.5, 3))\n",
    "barlist=plt.bar(['BPTT', 'SLAYER', 'EXODUS'], [6*60+4, 60+6, 23]) #, width=1)\n",
    "barlist[0].set_color('C2')\n",
    "barlist[1].set_color('C1')\n",
    "barlist[2].set_color('C0')\n",
    "\n",
    "ax = fig.get_axes()[0]\n",
    "ax.set_xticklabels(['BPTT', 'SLAYER', 'EXODUS'], rotation=20)\n",
    "ax.set_ylabel(\"Time / epoch (s)\")\n",
    "ax.spines['top'].set_visible(False)\n",
    "ax.spines['right'].set_visible(False)\n",
    "plt.tight_layout()\n",
    "plt.savefig(\"ssc_time.svg\")\n"
   ]
  }
 ],
 "metadata": {
  "interpreter": {
   "hash": "65b6f4b806bbaf5b54d6ccaa27abf7e5307b1f0e4411e9da36d5256169cebdd7"
  },
  "kernelspec": {
   "display_name": "Python 3.9.7 ('base')",
   "language": "python",
   "name": "python3"
  },
  "language_info": {
   "codemirror_mode": {
    "name": "ipython",
    "version": 3
   },
   "file_extension": ".py",
   "mimetype": "text/x-python",
   "name": "python",
   "nbconvert_exporter": "python",
   "pygments_lexer": "ipython3",
   "version": "3.9.7"
  },
  "orig_nbformat": 4
 },
 "nbformat": 4,
 "nbformat_minor": 2
}
