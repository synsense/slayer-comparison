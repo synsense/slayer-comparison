{
 "cells": [
  {
   "cell_type": "code",
   "execution_count": null,
   "metadata": {},
   "outputs": [],
   "source": [
    "from pathlib import Path\n",
    "from tbparse import SummaryReader\n",
    "import pandas as pd\n",
    "import numpy as np\n",
    "import seaborn as sns\n",
    "from matplotlib import pyplot as plt\n",
    "import os\n",
    "import pickle"
   ]
  },
  {
   "cell_type": "code",
   "execution_count": null,
   "metadata": {},
   "outputs": [],
   "source": [
    "# plt.ion()\n",
    "# sns.set(font_scale=1, style=\"white\")"
   ]
  },
  {
   "cell_type": "code",
   "execution_count": null,
   "metadata": {},
   "outputs": [],
   "source": [
    "df_file = 'dataframe.pd'\n",
    "if os.path.exists(df_file):\n",
    "  with open(df_file, 'rb') as f:\n",
    "    df = pickle.load(f)\n",
    "else:\n",
    "  param_list = [\"tau_mem\", \"scale_grad\", \"width_grad\", \"optimizer\",] # \"batch_size\", \"decoding_func\", \"encoding_dim\", \"hidden_dim\", \"learning_rate\", \"n_hidden_layers\", \"spike_threshold\"\n",
    "  dfs = []\n",
    "  for root, dirs, files in os.walk(Path('lightning_logs/ssc')):\n",
    "    results = None\n",
    "    if 'hparams.yaml' in files:\n",
    "      results = SummaryReader(root, pivot=True)\n",
    "      df = results.scalars\n",
    "      hp = results.hparams\n",
    "      # drop a few columns that we don't use\n",
    "      df = df[df.columns[~df.columns.str.endswith(\"weight_epoch\") & ~df.columns.str.endswith(\"weight_step\")]]\n",
    "      df = df.drop(columns='hp_metric')\n",
    "      # add hyperparameters to table\n",
    "      df['method'] = root.split(\"/\")[2].upper() # method name, exodus or slayer\n",
    "      df['run'] = root.split(\"/\")[-1] # we ran each experiment 3 times, so version_0, 1 or 2\n",
    "      for param in param_list:\n",
    "        df[param] = hp[param][0]\n",
    "      dfs.append(df)\n",
    "  df = pd.concat(dfs, ignore_index=True)\n",
    "  df.to_pickle(df_file)"
   ]
  },
  {
   "cell_type": "code",
   "execution_count": null,
   "metadata": {},
   "outputs": [],
   "source": []
  },
  {
   "cell_type": "code",
   "execution_count": null,
   "metadata": {},
   "outputs": [],
   "source": [
    "sns.relplot(data=df[df[\"optimizer\"] == \"adam\"], x=\"step\", y=\"valid_acc\", col=\"tau_mem\", row=\"method\", hue=\"scale_grad\", kind=\"line\", palette=\"crest\")\n",
    "plt.savefig(\"results_adam.png\")"
   ]
  },
  {
   "cell_type": "code",
   "execution_count": null,
   "metadata": {},
   "outputs": [],
   "source": [
    "sns.relplot(data=df[df[\"optimizer\"] == \"sgd\"], x=\"step\", y=\"valid_acc\", col=\"tau_mem\", row=\"method\", hue=\"scale_grad\", kind=\"line\", palette=\"crest\")\n",
    "plt.savefig(\"results_sgd.png\")"
   ]
  },
  {
   "cell_type": "code",
   "execution_count": null,
   "metadata": {},
   "outputs": [],
   "source": []
  }
 ],
 "metadata": {
  "interpreter": {
   "hash": "786676cceec4cb6cacef9817bfe5058e9b452ab7d44938fcf0da01ec94fa2a31"
  },
  "kernelspec": {
   "display_name": "Python 3.9.12 ('slayer-comparison')",
   "language": "python",
   "name": "python3"
  },
  "language_info": {
   "codemirror_mode": {
    "name": "ipython",
    "version": 3
   },
   "file_extension": ".py",
   "mimetype": "text/x-python",
   "name": "python",
   "nbconvert_exporter": "python",
   "pygments_lexer": "ipython3",
   "version": "3.9.12"
  },
  "orig_nbformat": 4
 },
 "nbformat": 4,
 "nbformat_minor": 2
}
