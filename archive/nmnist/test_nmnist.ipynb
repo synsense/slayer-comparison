{
 "cells": [
  {
   "cell_type": "code",
   "execution_count": 2,
   "metadata": {},
   "outputs": [],
   "source": [
    "from nmnist_exodus import ExodusNetwork\n",
    "from nmnist import NMNIST\n",
    "import torch.nn as nn\n",
    "from torch.utils.data import Subset\n",
    "import torch\n",
    "import pytorch_lightning as pl"
   ]
  },
  {
   "cell_type": "code",
   "execution_count": null,
   "metadata": {},
   "outputs": [],
   "source": [
    "model = ExodusNetwork.load_from_checkpoint('/home/gregorlenz/Development/slayer-comparison/models/checkpoints/nmnist-step=25505-epoch=108-valid_loss=0.12.ckpt')"
   ]
  },
  {
   "cell_type": "code",
   "execution_count": null,
   "metadata": {},
   "outputs": [],
   "source": [
    "first_saccade_only=True\n",
    "n_time_bins=100\n",
    "fraction = 0.5\n",
    "dataset = NMNIST(batch_size=model.hparams.batch_size, first_saccade_only=first_saccade_only, n_time_bins=n_time_bins, fraction=fraction)"
   ]
  },
  {
   "cell_type": "code",
   "execution_count": null,
   "metadata": {},
   "outputs": [],
   "source": [
    "trainer = pl.Trainer(gpus=1)\n",
    "trainer.test(model, dataset)"
   ]
  },
  {
   "cell_type": "code",
   "execution_count": null,
   "metadata": {},
   "outputs": [],
   "source": []
  }
 ],
 "metadata": {
  "interpreter": {
   "hash": "2d6a94462a26d8ebd4c619457eae0bbe74b376cb4ab9d9397dc10b7ff341a8b0"
  },
  "kernelspec": {
   "display_name": "Python 3.9.12 ('slayer_comparison')",
   "language": "python",
   "name": "python3"
  },
  "language_info": {
   "codemirror_mode": {
    "name": "ipython",
    "version": 3
   },
   "file_extension": ".py",
   "mimetype": "text/x-python",
   "name": "python",
   "nbconvert_exporter": "python",
   "pygments_lexer": "ipython3",
   "version": "3.9.12"
  }
 },
 "nbformat": 4,
 "nbformat_minor": 2
}
