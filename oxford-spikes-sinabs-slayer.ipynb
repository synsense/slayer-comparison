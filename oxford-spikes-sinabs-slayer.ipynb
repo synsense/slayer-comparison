{
 "cells": [
  {
   "cell_type": "code",
   "execution_count": 6,
   "metadata": {},
   "outputs": [],
   "source": [
    "import torch\n",
    "import torch.nn as nn\n",
    "import numpy as np\n",
    "from torch.utils.data import DataLoader\n",
    "from data.oxford_dataset import OxfordDataset\n",
    "import matplotlib.pyplot as plt\n",
    "import sinabs\n",
    "import sinabs.activation as sa\n",
    "import sinabs.layers as sl\n",
    "import sinabs.slayer.layers as ssl"
   ]
  },
  {
   "cell_type": "code",
   "execution_count": 10,
   "metadata": {},
   "outputs": [
    {
     "name": "stdout",
     "output_type": "stream",
     "text": [
      "tau_mem: 9.491221581029905\n"
     ]
    }
   ],
   "source": [
    "threshold = 0.1\n",
    "voltage_decay = 0.1\n",
    "tau_mem = -1. / np.log(1-voltage_decay)\n",
    "print(f\"tau_mem: {tau_mem}\")\n",
    "\n",
    "\n",
    "class Network(torch.nn.Sequential):\n",
    "    def __init__(self):\n",
    "        super(Network, self).__init__(\n",
    "            nn.Linear(200, 256),\n",
    "            sl.LIF(tau_mem=tau_mem, activation_fn=sa.ActivationFunction(spike_threshold=threshold)),\n",
    "            nn.Linear(256, 200),\n",
    "            sl.LIF(tau_mem=tau_mem, activation_fn=sa.ActivationFunction(spike_threshold=threshold)),\n",
    "        )"
   ]
  },
  {
   "cell_type": "code",
   "execution_count": 11,
   "metadata": {},
   "outputs": [],
   "source": [
    "device = torch.device('cuda') \n",
    "\n",
    "net = Network().to(device)\n",
    "\n",
    "optimizer = torch.optim.Adam(net.parameters(), lr=0.001, weight_decay=1e-5)\n",
    "\n",
    "training_set = OxfordDataset()\n",
    "train_loader = DataLoader(dataset=training_set, batch_size=1)"
   ]
  },
  {
   "cell_type": "code",
   "execution_count": 12,
   "metadata": {},
   "outputs": [],
   "source": [
    "data, target = next(iter(train_loader))"
   ]
  },
  {
   "cell_type": "code",
   "execution_count": 15,
   "metadata": {},
   "outputs": [
    {
     "data": {
      "text/plain": [
       "torch.Size([1, 200, 2000])"
      ]
     },
     "execution_count": 15,
     "metadata": {},
     "output_type": "execute_result"
    }
   ],
   "source": [
    "target.shape"
   ]
  }
 ],
 "metadata": {
  "interpreter": {
   "hash": "6655b1c31fcea1a5be4a5f024c0eb8efc637aa51331bc6879b91e011208c98ab"
  },
  "kernelspec": {
   "display_name": "Python 3.9.9 64-bit ('lava': conda)",
   "language": "python",
   "name": "python3"
  },
  "language_info": {
   "codemirror_mode": {
    "name": "ipython",
    "version": 3
   },
   "file_extension": ".py",
   "mimetype": "text/x-python",
   "name": "python",
   "nbconvert_exporter": "python",
   "pygments_lexer": "ipython3",
   "version": "3.9.9"
  },
  "orig_nbformat": 4
 },
 "nbformat": 4,
 "nbformat_minor": 2
}
